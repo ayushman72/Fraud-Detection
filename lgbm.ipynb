{
 "cells": [
  {
   "cell_type": "code",
   "execution_count": 1,
   "id": "1da849db",
   "metadata": {
    "_cell_guid": "b1076dfc-b9ad-4769-8c92-a6c4dae69d19",
    "_uuid": "8f2839f25d086af736a60e9eeb907d3b93b6e0e5",
    "execution": {
     "iopub.execute_input": "2025-03-18T16:27:39.256632Z",
     "iopub.status.busy": "2025-03-18T16:27:39.256300Z",
     "iopub.status.idle": "2025-03-18T16:27:46.445864Z",
     "shell.execute_reply": "2025-03-18T16:27:46.445094Z"
    },
    "papermill": {
     "duration": 7.195245,
     "end_time": "2025-03-18T16:27:46.447410",
     "exception": false,
     "start_time": "2025-03-18T16:27:39.252165",
     "status": "completed"
    },
    "tags": []
   },
   "outputs": [],
   "source": [
    "import pandas as pd\n",
    "import numpy as np\n",
    "import gc\n",
    "import optuna\n",
    "import lightgbm as lgb\n",
    "from sklearn.preprocessing import LabelEncoder\n",
    "from sklearn.model_selection import train_test_split\n",
    "from sklearn.metrics import roc_auc_score, classification_report\n",
    "import warnings\n",
    "import joblib\n",
    "import json\n",
    "\n",
    "# Suppress warnings\n",
    "warnings.filterwarnings(\"ignore\")"
   ]
  },
  {
   "cell_type": "code",
   "execution_count": 2,
   "id": "bf774839",
   "metadata": {
    "execution": {
     "iopub.execute_input": "2025-03-18T16:27:46.453484Z",
     "iopub.status.busy": "2025-03-18T16:27:46.453011Z",
     "iopub.status.idle": "2025-03-18T16:29:15.633844Z",
     "shell.execute_reply": "2025-03-18T16:29:15.632834Z"
    },
    "papermill": {
     "duration": 89.185391,
     "end_time": "2025-03-18T16:29:15.635601",
     "exception": false,
     "start_time": "2025-03-18T16:27:46.450210",
     "status": "completed"
    },
    "tags": []
   },
   "outputs": [],
   "source": [
    "def load_data_with_scaling_encoding_dtypes():\n",
    "    # Define dtypes for train_transaction\n",
    "    dtypes_train_transaction = {\n",
    "        'TransactionID': 'int32',\n",
    "        'isFraud': 'int8',\n",
    "        'TransactionDT': 'int32',\n",
    "        'TransactionAmt': 'float32',\n",
    "        'ProductCD': 'object',\n",
    "        'card1': 'int16',\n",
    "        'card2': 'float32',\n",
    "        'card3': 'float32',\n",
    "        'card4': 'object',\n",
    "        'card5': 'float32',\n",
    "        'card6': 'object',\n",
    "        'addr1': 'float32',\n",
    "        'addr2': 'float32',\n",
    "        'dist1': 'float32',\n",
    "        'dist2': 'float32',\n",
    "        'P_emaildomain': 'object',\n",
    "        'R_emaildomain': 'object',\n",
    "        # Add all C, D, M, V features\n",
    "        **{f'C{i}': 'float32' for i in range(1, 15)},\n",
    "        **{f'D{i}': 'float32' for i in range(1, 16)},\n",
    "        **{f'M{i}': 'object' for i in range(1, 10)},\n",
    "        **{f'V{i}': 'float32' for i in range(1, 340)}\n",
    "    }\n",
    "\n",
    "    # Define dtypes for train_identity\n",
    "    dtypes_train_identity = {\n",
    "        **{f'id_{i:02}': 'float32' for i in range(1, 12)},\n",
    "        'id_12': 'object',\n",
    "        'id_13': 'float32',\n",
    "        'id_14': 'float32',\n",
    "        'id_15': 'object',\n",
    "        'id_16': 'object',\n",
    "        **{f'id_{i:02}': 'float32' for i in range(17, 40)},\n",
    "        **{f'id_{i:02}': 'object' for i in range(23, 39)},\n",
    "        'DeviceType': 'object',\n",
    "        'DeviceInfo': 'object'\n",
    "    }\n",
    "\n",
    "    # Define dtypes for test datasets\n",
    "    dtypes_test_transaction = dtypes_train_transaction.copy()\n",
    "    del dtypes_test_transaction['isFraud']  # Test data does not contain 'isFraud'\n",
    "\n",
    "    dtypes_test_identity = dtypes_train_identity.copy()\n",
    "\n",
    "    # Read in datasets with dtypes\n",
    "    train_transaction = pd.read_csv(\n",
    "        '/kaggle/input/ieee-fraud-detection/train_transaction.csv', \n",
    "        dtype=dtypes_train_transaction\n",
    "    )\n",
    "    train_identity = pd.read_csv(\n",
    "        '/kaggle/input/ieee-fraud-detection/train_identity.csv', \n",
    "        dtype=dtypes_train_identity\n",
    "    )\n",
    "    test_transaction = pd.read_csv(\n",
    "        '/kaggle/input/ieee-fraud-detection/test_transaction.csv', \n",
    "        dtype=dtypes_test_transaction\n",
    "    )\n",
    "    test_identity = pd.read_csv(\n",
    "        '/kaggle/input/ieee-fraud-detection/test_identity.csv', \n",
    "        dtype=dtypes_test_identity\n",
    "    )\n",
    "\n",
    "    # Standardize column names\n",
    "    test_identity.columns = test_identity.columns.str.replace('-', '_')\n",
    "    test_transaction.columns = test_transaction.columns.str.replace('-', '_')\n",
    "\n",
    "    # Merge datasets\n",
    "    train = train_transaction.merge(train_identity, how='left', on='TransactionID')\n",
    "    test = test_transaction.merge(test_identity, how='left', on='TransactionID')\n",
    "\n",
    "    # Free up memory\n",
    "    del train_transaction, train_identity, test_transaction, test_identity\n",
    "    gc.collect()\n",
    "\n",
    "    # Handle missing values\n",
    "    train.fillna(-999, inplace=True)\n",
    "    test.fillna(-999, inplace=True)\n",
    "\n",
    "    # Define categorical features\n",
    "    categorical_features = [\n",
    "        'ProductCD', 'card4', 'card6', 'P_emaildomain', 'R_emaildomain',\n",
    "        'M1', 'M2', 'M3', 'M4', 'M5', 'M6', 'M7', 'M8', 'M9',\n",
    "        'id_33', 'id_34', 'DeviceType', 'DeviceInfo'\n",
    "    ]\n",
    "    categorical_features += [f'id_{i}' for i in range(12, 39)]\n",
    "\n",
    "    # Encode categorical features\n",
    "    for col in categorical_features:\n",
    "        if col in train.columns:\n",
    "            train[col] = train[col].astype(str)\n",
    "            test[col] = test[col].astype(str)\n",
    "\n",
    "            le = LabelEncoder()\n",
    "            combined_data = pd.concat([train[col], test[col]], axis=0)\n",
    "            le.fit(combined_data)\n",
    "            train[col] = le.transform(train[col])\n",
    "            test[col] = le.transform(test[col])\n",
    "\n",
    "    return train, test\n",
    "\n",
    "# Load data\n",
    "train, test = load_data_with_scaling_encoding_dtypes()\n"
   ]
  },
  {
   "cell_type": "code",
   "execution_count": 3,
   "id": "d6fa2d2b",
   "metadata": {
    "execution": {
     "iopub.execute_input": "2025-03-18T16:29:15.641483Z",
     "iopub.status.busy": "2025-03-18T16:29:15.641255Z",
     "iopub.status.idle": "2025-03-18T16:29:17.937360Z",
     "shell.execute_reply": "2025-03-18T16:29:17.936603Z"
    },
    "papermill": {
     "duration": 2.300571,
     "end_time": "2025-03-18T16:29:17.938980",
     "exception": false,
     "start_time": "2025-03-18T16:29:15.638409",
     "status": "completed"
    },
    "tags": []
   },
   "outputs": [],
   "source": [
    "X = train.drop(columns=['isFraud', 'TransactionID'])\n",
    "y = train['isFraud']\n",
    "\n",
    "# Prepare test features\n",
    "X_test = test.drop(columns=['TransactionID'], errors='ignore')\n",
    "\n",
    "# Train-validation split\n",
    "X_train, X_val, y_train, y_val = train_test_split(\n",
    "    X, y, test_size=0.2, stratify=y, random_state=42\n",
    ")"
   ]
  },
  {
   "cell_type": "code",
   "execution_count": 4,
   "id": "6867cc1a",
   "metadata": {
    "execution": {
     "iopub.execute_input": "2025-03-18T16:29:17.944381Z",
     "iopub.status.busy": "2025-03-18T16:29:17.944160Z",
     "iopub.status.idle": "2025-03-18T19:06:30.167149Z",
     "shell.execute_reply": "2025-03-18T19:06:30.166231Z"
    },
    "papermill": {
     "duration": 9432.227105,
     "end_time": "2025-03-18T19:06:30.168563",
     "exception": false,
     "start_time": "2025-03-18T16:29:17.941458",
     "status": "completed"
    },
    "tags": []
   },
   "outputs": [
    {
     "name": "stderr",
     "output_type": "stream",
     "text": [
      "[I 2025-03-18 16:29:17,948] A new study created in memory with name: lightgbm_optimization\n"
     ]
    },
    {
     "name": "stdout",
     "output_type": "stream",
     "text": [
      "[Trial 0] Using GPU 0\n",
      "[Trial 1] Using GPU 1\n",
      "Training until validation scores don't improve for 100 rounds\n",
      "Training until validation scores don't improve for 100 rounds\n",
      "[100]\tvalid_0's auc: 0.907731\n",
      "[200]\tvalid_0's auc: 0.918475\n",
      "[100]\tvalid_0's auc: 0.929814\n",
      "[300]\tvalid_0's auc: 0.926024\n",
      "[400]\tvalid_0's auc: 0.932327\n",
      "[500]\tvalid_0's auc: 0.937147\n",
      "[200]\tvalid_0's auc: 0.943883\n",
      "[600]\tvalid_0's auc: 0.94078\n",
      "[700]\tvalid_0's auc: 0.943825\n",
      "[300]\tvalid_0's auc: 0.951499\n",
      "[800]\tvalid_0's auc: 0.946709\n",
      "[900]\tvalid_0's auc: 0.948857\n",
      "[400]\tvalid_0's auc: 0.956947\n",
      "[1000]\tvalid_0's auc: 0.950646\n",
      "Did not meet early stopping. Best iteration is:\n",
      "[999]\tvalid_0's auc: 0.950655\n"
     ]
    },
    {
     "name": "stderr",
     "output_type": "stream",
     "text": [
      "[I 2025-03-18 16:32:23,642] Trial 0 finished with value: 0.9506553615640345 and parameters: {'learning_rate': 0.09123496171341162, 'num_leaves': 71, 'max_depth': 5, 'min_data_in_leaf': 103, 'feature_fraction': 0.6299243860557239, 'bagging_fraction': 0.6962273914565046, 'bagging_freq': 9, 'lambda_l1': 7.203323812499265, 'lambda_l2': 7.083327496261415}. Best is trial 0 with value: 0.9506553615640345.\n"
     ]
    },
    {
     "name": "stdout",
     "output_type": "stream",
     "text": [
      "[Trial 0] Finished with AUC: 0.9507\n",
      "[Trial 2] Using GPU 0\n",
      "[500]\tvalid_0's auc: 0.960403\n",
      "Training until validation scores don't improve for 100 rounds\n",
      "[100]\tvalid_0's auc: 0.931131\n",
      "[600]\tvalid_0's auc: 0.963352\n",
      "[200]\tvalid_0's auc: 0.944753\n",
      "[700]\tvalid_0's auc: 0.965531\n",
      "[300]\tvalid_0's auc: 0.953285\n",
      "[800]\tvalid_0's auc: 0.967022\n",
      "[400]\tvalid_0's auc: 0.958537\n",
      "[900]\tvalid_0's auc: 0.968701\n",
      "[500]\tvalid_0's auc: 0.96285\n",
      "[1000]\tvalid_0's auc: 0.970001\n",
      "Did not meet early stopping. Best iteration is:\n",
      "[1000]\tvalid_0's auc: 0.970001\n"
     ]
    },
    {
     "name": "stderr",
     "output_type": "stream",
     "text": [
      "[I 2025-03-18 16:35:26,415] Trial 1 finished with value: 0.9700006458855683 and parameters: {'learning_rate': 0.0443848647948331, 'num_leaves': 137, 'max_depth': 13, 'min_data_in_leaf': 124, 'feature_fraction': 0.6289844352173104, 'bagging_fraction': 0.9341956914045235, 'bagging_freq': 1, 'lambda_l1': 0.15249529357954206, 'lambda_l2': 8.981193789256194}. Best is trial 1 with value: 0.9700006458855683.\n"
     ]
    },
    {
     "name": "stdout",
     "output_type": "stream",
     "text": [
      "[Trial 1] Finished with AUC: 0.9700\n",
      "[Trial 3] Using GPU 1\n",
      "Training until validation scores don't improve for 100 rounds\n",
      "[600]\tvalid_0's auc: 0.965344\n",
      "[100]\tvalid_0's auc: 0.879768\n",
      "[200]\tvalid_0's auc: 0.891548\n",
      "[300]\tvalid_0's auc: 0.898081\n",
      "[400]\tvalid_0's auc: 0.90242\n",
      "[700]\tvalid_0's auc: 0.967265\n",
      "[500]\tvalid_0's auc: 0.905903\n",
      "[600]\tvalid_0's auc: 0.908751\n",
      "[700]\tvalid_0's auc: 0.911489\n",
      "[800]\tvalid_0's auc: 0.913602\n",
      "[800]\tvalid_0's auc: 0.968638\n",
      "[900]\tvalid_0's auc: 0.915725\n",
      "[1000]\tvalid_0's auc: 0.917911\n",
      "Did not meet early stopping. Best iteration is:\n",
      "[1000]\tvalid_0's auc: 0.917911\n"
     ]
    },
    {
     "name": "stderr",
     "output_type": "stream",
     "text": [
      "[I 2025-03-18 16:36:58,581] Trial 3 finished with value: 0.9179113005402141 and parameters: {'learning_rate': 0.061642274683536676, 'num_leaves': 131, 'max_depth': 3, 'min_data_in_leaf': 73, 'feature_fraction': 0.7487487384447113, 'bagging_fraction': 0.6398625438351827, 'bagging_freq': 1, 'lambda_l1': 2.545291781047526, 'lambda_l2': 8.358373518656615}. Best is trial 1 with value: 0.9700006458855683.\n"
     ]
    },
    {
     "name": "stdout",
     "output_type": "stream",
     "text": [
      "[Trial 3] Finished with AUC: 0.9179\n",
      "[Trial 4] Using GPU 0\n",
      "Training until validation scores don't improve for 100 rounds\n",
      "[900]\tvalid_0's auc: 0.96957\n",
      "[100]\tvalid_0's auc: 0.882759\n",
      "[200]\tvalid_0's auc: 0.894234\n",
      "[300]\tvalid_0's auc: 0.900966\n",
      "[1000]\tvalid_0's auc: 0.97037\n",
      "Did not meet early stopping. Best iteration is:\n",
      "[1000]\tvalid_0's auc: 0.97037\n"
     ]
    },
    {
     "name": "stderr",
     "output_type": "stream",
     "text": [
      "[I 2025-03-18 16:38:09,957] Trial 2 finished with value: 0.9703704957774103 and parameters: {'learning_rate': 0.05762274913368917, 'num_leaves': 89, 'max_depth': 10, 'min_data_in_leaf': 27, 'feature_fraction': 0.8837465507397877, 'bagging_fraction': 0.7602747851973419, 'bagging_freq': 10, 'lambda_l1': 3.5254619917537964, 'lambda_l2': 0.2355671364862988}. Best is trial 2 with value: 0.9703704957774103.\n"
     ]
    },
    {
     "name": "stdout",
     "output_type": "stream",
     "text": [
      "[Trial 2] Finished with AUC: 0.9704\n",
      "[Trial 5] Using GPU 1\n",
      "[400]\tvalid_0's auc: 0.904843\n",
      "Training until validation scores don't improve for 100 rounds\n",
      "[500]\tvalid_0's auc: 0.908988\n",
      "[600]\tvalid_0's auc: 0.912059\n",
      "[100]\tvalid_0's auc: 0.902956\n",
      "[700]\tvalid_0's auc: 0.914611\n",
      "[200]\tvalid_0's auc: 0.914441\n",
      "[800]\tvalid_0's auc: 0.916996\n",
      "[900]\tvalid_0's auc: 0.919032\n",
      "[300]\tvalid_0's auc: 0.922574\n",
      "[1000]\tvalid_0's auc: 0.920747\n",
      "Did not meet early stopping. Best iteration is:\n",
      "[1000]\tvalid_0's auc: 0.920747\n"
     ]
    },
    {
     "name": "stderr",
     "output_type": "stream",
     "text": [
      "[I 2025-03-18 16:40:00,474] Trial 4 finished with value: 0.9207467116490317 and parameters: {'learning_rate': 0.07494258555190757, 'num_leaves': 85, 'max_depth': 3, 'min_data_in_leaf': 81, 'feature_fraction': 0.9193712375346662, 'bagging_fraction': 0.6708119335663655, 'bagging_freq': 5, 'lambda_l1': 3.017035215585561, 'lambda_l2': 7.6368563667324}. Best is trial 2 with value: 0.9703704957774103.\n"
     ]
    },
    {
     "name": "stdout",
     "output_type": "stream",
     "text": [
      "[Trial 4] Finished with AUC: 0.9207\n",
      "[Trial 6] Using GPU 0\n",
      "[400]\tvalid_0's auc: 0.92845\n",
      "Training until validation scores don't improve for 100 rounds\n",
      "[500]\tvalid_0's auc: 0.932701\n",
      "[100]\tvalid_0's auc: 0.910627\n",
      "[600]\tvalid_0's auc: 0.936432\n",
      "[200]\tvalid_0's auc: 0.923423\n",
      "[700]\tvalid_0's auc: 0.940172\n",
      "[300]\tvalid_0's auc: 0.931431\n",
      "[800]\tvalid_0's auc: 0.94291\n",
      "[900]\tvalid_0's auc: 0.945802\n",
      "[400]\tvalid_0's auc: 0.937686\n",
      "[1000]\tvalid_0's auc: 0.947983\n",
      "Did not meet early stopping. Best iteration is:\n",
      "[1000]\tvalid_0's auc: 0.947983\n",
      "[500]\tvalid_0's auc: 0.942839\n"
     ]
    },
    {
     "name": "stderr",
     "output_type": "stream",
     "text": [
      "[I 2025-03-18 16:42:43,638] Trial 5 finished with value: 0.947983433273997 and parameters: {'learning_rate': 0.0719532868199753, 'num_leaves': 63, 'max_depth': 5, 'min_data_in_leaf': 74, 'feature_fraction': 0.9376897042754019, 'bagging_fraction': 0.8760006941296159, 'bagging_freq': 6, 'lambda_l1': 7.304518196441094, 'lambda_l2': 9.46017206895995}. Best is trial 2 with value: 0.9703704957774103.\n"
     ]
    },
    {
     "name": "stdout",
     "output_type": "stream",
     "text": [
      "[Trial 5] Finished with AUC: 0.9480\n",
      "[Trial 7] Using GPU 1\n",
      "Training until validation scores don't improve for 100 rounds\n",
      "[600]\tvalid_0's auc: 0.946733\n",
      "[100]\tvalid_0's auc: 0.906014\n",
      "[700]\tvalid_0's auc: 0.949531\n",
      "[800]\tvalid_0's auc: 0.951757\n",
      "[200]\tvalid_0's auc: 0.921207\n",
      "[900]\tvalid_0's auc: 0.953955\n",
      "[300]\tvalid_0's auc: 0.929523\n",
      "[1000]\tvalid_0's auc: 0.955459\n",
      "Did not meet early stopping. Best iteration is:\n",
      "[999]\tvalid_0's auc: 0.955468\n"
     ]
    },
    {
     "name": "stderr",
     "output_type": "stream",
     "text": [
      "[I 2025-03-18 16:45:05,207] Trial 6 finished with value: 0.9554676707737098 and parameters: {'learning_rate': 0.09599495401720674, 'num_leaves': 21, 'max_depth': 6, 'min_data_in_leaf': 41, 'feature_fraction': 0.6899107195643764, 'bagging_fraction': 0.7716653915721439, 'bagging_freq': 3, 'lambda_l1': 5.327270846661244, 'lambda_l2': 1.4622670118164605}. Best is trial 2 with value: 0.9703704957774103.\n"
     ]
    },
    {
     "name": "stdout",
     "output_type": "stream",
     "text": [
      "[Trial 6] Finished with AUC: 0.9555\n",
      "[Trial 8] Using GPU 0\n",
      "[400]\tvalid_0's auc: 0.935922\n",
      "Training until validation scores don't improve for 100 rounds\n",
      "[500]\tvalid_0's auc: 0.939809\n",
      "[100]\tvalid_0's auc: 0.8934\n",
      "[600]\tvalid_0's auc: 0.943768\n",
      "[200]\tvalid_0's auc: 0.904946\n",
      "[700]\tvalid_0's auc: 0.946987\n",
      "[300]\tvalid_0's auc: 0.91047\n",
      "[800]\tvalid_0's auc: 0.949715\n",
      "[400]\tvalid_0's auc: 0.914968\n",
      "[900]\tvalid_0's auc: 0.952218\n",
      "[500]\tvalid_0's auc: 0.919677\n",
      "[1000]\tvalid_0's auc: 0.954012\n",
      "Did not meet early stopping. Best iteration is:\n",
      "[1000]\tvalid_0's auc: 0.954012\n",
      "[600]\tvalid_0's auc: 0.923494\n"
     ]
    },
    {
     "name": "stderr",
     "output_type": "stream",
     "text": [
      "[I 2025-03-18 16:48:18,677] Trial 7 finished with value: 0.9540116122476674 and parameters: {'learning_rate': 0.03884188253600488, 'num_leaves': 44, 'max_depth': 9, 'min_data_in_leaf': 140, 'feature_fraction': 0.8214553159838761, 'bagging_fraction': 0.9712134479155128, 'bagging_freq': 9, 'lambda_l1': 6.008747493062958, 'lambda_l2': 3.5725710409944567}. Best is trial 2 with value: 0.9703704957774103.\n"
     ]
    },
    {
     "name": "stdout",
     "output_type": "stream",
     "text": [
      "[Trial 7] Finished with AUC: 0.9540\n",
      "[Trial 9] Using GPU 1\n",
      "Training until validation scores don't improve for 100 rounds\n",
      "[700]\tvalid_0's auc: 0.926277\n",
      "[100]\tvalid_0's auc: 0.870697\n",
      "[200]\tvalid_0's auc: 0.879546\n",
      "[800]\tvalid_0's auc: 0.928917\n",
      "[300]\tvalid_0's auc: 0.885412\n",
      "[400]\tvalid_0's auc: 0.889991\n",
      "[900]\tvalid_0's auc: 0.932366\n",
      "[500]\tvalid_0's auc: 0.893418\n",
      "[1000]\tvalid_0's auc: 0.934359\n",
      "Did not meet early stopping. Best iteration is:\n",
      "[1000]\tvalid_0's auc: 0.934359\n",
      "[600]\tvalid_0's auc: 0.896639\n"
     ]
    },
    {
     "name": "stderr",
     "output_type": "stream",
     "text": [
      "[I 2025-03-18 16:50:26,350] Trial 8 finished with value: 0.9343586528790706 and parameters: {'learning_rate': 0.06715841924002224, 'num_leaves': 61, 'max_depth': 4, 'min_data_in_leaf': 181, 'feature_fraction': 0.6203335277998111, 'bagging_fraction': 0.9395374526319392, 'bagging_freq': 3, 'lambda_l1': 7.1831532829605695, 'lambda_l2': 1.3470563280451786}. Best is trial 2 with value: 0.9703704957774103.\n"
     ]
    },
    {
     "name": "stdout",
     "output_type": "stream",
     "text": [
      "[Trial 8] Finished with AUC: 0.9344\n",
      "[Trial 10] Using GPU 0\n",
      "[700]\tvalid_0's auc: 0.898928\n",
      "Training until validation scores don't improve for 100 rounds\n",
      "[800]\tvalid_0's auc: 0.901042\n",
      "[900]\tvalid_0's auc: 0.902795\n",
      "[100]\tvalid_0's auc: 0.894493\n",
      "[1000]\tvalid_0's auc: 0.904346\n",
      "Did not meet early stopping. Best iteration is:\n",
      "[1000]\tvalid_0's auc: 0.904346\n"
     ]
    },
    {
     "name": "stderr",
     "output_type": "stream",
     "text": [
      "[I 2025-03-18 16:51:23,844] Trial 9 finished with value: 0.9043458736854809 and parameters: {'learning_rate': 0.027533052490632086, 'num_leaves': 24, 'max_depth': 3, 'min_data_in_leaf': 123, 'feature_fraction': 0.6646838949426467, 'bagging_fraction': 0.7210682677856686, 'bagging_freq': 6, 'lambda_l1': 2.9501583942705354, 'lambda_l2': 0.5608304755293603}. Best is trial 2 with value: 0.9703704957774103.\n"
     ]
    },
    {
     "name": "stdout",
     "output_type": "stream",
     "text": [
      "[Trial 9] Finished with AUC: 0.9043\n",
      "[Trial 11] Using GPU 1\n",
      "Training until validation scores don't improve for 100 rounds\n",
      "[200]\tvalid_0's auc: 0.907814\n",
      "[100]\tvalid_0's auc: 0.895857\n",
      "[300]\tvalid_0's auc: 0.917517\n",
      "[400]\tvalid_0's auc: 0.924907\n",
      "[200]\tvalid_0's auc: 0.911367\n",
      "[500]\tvalid_0's auc: 0.92967\n",
      "[300]\tvalid_0's auc: 0.923623\n",
      "[600]\tvalid_0's auc: 0.933922\n",
      "[700]\tvalid_0's auc: 0.937274\n",
      "[400]\tvalid_0's auc: 0.9325\n",
      "[800]\tvalid_0's auc: 0.940073\n",
      "[500]\tvalid_0's auc: 0.938339\n",
      "[900]\tvalid_0's auc: 0.942707\n",
      "[600]\tvalid_0's auc: 0.942846\n",
      "[1000]\tvalid_0's auc: 0.944886\n",
      "Did not meet early stopping. Best iteration is:\n",
      "[1000]\tvalid_0's auc: 0.944886\n"
     ]
    },
    {
     "name": "stderr",
     "output_type": "stream",
     "text": [
      "[I 2025-03-18 16:55:45,876] Trial 10 finished with value: 0.9448862649647626 and parameters: {'learning_rate': 0.011754102037138128, 'num_leaves': 103, 'max_depth': 11, 'min_data_in_leaf': 162, 'feature_fraction': 0.9512185395424102, 'bagging_fraction': 0.6989427314351011, 'bagging_freq': 1, 'lambda_l1': 6.655708917535403, 'lambda_l2': 3.856816186190625}. Best is trial 2 with value: 0.9703704957774103.\n"
     ]
    },
    {
     "name": "stdout",
     "output_type": "stream",
     "text": [
      "[Trial 10] Finished with AUC: 0.9449\n",
      "[Trial 12] Using GPU 0\n",
      "Training until validation scores don't improve for 100 rounds\n",
      "[700]\tvalid_0's auc: 0.946514\n",
      "[100]\tvalid_0's auc: 0.934635\n",
      "[800]\tvalid_0's auc: 0.949193\n",
      "[900]\tvalid_0's auc: 0.95157\n",
      "[200]\tvalid_0's auc: 0.950232\n",
      "[1000]\tvalid_0's auc: 0.953413\n",
      "Did not meet early stopping. Best iteration is:\n",
      "[1000]\tvalid_0's auc: 0.953413\n"
     ]
    },
    {
     "name": "stderr",
     "output_type": "stream",
     "text": [
      "[I 2025-03-18 16:58:28,380] Trial 11 finished with value: 0.9534134935525812 and parameters: {'learning_rate': 0.012175345390349916, 'num_leaves': 110, 'max_depth': 15, 'min_data_in_leaf': 23, 'feature_fraction': 0.8403051902329224, 'bagging_fraction': 0.8319473906401652, 'bagging_freq': 10, 'lambda_l1': 0.34520131457941083, 'lambda_l2': 4.91660174114617}. Best is trial 2 with value: 0.9703704957774103.\n"
     ]
    },
    {
     "name": "stdout",
     "output_type": "stream",
     "text": [
      "[Trial 11] Finished with AUC: 0.9534\n",
      "[Trial 13] Using GPU 1\n",
      "[300]\tvalid_0's auc: 0.957859\n",
      "Training until validation scores don't improve for 100 rounds\n",
      "[400]\tvalid_0's auc: 0.963245\n",
      "[100]\tvalid_0's auc: 0.933119\n",
      "[500]\tvalid_0's auc: 0.966355\n",
      "[200]\tvalid_0's auc: 0.946286\n",
      "[600]\tvalid_0's auc: 0.968265\n",
      "[300]\tvalid_0's auc: 0.953188\n",
      "[400]\tvalid_0's auc: 0.959173\n",
      "[700]\tvalid_0's auc: 0.970086\n",
      "[500]\tvalid_0's auc: 0.962937\n",
      "[800]\tvalid_0's auc: 0.971277\n",
      "[600]\tvalid_0's auc: 0.965751\n",
      "[900]\tvalid_0's auc: 0.972174\n",
      "[700]\tvalid_0's auc: 0.967653\n",
      "[1000]\tvalid_0's auc: 0.972797\n",
      "Did not meet early stopping. Best iteration is:\n",
      "[1000]\tvalid_0's auc: 0.972797\n"
     ]
    },
    {
     "name": "stderr",
     "output_type": "stream",
     "text": [
      "[I 2025-03-18 17:03:43,572] Trial 12 finished with value: 0.9727974376015897 and parameters: {'learning_rate': 0.045087562317632154, 'num_leaves': 150, 'max_depth': 15, 'min_data_in_leaf': 28, 'feature_fraction': 0.8599873023987139, 'bagging_fraction': 0.8660330214303806, 'bagging_freq': 10, 'lambda_l1': 0.002652816053900775, 'lambda_l2': 5.737728434239974}. Best is trial 12 with value: 0.9727974376015897.\n"
     ]
    },
    {
     "name": "stdout",
     "output_type": "stream",
     "text": [
      "[Trial 12] Finished with AUC: 0.9728\n",
      "[Trial 14] Using GPU 0\n",
      "[800]\tvalid_0's auc: 0.968669\n",
      "Training until validation scores don't improve for 100 rounds\n",
      "[100]\tvalid_0's auc: 0.917705\n",
      "[900]\tvalid_0's auc: 0.970164\n",
      "[200]\tvalid_0's auc: 0.932682\n",
      "[1000]\tvalid_0's auc: 0.971305\n",
      "Did not meet early stopping. Best iteration is:\n",
      "[1000]\tvalid_0's auc: 0.971305\n"
     ]
    },
    {
     "name": "stderr",
     "output_type": "stream",
     "text": [
      "[I 2025-03-18 17:05:35,746] Trial 13 finished with value: 0.97130462569233 and parameters: {'learning_rate': 0.04456304023731267, 'num_leaves': 150, 'max_depth': 13, 'min_data_in_leaf': 200, 'feature_fraction': 0.8738666894581774, 'bagging_fraction': 0.8895027907572963, 'bagging_freq': 8, 'lambda_l1': 0.17884354938373215, 'lambda_l2': 6.324354006554167}. Best is trial 12 with value: 0.9727974376015897.\n"
     ]
    },
    {
     "name": "stdout",
     "output_type": "stream",
     "text": [
      "[Trial 13] Finished with AUC: 0.9713\n",
      "[Trial 15] Using GPU 1\n",
      "[300]\tvalid_0's auc: 0.941669\n",
      "Training until validation scores don't improve for 100 rounds\n",
      "[400]\tvalid_0's auc: 0.947571\n",
      "[100]\tvalid_0's auc: 0.924629\n",
      "[500]\tvalid_0's auc: 0.951635\n",
      "[600]\tvalid_0's auc: 0.955022\n",
      "[200]\tvalid_0's auc: 0.941893\n",
      "[700]\tvalid_0's auc: 0.957536\n",
      "[300]\tvalid_0's auc: 0.950179\n",
      "[800]\tvalid_0's auc: 0.959468\n",
      "[900]\tvalid_0's auc: 0.961599\n",
      "[400]\tvalid_0's auc: 0.955558\n",
      "[1000]\tvalid_0's auc: 0.962497\n",
      "Did not meet early stopping. Best iteration is:\n",
      "[1000]\tvalid_0's auc: 0.962497\n"
     ]
    },
    {
     "name": "stderr",
     "output_type": "stream",
     "text": [
      "[I 2025-03-18 17:09:43,085] Trial 14 finished with value: 0.9624965807072761 and parameters: {'learning_rate': 0.048817204815537224, 'num_leaves': 150, 'max_depth': 8, 'min_data_in_leaf': 42, 'feature_fraction': 0.8667455695882536, 'bagging_fraction': 0.805659861197331, 'bagging_freq': 8, 'lambda_l1': 8.796421590105382, 'lambda_l2': 5.8402038489519015}. Best is trial 12 with value: 0.9727974376015897.\n"
     ]
    },
    {
     "name": "stdout",
     "output_type": "stream",
     "text": [
      "[Trial 14] Finished with AUC: 0.9625\n",
      "[Trial 16] Using GPU 0\n",
      "[500]\tvalid_0's auc: 0.958976\n",
      "Training until validation scores don't improve for 100 rounds\n",
      "[100]\tvalid_0's auc: 0.920593\n",
      "[600]\tvalid_0's auc: 0.96151\n",
      "[200]\tvalid_0's auc: 0.93948\n",
      "[700]\tvalid_0's auc: 0.963096\n",
      "[300]\tvalid_0's auc: 0.947545\n",
      "[800]\tvalid_0's auc: 0.964575\n",
      "[400]\tvalid_0's auc: 0.953673\n",
      "[900]\tvalid_0's auc: 0.965804\n",
      "[500]\tvalid_0's auc: 0.957682\n",
      "[1000]\tvalid_0's auc: 0.96669\n",
      "Did not meet early stopping. Best iteration is:\n",
      "[991]\tvalid_0's auc: 0.966701\n"
     ]
    },
    {
     "name": "stderr",
     "output_type": "stream",
     "text": [
      "[I 2025-03-18 17:14:09,123] Trial 15 finished with value: 0.9667007109040079 and parameters: {'learning_rate': 0.041148024491161, 'num_leaves': 149, 'max_depth': 15, 'min_data_in_leaf': 199, 'feature_fraction': 0.7660820422428876, 'bagging_fraction': 0.8638407683355854, 'bagging_freq': 8, 'lambda_l1': 9.788306727437815, 'lambda_l2': 6.136627182497683}. Best is trial 12 with value: 0.9727974376015897.\n"
     ]
    },
    {
     "name": "stdout",
     "output_type": "stream",
     "text": [
      "[Trial 15] Finished with AUC: 0.9667\n",
      "[Trial 17] Using GPU 1\n",
      "[600]\tvalid_0's auc: 0.960567\n",
      "Training until validation scores don't improve for 100 rounds\n",
      "[700]\tvalid_0's auc: 0.962976\n",
      "[100]\tvalid_0's auc: 0.921107\n",
      "[800]\tvalid_0's auc: 0.965024\n",
      "[200]\tvalid_0's auc: 0.938299\n",
      "[900]\tvalid_0's auc: 0.966648\n",
      "[300]\tvalid_0's auc: 0.946883\n",
      "[1000]\tvalid_0's auc: 0.967745\n",
      "Did not meet early stopping. Best iteration is:\n",
      "[1000]\tvalid_0's auc: 0.967745\n"
     ]
    },
    {
     "name": "stderr",
     "output_type": "stream",
     "text": [
      "[I 2025-03-18 17:17:09,785] Trial 16 finished with value: 0.9677451349346236 and parameters: {'learning_rate': 0.032082472568177714, 'num_leaves': 123, 'max_depth': 15, 'min_data_in_leaf': 196, 'feature_fraction': 0.7843870898516407, 'bagging_fraction': 0.8774765998719266, 'bagging_freq': 8, 'lambda_l1': 1.4662322666517191, 'lambda_l2': 6.227593617118923}. Best is trial 12 with value: 0.9727974376015897.\n"
     ]
    },
    {
     "name": "stdout",
     "output_type": "stream",
     "text": [
      "[Trial 16] Finished with AUC: 0.9677\n",
      "[Trial 18] Using GPU 0\n",
      "[400]\tvalid_0's auc: 0.952694\n",
      "Training until validation scores don't improve for 100 rounds\n",
      "[500]\tvalid_0's auc: 0.95701\n",
      "[100]\tvalid_0's auc: 0.914466\n",
      "[600]\tvalid_0's auc: 0.959794\n",
      "[200]\tvalid_0's auc: 0.933182\n",
      "[700]\tvalid_0's auc: 0.962641\n",
      "[300]\tvalid_0's auc: 0.941604\n",
      "[800]\tvalid_0's auc: 0.964606\n",
      "[400]\tvalid_0's auc: 0.946836\n",
      "[900]\tvalid_0's auc: 0.966121\n",
      "[500]\tvalid_0's auc: 0.951874\n",
      "[1000]\tvalid_0's auc: 0.967902\n",
      "Did not meet early stopping. Best iteration is:\n",
      "[998]\tvalid_0's auc: 0.967909\n"
     ]
    },
    {
     "name": "stderr",
     "output_type": "stream",
     "text": [
      "[I 2025-03-18 17:21:31,613] Trial 17 finished with value: 0.9679090932780295 and parameters: {'learning_rate': 0.03081939482498025, 'num_leaves': 123, 'max_depth': 13, 'min_data_in_leaf': 153, 'feature_fraction': 0.9908472408039432, 'bagging_fraction': 0.8960623265100538, 'bagging_freq': 7, 'lambda_l1': 1.538086271225104, 'lambda_l2': 3.7250974022568126}. Best is trial 12 with value: 0.9727974376015897.\n"
     ]
    },
    {
     "name": "stdout",
     "output_type": "stream",
     "text": [
      "[Trial 17] Finished with AUC: 0.9679\n",
      "[Trial 19] Using GPU 1\n",
      "[600]\tvalid_0's auc: 0.954899\n",
      "Training until validation scores don't improve for 100 rounds\n",
      "[700]\tvalid_0's auc: 0.957394\n",
      "[100]\tvalid_0's auc: 0.90695\n",
      "[800]\tvalid_0's auc: 0.95946\n",
      "[200]\tvalid_0's auc: 0.926011\n",
      "[900]\tvalid_0's auc: 0.961529\n",
      "[300]\tvalid_0's auc: 0.935659\n",
      "[1000]\tvalid_0's auc: 0.963174\n",
      "Did not meet early stopping. Best iteration is:\n",
      "[1000]\tvalid_0's auc: 0.963174\n"
     ]
    },
    {
     "name": "stderr",
     "output_type": "stream",
     "text": [
      "[I 2025-03-18 17:24:17,816] Trial 18 finished with value: 0.9631736088927776 and parameters: {'learning_rate': 0.025283190005673126, 'num_leaves': 116, 'max_depth': 13, 'min_data_in_leaf': 165, 'feature_fraction': 0.9931711575027791, 'bagging_fraction': 0.9955970705127907, 'bagging_freq': 7, 'lambda_l1': 1.0720123712422112, 'lambda_l2': 3.901447658268271}. Best is trial 12 with value: 0.9727974376015897.\n"
     ]
    },
    {
     "name": "stdout",
     "output_type": "stream",
     "text": [
      "[Trial 18] Finished with AUC: 0.9632\n",
      "[Trial 20] Using GPU 0\n",
      "[400]\tvalid_0's auc: 0.942937\n",
      "Training until validation scores don't improve for 100 rounds\n",
      "[500]\tvalid_0's auc: 0.947686\n",
      "[100]\tvalid_0's auc: 0.932922\n",
      "[600]\tvalid_0's auc: 0.951334\n",
      "[200]\tvalid_0's auc: 0.947305\n",
      "[700]\tvalid_0's auc: 0.954386\n",
      "[300]\tvalid_0's auc: 0.95531\n",
      "[800]\tvalid_0's auc: 0.956769\n",
      "[400]\tvalid_0's auc: 0.960929\n",
      "[900]\tvalid_0's auc: 0.958898\n",
      "[500]\tvalid_0's auc: 0.964127\n",
      "[1000]\tvalid_0's auc: 0.960554\n",
      "Did not meet early stopping. Best iteration is:\n",
      "[1000]\tvalid_0's auc: 0.960554\n"
     ]
    },
    {
     "name": "stderr",
     "output_type": "stream",
     "text": [
      "[I 2025-03-18 17:28:26,578] Trial 19 finished with value: 0.9605544235014885 and parameters: {'learning_rate': 0.02186259001022641, 'num_leaves': 110, 'max_depth': 13, 'min_data_in_leaf': 96, 'feature_fraction': 0.8900123857912329, 'bagging_fraction': 0.830087819245589, 'bagging_freq': 10, 'lambda_l1': 4.266051778644076, 'lambda_l2': 4.79873846157613}. Best is trial 12 with value: 0.9727974376015897.\n"
     ]
    },
    {
     "name": "stdout",
     "output_type": "stream",
     "text": [
      "[Trial 19] Finished with AUC: 0.9606\n",
      "[Trial 21] Using GPU 1\n",
      "Training until validation scores don't improve for 100 rounds\n",
      "[600]\tvalid_0's auc: 0.966708\n",
      "[100]\tvalid_0's auc: 0.927146\n",
      "[700]\tvalid_0's auc: 0.968329\n",
      "[200]\tvalid_0's auc: 0.942975\n",
      "[800]\tvalid_0's auc: 0.969695\n",
      "[300]\tvalid_0's auc: 0.950936\n",
      "[900]\tvalid_0's auc: 0.970656\n",
      "[400]\tvalid_0's auc: 0.956914\n",
      "[1000]\tvalid_0's auc: 0.97149\n",
      "Did not meet early stopping. Best iteration is:\n",
      "[996]\tvalid_0's auc: 0.971501\n"
     ]
    },
    {
     "name": "stderr",
     "output_type": "stream",
     "text": [
      "[I 2025-03-18 17:31:41,379] Trial 20 finished with value: 0.9715010598202019 and parameters: {'learning_rate': 0.05181501047812493, 'num_leaves': 141, 'max_depth': 12, 'min_data_in_leaf': 96, 'feature_fraction': 0.8872980860903679, 'bagging_fraction': 0.8271276833304436, 'bagging_freq': 10, 'lambda_l1': 4.1411245508406935, 'lambda_l2': 5.163684152992394}. Best is trial 12 with value: 0.9727974376015897.\n"
     ]
    },
    {
     "name": "stdout",
     "output_type": "stream",
     "text": [
      "[Trial 20] Finished with AUC: 0.9715\n",
      "[Trial 22] Using GPU 0\n",
      "[500]\tvalid_0's auc: 0.960483\n",
      "Training until validation scores don't improve for 100 rounds\n",
      "[600]\tvalid_0's auc: 0.963459\n",
      "[100]\tvalid_0's auc: 0.93053\n",
      "[700]\tvalid_0's auc: 0.965747\n",
      "[200]\tvalid_0's auc: 0.945174\n",
      "[800]\tvalid_0's auc: 0.967458\n",
      "[300]\tvalid_0's auc: 0.952979\n",
      "[900]\tvalid_0's auc: 0.968621\n",
      "[400]\tvalid_0's auc: 0.958714\n",
      "[1000]\tvalid_0's auc: 0.969803\n",
      "Did not meet early stopping. Best iteration is:\n",
      "[1000]\tvalid_0's auc: 0.969803\n"
     ]
    },
    {
     "name": "stderr",
     "output_type": "stream",
     "text": [
      "[I 2025-03-18 17:35:06,095] Trial 21 finished with value: 0.9698034645047139 and parameters: {'learning_rate': 0.05067394583221548, 'num_leaves': 141, 'max_depth': 11, 'min_data_in_leaf': 56, 'feature_fraction': 0.7258101409622298, 'bagging_fraction': 0.6011688288125963, 'bagging_freq': 9, 'lambda_l1': 2.0548605102479978, 'lambda_l2': 7.3157981022708505}. Best is trial 12 with value: 0.9727974376015897.\n"
     ]
    },
    {
     "name": "stdout",
     "output_type": "stream",
     "text": [
      "[Trial 21] Finished with AUC: 0.9698\n",
      "[Trial 23] Using GPU 1\n",
      "[500]\tvalid_0's auc: 0.962419\n",
      "Training until validation scores don't improve for 100 rounds\n",
      "[600]\tvalid_0's auc: 0.965597\n",
      "[100]\tvalid_0's auc: 0.935229\n",
      "[700]\tvalid_0's auc: 0.96807\n",
      "[200]\tvalid_0's auc: 0.94974\n",
      "[800]\tvalid_0's auc: 0.969667\n",
      "[300]\tvalid_0's auc: 0.956509\n",
      "[400]\tvalid_0's auc: 0.96156\n",
      "[900]\tvalid_0's auc: 0.970805\n",
      "[500]\tvalid_0's auc: 0.965139\n",
      "[1000]\tvalid_0's auc: 0.972006\n",
      "Did not meet early stopping. Best iteration is:\n",
      "[1000]\tvalid_0's auc: 0.972006\n"
     ]
    },
    {
     "name": "stderr",
     "output_type": "stream",
     "text": [
      "[I 2025-03-18 17:38:51,861] Trial 22 finished with value: 0.9720064299845449 and parameters: {'learning_rate': 0.05194126798898952, 'num_leaves': 138, 'max_depth': 11, 'min_data_in_leaf': 52, 'feature_fraction': 0.8449378777234361, 'bagging_fraction': 0.923791677675952, 'bagging_freq': 9, 'lambda_l1': 1.9461976339731109, 'lambda_l2': 7.565249911650228}. Best is trial 12 with value: 0.9727974376015897.\n"
     ]
    },
    {
     "name": "stdout",
     "output_type": "stream",
     "text": [
      "[Trial 22] Finished with AUC: 0.9720\n",
      "[Trial 24] Using GPU 0\n",
      "Training until validation scores don't improve for 100 rounds\n",
      "[600]\tvalid_0's auc: 0.967639\n",
      "[700]\tvalid_0's auc: 0.969947\n",
      "[100]\tvalid_0's auc: 0.942297\n",
      "[800]\tvalid_0's auc: 0.971433\n",
      "[200]\tvalid_0's auc: 0.95646\n",
      "[900]\tvalid_0's auc: 0.972268\n",
      "[300]\tvalid_0's auc: 0.962962\n",
      "[1000]\tvalid_0's auc: 0.973426\n",
      "Did not meet early stopping. Best iteration is:\n",
      "[1000]\tvalid_0's auc: 0.973426\n"
     ]
    },
    {
     "name": "stderr",
     "output_type": "stream",
     "text": [
      "[I 2025-03-18 17:41:49,716] Trial 23 finished with value: 0.9734256714410365 and parameters: {'learning_rate': 0.058047582002256286, 'num_leaves': 135, 'max_depth': 12, 'min_data_in_leaf': 120, 'feature_fraction': 0.8315304600672476, 'bagging_fraction': 0.9127158876556425, 'bagging_freq': 9, 'lambda_l1': 0.08734179259709915, 'lambda_l2': 5.484996785550386}. Best is trial 23 with value: 0.9734256714410365.\n"
     ]
    },
    {
     "name": "stdout",
     "output_type": "stream",
     "text": [
      "[400]\tvalid_0's auc: 0.967341\n",
      "[Trial 23] Finished with AUC: 0.9734\n",
      "[Trial 25] Using GPU 1\n",
      "Training until validation scores don't improve for 100 rounds\n",
      "[500]\tvalid_0's auc: 0.969867\n",
      "[100]\tvalid_0's auc: 0.929167\n",
      "[200]\tvalid_0's auc: 0.941821\n",
      "[600]\tvalid_0's auc: 0.97151\n",
      "[300]\tvalid_0's auc: 0.949492\n",
      "[700]\tvalid_0's auc: 0.972747\n",
      "[400]\tvalid_0's auc: 0.95599\n",
      "[500]\tvalid_0's auc: 0.959818\n",
      "[800]\tvalid_0's auc: 0.973297\n",
      "[600]\tvalid_0's auc: 0.963239\n",
      "[900]\tvalid_0's auc: 0.973834\n",
      "[700]\tvalid_0's auc: 0.965521\n",
      "[1000]\tvalid_0's auc: 0.974122\n",
      "Did not meet early stopping. Best iteration is:\n",
      "[985]\tvalid_0's auc: 0.974137\n",
      "[800]\tvalid_0's auc: 0.967191\n"
     ]
    },
    {
     "name": "stderr",
     "output_type": "stream",
     "text": [
      "[I 2025-03-18 17:46:15,048] Trial 24 finished with value: 0.9741368185184149 and parameters: {'learning_rate': 0.08231608034619957, 'num_leaves': 131, 'max_depth': 11, 'min_data_in_leaf': 53, 'feature_fraction': 0.8142558939755977, 'bagging_fraction': 0.9283342569214275, 'bagging_freq': 10, 'lambda_l1': 4.073695318714399, 'lambda_l2': 2.7216551559881825}. Best is trial 24 with value: 0.9741368185184149.\n"
     ]
    },
    {
     "name": "stdout",
     "output_type": "stream",
     "text": [
      "[Trial 24] Finished with AUC: 0.9741\n",
      "[Trial 26] Using GPU 0\n",
      "Training until validation scores don't improve for 100 rounds\n",
      "[900]\tvalid_0's auc: 0.968427\n",
      "[100]\tvalid_0's auc: 0.93614\n",
      "[1000]\tvalid_0's auc: 0.969866\n",
      "Did not meet early stopping. Best iteration is:\n",
      "[1000]\tvalid_0's auc: 0.969866\n"
     ]
    },
    {
     "name": "stderr",
     "output_type": "stream",
     "text": [
      "[I 2025-03-18 17:47:25,606] Trial 25 finished with value: 0.9698657115273378 and parameters: {'learning_rate': 0.07691839763250122, 'num_leaves': 128, 'max_depth': 8, 'min_data_in_leaf': 57, 'feature_fraction': 0.8133632264743696, 'bagging_fraction': 0.9305522382539502, 'bagging_freq': 9, 'lambda_l1': 0.9265251506758494, 'lambda_l2': 8.123443743968245}. Best is trial 24 with value: 0.9741368185184149.\n"
     ]
    },
    {
     "name": "stdout",
     "output_type": "stream",
     "text": [
      "[Trial 25] Finished with AUC: 0.9699\n",
      "[Trial 27] Using GPU 1\n",
      "[200]\tvalid_0's auc: 0.948546\n",
      "Training until validation scores don't improve for 100 rounds\n",
      "[300]\tvalid_0's auc: 0.956969\n",
      "[100]\tvalid_0's auc: 0.943047\n",
      "[400]\tvalid_0's auc: 0.962472\n",
      "[200]\tvalid_0's auc: 0.956356\n",
      "[500]\tvalid_0's auc: 0.965705\n",
      "[300]\tvalid_0's auc: 0.962067\n",
      "[600]\tvalid_0's auc: 0.968785\n",
      "[400]\tvalid_0's auc: 0.96553\n",
      "[700]\tvalid_0's auc: 0.970606\n",
      "[500]\tvalid_0's auc: 0.968332\n",
      "[800]\tvalid_0's auc: 0.971769\n",
      "[600]\tvalid_0's auc: 0.970044\n",
      "[900]\tvalid_0's auc: 0.973083\n",
      "[1000]\tvalid_0's auc: 0.973981\n",
      "Did not meet early stopping. Best iteration is:\n",
      "[1000]\tvalid_0's auc: 0.973981\n",
      "[700]\tvalid_0's auc: 0.971375\n"
     ]
    },
    {
     "name": "stderr",
     "output_type": "stream",
     "text": [
      "[I 2025-03-18 17:52:09,962] Trial 26 finished with value: 0.9739812519109216 and parameters: {'learning_rate': 0.08435425320563887, 'num_leaves': 127, 'max_depth': 9, 'min_data_in_leaf': 122, 'feature_fraction': 0.7945275821345432, 'bagging_fraction': 0.9576781391425877, 'bagging_freq': 10, 'lambda_l1': 0.9351400698214691, 'lambda_l2': 2.7862740421624244}. Best is trial 24 with value: 0.9741368185184149.\n"
     ]
    },
    {
     "name": "stdout",
     "output_type": "stream",
     "text": [
      "[Trial 26] Finished with AUC: 0.9740\n",
      "[Trial 28] Using GPU 0\n",
      "Training until validation scores don't improve for 100 rounds\n",
      "[800]\tvalid_0's auc: 0.972344\n",
      "[100]\tvalid_0's auc: 0.936447\n",
      "[900]\tvalid_0's auc: 0.972818\n",
      "[200]\tvalid_0's auc: 0.949526\n",
      "[1000]\tvalid_0's auc: 0.973161\n",
      "Did not meet early stopping. Best iteration is:\n",
      "[998]\tvalid_0's auc: 0.973171\n"
     ]
    },
    {
     "name": "stderr",
     "output_type": "stream",
     "text": [
      "[I 2025-03-18 17:54:04,111] Trial 27 finished with value: 0.9731706097971766 and parameters: {'learning_rate': 0.0869176921521145, 'num_leaves': 101, 'max_depth': 14, 'min_data_in_leaf': 114, 'feature_fraction': 0.794430198326336, 'bagging_fraction': 0.972120927831724, 'bagging_freq': 10, 'lambda_l1': 4.735727872668036, 'lambda_l2': 2.828741277221089}. Best is trial 24 with value: 0.9741368185184149.\n"
     ]
    },
    {
     "name": "stdout",
     "output_type": "stream",
     "text": [
      "[Trial 27] Finished with AUC: 0.9732\n",
      "[Trial 29] Using GPU 1\n",
      "[300]\tvalid_0's auc: 0.957035\n",
      "Training until validation scores don't improve for 100 rounds\n",
      "[400]\tvalid_0's auc: 0.962328\n",
      "[100]\tvalid_0's auc: 0.934193\n",
      "[500]\tvalid_0's auc: 0.965428\n",
      "[200]\tvalid_0's auc: 0.948867\n",
      "[600]\tvalid_0's auc: 0.967882\n",
      "[300]\tvalid_0's auc: 0.955799\n",
      "[700]\tvalid_0's auc: 0.969804\n",
      "[400]\tvalid_0's auc: 0.961066\n",
      "[800]\tvalid_0's auc: 0.970951\n",
      "[500]\tvalid_0's auc: 0.964242\n",
      "[900]\tvalid_0's auc: 0.971998\n",
      "[600]\tvalid_0's auc: 0.966487\n",
      "[1000]\tvalid_0's auc: 0.972834\n",
      "Did not meet early stopping. Best iteration is:\n",
      "[996]\tvalid_0's auc: 0.972849\n"
     ]
    },
    {
     "name": "stderr",
     "output_type": "stream",
     "text": [
      "[I 2025-03-18 17:58:57,359] Trial 28 finished with value: 0.972848811244162 and parameters: {'learning_rate': 0.08609596083910004, 'num_leaves': 98, 'max_depth': 9, 'min_data_in_leaf': 117, 'feature_fraction': 0.7915474214347853, 'bagging_fraction': 0.9662606208158457, 'bagging_freq': 7, 'lambda_l1': 4.283206796665456, 'lambda_l2': 2.555956937003578}. Best is trial 24 with value: 0.9741368185184149.\n"
     ]
    },
    {
     "name": "stdout",
     "output_type": "stream",
     "text": [
      "[Trial 28] Finished with AUC: 0.9728\n",
      "[Trial 30] Using GPU 0\n",
      "[700]\tvalid_0's auc: 0.96861\n",
      "Training until validation scores don't improve for 100 rounds\n",
      "[800]\tvalid_0's auc: 0.970134\n",
      "[100]\tvalid_0's auc: 0.926865\n",
      "[200]\tvalid_0's auc: 0.940705\n",
      "[900]\tvalid_0's auc: 0.971186\n",
      "[300]\tvalid_0's auc: 0.948733\n",
      "[1000]\tvalid_0's auc: 0.972141\n",
      "Did not meet early stopping. Best iteration is:\n",
      "[1000]\tvalid_0's auc: 0.972141\n"
     ]
    },
    {
     "name": "stderr",
     "output_type": "stream",
     "text": [
      "[I 2025-03-18 18:01:28,383] Trial 29 finished with value: 0.9721414195375979 and parameters: {'learning_rate': 0.08299673840161563, 'num_leaves': 91, 'max_depth': 9, 'min_data_in_leaf': 139, 'feature_fraction': 0.7160110337681092, 'bagging_fraction': 0.9628084841183921, 'bagging_freq': 4, 'lambda_l1': 3.609918495667275, 'lambda_l2': 2.601830751068392}. Best is trial 24 with value: 0.9741368185184149.\n"
     ]
    },
    {
     "name": "stdout",
     "output_type": "stream",
     "text": [
      "[Trial 29] Finished with AUC: 0.9721\n",
      "[Trial 31] Using GPU 1\n",
      "[400]\tvalid_0's auc: 0.95381\n",
      "Training until validation scores don't improve for 100 rounds\n",
      "[500]\tvalid_0's auc: 0.957774\n",
      "[100]\tvalid_0's auc: 0.938181\n",
      "[600]\tvalid_0's auc: 0.960365\n",
      "[200]\tvalid_0's auc: 0.952593\n",
      "[700]\tvalid_0's auc: 0.963316\n",
      "[300]\tvalid_0's auc: 0.959354\n",
      "[800]\tvalid_0's auc: 0.965562\n",
      "[400]\tvalid_0's auc: 0.963767\n",
      "[900]\tvalid_0's auc: 0.967422\n",
      "[500]\tvalid_0's auc: 0.966579\n",
      "[1000]\tvalid_0's auc: 0.969168\n",
      "Did not meet early stopping. Best iteration is:\n",
      "[1000]\tvalid_0's auc: 0.969168\n"
     ]
    },
    {
     "name": "stderr",
     "output_type": "stream",
     "text": [
      "[I 2025-03-18 18:04:53,197] Trial 30 finished with value: 0.9691676583601819 and parameters: {'learning_rate': 0.09938531310458318, 'num_leaves': 117, 'max_depth': 7, 'min_data_in_leaf': 134, 'feature_fraction': 0.7271557908724072, 'bagging_fraction': 0.9952989829085708, 'bagging_freq': 4, 'lambda_l1': 0.8473257840955745, 'lambda_l2': 2.3122639766529507}. Best is trial 24 with value: 0.9741368185184149.\n"
     ]
    },
    {
     "name": "stdout",
     "output_type": "stream",
     "text": [
      "[Trial 30] Finished with AUC: 0.9692\n",
      "[Trial 32] Using GPU 0\n",
      "[600]\tvalid_0's auc: 0.968471\n",
      "Training until validation scores don't improve for 100 rounds\n",
      "[700]\tvalid_0's auc: 0.9702\n",
      "[100]\tvalid_0's auc: 0.94553\n",
      "[800]\tvalid_0's auc: 0.971572\n",
      "[900]\tvalid_0's auc: 0.972594\n",
      "[200]\tvalid_0's auc: 0.958013\n",
      "[1000]\tvalid_0's auc: 0.973327\n",
      "Did not meet early stopping. Best iteration is:\n",
      "[999]\tvalid_0's auc: 0.973329\n"
     ]
    },
    {
     "name": "stderr",
     "output_type": "stream",
     "text": [
      "[I 2025-03-18 18:07:08,436] Trial 31 finished with value: 0.9733285009558523 and parameters: {'learning_rate': 0.09464038096625528, 'num_leaves': 79, 'max_depth': 10, 'min_data_in_leaf': 100, 'feature_fraction': 0.757114174124875, 'bagging_fraction': 0.9973473653424065, 'bagging_freq': 9, 'lambda_l1': 0.8962080575633337, 'lambda_l2': 1.7485879665692334}. Best is trial 24 with value: 0.9741368185184149.\n"
     ]
    },
    {
     "name": "stdout",
     "output_type": "stream",
     "text": [
      "[Trial 31] Finished with AUC: 0.9733\n",
      "[Trial 33] Using GPU 1\n",
      "[300]\tvalid_0's auc: 0.963673\n",
      "Training until validation scores don't improve for 100 rounds\n",
      "[100]\tvalid_0's auc: 0.938769\n",
      "[400]\tvalid_0's auc: 0.967156\n",
      "[200]\tvalid_0's auc: 0.95208\n",
      "[500]\tvalid_0's auc: 0.96958\n",
      "[300]\tvalid_0's auc: 0.959073\n",
      "[400]\tvalid_0's auc: 0.963749\n",
      "[600]\tvalid_0's auc: 0.971244\n",
      "[500]\tvalid_0's auc: 0.966848\n",
      "[700]\tvalid_0's auc: 0.972103\n",
      "[600]\tvalid_0's auc: 0.968815\n",
      "[700]\tvalid_0's auc: 0.970297\n",
      "[800]\tvalid_0's auc: 0.972558\n",
      "[800]\tvalid_0's auc: 0.971462\n",
      "[900]\tvalid_0's auc: 0.973041\n",
      "[900]\tvalid_0's auc: 0.972542\n",
      "[1000]\tvalid_0's auc: 0.973157\n",
      "Did not meet early stopping. Best iteration is:\n",
      "[1000]\tvalid_0's auc: 0.973157\n",
      "[1000]\tvalid_0's auc: 0.973475\n",
      "Did not meet early stopping. Best iteration is:\n",
      "[1000]\tvalid_0's auc: 0.973475\n"
     ]
    },
    {
     "name": "stderr",
     "output_type": "stream",
     "text": [
      "[I 2025-03-18 18:12:38,211] Trial 33 finished with value: 0.9731567898627491 and parameters: {'learning_rate': 0.09316982889562012, 'num_leaves': 78, 'max_depth': 10, 'min_data_in_leaf': 104, 'feature_fraction': 0.7627178755125537, 'bagging_fraction': 0.9072931000210427, 'bagging_freq': 9, 'lambda_l1': 2.3549603807352293, 'lambda_l2': 1.6231241907586522}. Best is trial 24 with value: 0.9741368185184149.\n"
     ]
    },
    {
     "name": "stdout",
     "output_type": "stream",
     "text": [
      "[Trial 33] Finished with AUC: 0.9732\n",
      "[Trial 34] Using GPU 0\n"
     ]
    },
    {
     "name": "stderr",
     "output_type": "stream",
     "text": [
      "[I 2025-03-18 18:12:43,736] Trial 32 finished with value: 0.973475009243806 and parameters: {'learning_rate': 0.09059475964049717, 'num_leaves': 130, 'max_depth': 12, 'min_data_in_leaf': 107, 'feature_fraction': 0.7638663431732581, 'bagging_fraction': 0.9095902475636911, 'bagging_freq': 9, 'lambda_l1': 4.947988487181893, 'lambda_l2': 3.09271073166024}. Best is trial 24 with value: 0.9741368185184149.\n"
     ]
    },
    {
     "name": "stdout",
     "output_type": "stream",
     "text": [
      "[Trial 32] Finished with AUC: 0.9735\n",
      "[Trial 35] Using GPU 1\n",
      "Training until validation scores don't improve for 100 rounds\n",
      "Training until validation scores don't improve for 100 rounds\n",
      "[100]\tvalid_0's auc: 0.93395\n",
      "[100]\tvalid_0's auc: 0.940817\n",
      "[200]\tvalid_0's auc: 0.947651\n",
      "[300]\tvalid_0's auc: 0.954587\n",
      "[200]\tvalid_0's auc: 0.954748\n",
      "[400]\tvalid_0's auc: 0.960048\n",
      "[300]\tvalid_0's auc: 0.961244\n",
      "[500]\tvalid_0's auc: 0.963678\n",
      "[600]\tvalid_0's auc: 0.966437\n",
      "[400]\tvalid_0's auc: 0.965214\n",
      "[700]\tvalid_0's auc: 0.968522\n",
      "[500]\tvalid_0's auc: 0.968061\n",
      "[800]\tvalid_0's auc: 0.969601\n",
      "[900]\tvalid_0's auc: 0.970849\n",
      "[600]\tvalid_0's auc: 0.969806\n",
      "[1000]\tvalid_0's auc: 0.972013\n",
      "Did not meet early stopping. Best iteration is:\n",
      "[1000]\tvalid_0's auc: 0.972013\n"
     ]
    },
    {
     "name": "stderr",
     "output_type": "stream",
     "text": [
      "[I 2025-03-18 18:17:41,851] Trial 34 finished with value: 0.9720130193972121 and parameters: {'learning_rate': 0.07879245233847007, 'num_leaves': 71, 'max_depth': 10, 'min_data_in_leaf': 86, 'feature_fraction': 0.8273423655171714, 'bagging_fraction': 0.9536839556541697, 'bagging_freq': 9, 'lambda_l1': 0.7127811827489472, 'lambda_l2': 0.9000767413900443}. Best is trial 24 with value: 0.9741368185184149.\n"
     ]
    },
    {
     "name": "stdout",
     "output_type": "stream",
     "text": [
      "[Trial 34] Finished with AUC: 0.9720\n",
      "[Trial 36] Using GPU 0\n",
      "Training until validation scores don't improve for 100 rounds\n",
      "[700]\tvalid_0's auc: 0.971003\n",
      "[100]\tvalid_0's auc: 0.937095\n",
      "[800]\tvalid_0's auc: 0.971987\n",
      "[200]\tvalid_0's auc: 0.951408\n",
      "[900]\tvalid_0's auc: 0.972528\n",
      "[300]\tvalid_0's auc: 0.958149\n",
      "[1000]\tvalid_0's auc: 0.973001\n",
      "Did not meet early stopping. Best iteration is:\n",
      "[995]\tvalid_0's auc: 0.973007\n"
     ]
    },
    {
     "name": "stderr",
     "output_type": "stream",
     "text": [
      "[I 2025-03-18 18:20:33,520] Trial 35 finished with value: 0.9730073392661752 and parameters: {'learning_rate': 0.08027089024204898, 'num_leaves': 132, 'max_depth': 12, 'min_data_in_leaf': 86, 'feature_fraction': 0.8305986917603823, 'bagging_fraction': 0.9141026667544785, 'bagging_freq': 10, 'lambda_l1': 5.394751974071091, 'lambda_l2': 4.319273088774333}. Best is trial 24 with value: 0.9741368185184149.\n"
     ]
    },
    {
     "name": "stdout",
     "output_type": "stream",
     "text": [
      "[Trial 35] Finished with AUC: 0.9730\n",
      "[Trial 37] Using GPU 1\n",
      "Training until validation scores don't improve for 100 rounds\n",
      "[400]\tvalid_0's auc: 0.963014\n",
      "[100]\tvalid_0's auc: 0.935772\n",
      "[500]\tvalid_0's auc: 0.966105\n",
      "[200]\tvalid_0's auc: 0.950529\n",
      "[600]\tvalid_0's auc: 0.968567\n",
      "[300]\tvalid_0's auc: 0.957678\n",
      "[700]\tvalid_0's auc: 0.970119\n",
      "[400]\tvalid_0's auc: 0.962691\n",
      "[800]\tvalid_0's auc: 0.971089\n",
      "[500]\tvalid_0's auc: 0.965676\n",
      "[900]\tvalid_0's auc: 0.972029\n",
      "[600]\tvalid_0's auc: 0.967631\n",
      "[1000]\tvalid_0's auc: 0.972741\n",
      "Did not meet early stopping. Best iteration is:\n",
      "[992]\tvalid_0's auc: 0.972754\n"
     ]
    },
    {
     "name": "stderr",
     "output_type": "stream",
     "text": [
      "[I 2025-03-18 18:25:25,290] Trial 36 finished with value: 0.9727538294459814 and parameters: {'learning_rate': 0.06269097767175143, 'num_leaves': 130, 'max_depth': 12, 'min_data_in_leaf': 132, 'feature_fraction': 0.8062718427844274, 'bagging_fraction': 0.9151808166890724, 'bagging_freq': 8, 'lambda_l1': 5.442726534900306, 'lambda_l2': 3.3546770914750645}. Best is trial 24 with value: 0.9741368185184149.\n"
     ]
    },
    {
     "name": "stdout",
     "output_type": "stream",
     "text": [
      "[Trial 36] Finished with AUC: 0.9728\n",
      "[Trial 38] Using GPU 0\n",
      "Training until validation scores don't improve for 100 rounds\n",
      "[700]\tvalid_0's auc: 0.968785\n",
      "[100]\tvalid_0's auc: 0.941646\n",
      "[800]\tvalid_0's auc: 0.969923\n",
      "[200]\tvalid_0's auc: 0.95548\n",
      "[900]\tvalid_0's auc: 0.970703\n",
      "[300]\tvalid_0's auc: 0.962552\n",
      "[1000]\tvalid_0's auc: 0.971425\n",
      "Did not meet early stopping. Best iteration is:\n",
      "[1000]\tvalid_0's auc: 0.971425\n"
     ]
    },
    {
     "name": "stderr",
     "output_type": "stream",
     "text": [
      "[I 2025-03-18 18:28:16,600] Trial 37 finished with value: 0.9714248272786825 and parameters: {'learning_rate': 0.0620838781128705, 'num_leaves': 132, 'max_depth': 12, 'min_data_in_leaf': 130, 'feature_fraction': 0.8050985324397647, 'bagging_fraction': 0.8481074769190663, 'bagging_freq': 8, 'lambda_l1': 6.107649521813618, 'lambda_l2': 3.3346428249072053}. Best is trial 24 with value: 0.9741368185184149.\n"
     ]
    },
    {
     "name": "stdout",
     "output_type": "stream",
     "text": [
      "[Trial 37] Finished with AUC: 0.9714\n",
      "[Trial 39] Using GPU 1\n",
      "[400]\tvalid_0's auc: 0.966547\n",
      "Training until validation scores don't improve for 100 rounds\n",
      "[500]\tvalid_0's auc: 0.96926\n",
      "[100]\tvalid_0's auc: 0.928596\n",
      "[200]\tvalid_0's auc: 0.940566\n",
      "[600]\tvalid_0's auc: 0.971005\n",
      "[300]\tvalid_0's auc: 0.94873\n",
      "[700]\tvalid_0's auc: 0.972156\n",
      "[400]\tvalid_0's auc: 0.954469\n",
      "[800]\tvalid_0's auc: 0.972779\n",
      "[500]\tvalid_0's auc: 0.958642\n",
      "[600]\tvalid_0's auc: 0.961677\n",
      "[900]\tvalid_0's auc: 0.973378\n",
      "[700]\tvalid_0's auc: 0.964359\n",
      "[1000]\tvalid_0's auc: 0.97382\n",
      "Did not meet early stopping. Best iteration is:\n",
      "[999]\tvalid_0's auc: 0.973836\n"
     ]
    },
    {
     "name": "stderr",
     "output_type": "stream",
     "text": [
      "[I 2025-03-18 18:32:26,953] Trial 38 finished with value: 0.9738364291879351 and parameters: {'learning_rate': 0.08886391357438558, 'num_leaves': 119, 'max_depth': 11, 'min_data_in_leaf': 67, 'feature_fraction': 0.6545977266774266, 'bagging_fraction': 0.9451282578442406, 'bagging_freq': 10, 'lambda_l1': 3.339491970214943, 'lambda_l2': 3.2526515695181737}. Best is trial 24 with value: 0.9741368185184149.\n"
     ]
    },
    {
     "name": "stdout",
     "output_type": "stream",
     "text": [
      "[Trial 38] Finished with AUC: 0.9738\n",
      "[Trial 40] Using GPU 0\n",
      "[800]\tvalid_0's auc: 0.966508\n",
      "Training until validation scores don't improve for 100 rounds\n",
      "[900]\tvalid_0's auc: 0.968187\n",
      "[100]\tvalid_0's auc: 0.933354\n",
      "[1000]\tvalid_0's auc: 0.969503\n",
      "Did not meet early stopping. Best iteration is:\n",
      "[1000]\tvalid_0's auc: 0.969503\n",
      "[200]\tvalid_0's auc: 0.945575\n"
     ]
    },
    {
     "name": "stderr",
     "output_type": "stream",
     "text": [
      "[I 2025-03-18 18:33:53,328] Trial 39 finished with value: 0.9695030709284783 and parameters: {'learning_rate': 0.07155181900459032, 'num_leaves': 120, 'max_depth': 8, 'min_data_in_leaf': 147, 'feature_fraction': 0.6916396947542143, 'bagging_fraction': 0.9431821359780584, 'bagging_freq': 10, 'lambda_l1': 3.801727624139845, 'lambda_l2': 2.1473151413307803}. Best is trial 24 with value: 0.9741368185184149.\n"
     ]
    },
    {
     "name": "stdout",
     "output_type": "stream",
     "text": [
      "[Trial 39] Finished with AUC: 0.9695\n",
      "[Trial 41] Using GPU 1\n",
      "Training until validation scores don't improve for 100 rounds\n",
      "[300]\tvalid_0's auc: 0.95289\n",
      "[100]\tvalid_0's auc: 0.941786\n",
      "[400]\tvalid_0's auc: 0.959004\n",
      "[500]\tvalid_0's auc: 0.96267\n",
      "[200]\tvalid_0's auc: 0.955703\n",
      "[600]\tvalid_0's auc: 0.96546\n",
      "[300]\tvalid_0's auc: 0.962734\n",
      "[700]\tvalid_0's auc: 0.967593\n",
      "[400]\tvalid_0's auc: 0.966731\n",
      "[800]\tvalid_0's auc: 0.969274\n",
      "[500]\tvalid_0's auc: 0.969785\n",
      "[900]\tvalid_0's auc: 0.970911\n",
      "[600]\tvalid_0's auc: 0.971545\n",
      "[1000]\tvalid_0's auc: 0.971838\n",
      "Did not meet early stopping. Best iteration is:\n",
      "[1000]\tvalid_0's auc: 0.971838\n"
     ]
    },
    {
     "name": "stderr",
     "output_type": "stream",
     "text": [
      "[I 2025-03-18 18:38:23,027] Trial 40 finished with value: 0.9718382110254099 and parameters: {'learning_rate': 0.07145663529862371, 'num_leaves': 121, 'max_depth': 8, 'min_data_in_leaf': 69, 'feature_fraction': 0.6529308647632309, 'bagging_fraction': 0.9438857666946082, 'bagging_freq': 10, 'lambda_l1': 3.582028593719861, 'lambda_l2': 0.003830488588292269}. Best is trial 24 with value: 0.9741368185184149.\n"
     ]
    },
    {
     "name": "stdout",
     "output_type": "stream",
     "text": [
      "[Trial 40] Finished with AUC: 0.9718\n",
      "[Trial 42] Using GPU 0\n",
      "[700]\tvalid_0's auc: 0.972723\n",
      "Training until validation scores don't improve for 100 rounds\n",
      "[800]\tvalid_0's auc: 0.973485\n",
      "[100]\tvalid_0's auc: 0.941748\n",
      "[900]\tvalid_0's auc: 0.97402\n",
      "[200]\tvalid_0's auc: 0.955623\n",
      "[1000]\tvalid_0's auc: 0.974336\n",
      "Did not meet early stopping. Best iteration is:\n",
      "[996]\tvalid_0's auc: 0.974347\n"
     ]
    },
    {
     "name": "stderr",
     "output_type": "stream",
     "text": [
      "[I 2025-03-18 18:40:38,438] Trial 41 finished with value: 0.9743465163867324 and parameters: {'learning_rate': 0.08985685070592656, 'num_leaves': 111, 'max_depth': 11, 'min_data_in_leaf': 68, 'feature_fraction': 0.6527885091143171, 'bagging_fraction': 0.950417198796398, 'bagging_freq': 10, 'lambda_l1': 3.180689106296606, 'lambda_l2': 2.9574091022722455}. Best is trial 41 with value: 0.9743465163867324.\n"
     ]
    },
    {
     "name": "stdout",
     "output_type": "stream",
     "text": [
      "[Trial 41] Finished with AUC: 0.9743\n",
      "[Trial 43] Using GPU 1\n",
      "[300]\tvalid_0's auc: 0.962008\n",
      "Training until validation scores don't improve for 100 rounds\n",
      "[400]\tvalid_0's auc: 0.966693\n",
      "[100]\tvalid_0's auc: 0.942045\n",
      "[500]\tvalid_0's auc: 0.969476\n",
      "[200]\tvalid_0's auc: 0.954754\n",
      "[600]\tvalid_0's auc: 0.971466\n",
      "[300]\tvalid_0's auc: 0.962257\n",
      "[700]\tvalid_0's auc: 0.972496\n",
      "[400]\tvalid_0's auc: 0.96658\n",
      "[800]\tvalid_0's auc: 0.973194\n",
      "[500]\tvalid_0's auc: 0.969688\n",
      "[900]\tvalid_0's auc: 0.973886\n",
      "[600]\tvalid_0's auc: 0.971367\n",
      "[1000]\tvalid_0's auc: 0.974345\n",
      "Did not meet early stopping. Best iteration is:\n",
      "[997]\tvalid_0's auc: 0.974359\n",
      "[700]\tvalid_0's auc: 0.972626\n"
     ]
    },
    {
     "name": "stderr",
     "output_type": "stream",
     "text": [
      "[I 2025-03-18 18:45:24,862] Trial 42 finished with value: 0.9743587505314493 and parameters: {'learning_rate': 0.08882083255411755, 'num_leaves': 111, 'max_depth': 11, 'min_data_in_leaf': 67, 'feature_fraction': 0.604950424219837, 'bagging_fraction': 0.8939961579468976, 'bagging_freq': 9, 'lambda_l1': 2.5941044993926052, 'lambda_l2': 2.9262847087250896}. Best is trial 42 with value: 0.9743587505314493.\n"
     ]
    },
    {
     "name": "stdout",
     "output_type": "stream",
     "text": [
      "[Trial 42] Finished with AUC: 0.9744\n",
      "[Trial 44] Using GPU 0\n",
      "Training until validation scores don't improve for 100 rounds\n",
      "[800]\tvalid_0's auc: 0.973465\n",
      "[100]\tvalid_0's auc: 0.940236\n",
      "[900]\tvalid_0's auc: 0.974147\n",
      "[200]\tvalid_0's auc: 0.954205\n",
      "[1000]\tvalid_0's auc: 0.974642\n",
      "Did not meet early stopping. Best iteration is:\n",
      "[999]\tvalid_0's auc: 0.974667\n"
     ]
    },
    {
     "name": "stderr",
     "output_type": "stream",
     "text": [
      "[I 2025-03-18 18:47:22,594] Trial 43 finished with value: 0.9746674615428745 and parameters: {'learning_rate': 0.0865178559539527, 'num_leaves': 113, 'max_depth': 11, 'min_data_in_leaf': 73, 'feature_fraction': 0.642875421193643, 'bagging_fraction': 0.973786417679793, 'bagging_freq': 10, 'lambda_l1': 2.9369172372982333, 'lambda_l2': 3.018985451479131}. Best is trial 43 with value: 0.9746674615428745.\n"
     ]
    },
    {
     "name": "stdout",
     "output_type": "stream",
     "text": [
      "[Trial 43] Finished with AUC: 0.9747\n",
      "[Trial 45] Using GPU 1\n",
      "[300]\tvalid_0's auc: 0.961448\n",
      "Training until validation scores don't improve for 100 rounds\n",
      "[400]\tvalid_0's auc: 0.965735\n",
      "[100]\tvalid_0's auc: 0.938075\n",
      "[500]\tvalid_0's auc: 0.968438\n",
      "[200]\tvalid_0's auc: 0.951701\n",
      "[600]\tvalid_0's auc: 0.970419\n",
      "[300]\tvalid_0's auc: 0.9593\n",
      "[700]\tvalid_0's auc: 0.97174\n",
      "[400]\tvalid_0's auc: 0.963354\n",
      "[800]\tvalid_0's auc: 0.97286\n",
      "[500]\tvalid_0's auc: 0.966703\n",
      "[900]\tvalid_0's auc: 0.97364\n",
      "[600]\tvalid_0's auc: 0.968736\n",
      "[1000]\tvalid_0's auc: 0.974328\n",
      "Did not meet early stopping. Best iteration is:\n",
      "[999]\tvalid_0's auc: 0.974328\n"
     ]
    },
    {
     "name": "stderr",
     "output_type": "stream",
     "text": [
      "[I 2025-03-18 18:52:02,280] Trial 44 finished with value: 0.9743284018705313 and parameters: {'learning_rate': 0.08786568080256521, 'num_leaves': 110, 'max_depth': 11, 'min_data_in_leaf': 75, 'feature_fraction': 0.6441967580140865, 'bagging_fraction': 0.9806529066937737, 'bagging_freq': 10, 'lambda_l1': 2.5472635951540594, 'lambda_l2': 4.438832387493054}. Best is trial 43 with value: 0.9746674615428745.\n"
     ]
    },
    {
     "name": "stdout",
     "output_type": "stream",
     "text": [
      "[Trial 44] Finished with AUC: 0.9743\n",
      "[Trial 46] Using GPU 0\n",
      "[700]\tvalid_0's auc: 0.970323\n",
      "Training until validation scores don't improve for 100 rounds\n",
      "[800]\tvalid_0's auc: 0.971555\n",
      "[100]\tvalid_0's auc: 0.943876\n",
      "[900]\tvalid_0's auc: 0.972543\n",
      "[200]\tvalid_0's auc: 0.9566\n",
      "[1000]\tvalid_0's auc: 0.973171\n",
      "Did not meet early stopping. Best iteration is:\n",
      "[998]\tvalid_0's auc: 0.973175\n"
     ]
    },
    {
     "name": "stderr",
     "output_type": "stream",
     "text": [
      "[I 2025-03-18 18:54:14,581] Trial 45 finished with value: 0.9731751506327742 and parameters: {'learning_rate': 0.08340108312724454, 'num_leaves': 109, 'max_depth': 10, 'min_data_in_leaf': 42, 'feature_fraction': 0.6038024614824464, 'bagging_fraction': 0.9742650436426379, 'bagging_freq': 10, 'lambda_l1': 2.947226051975598, 'lambda_l2': 4.410510420579265}. Best is trial 43 with value: 0.9746674615428745.\n"
     ]
    },
    {
     "name": "stdout",
     "output_type": "stream",
     "text": [
      "[Trial 45] Finished with AUC: 0.9732\n",
      "[Trial 47] Using GPU 1\n",
      "[300]\tvalid_0's auc: 0.962802\n",
      "Training until validation scores don't improve for 100 rounds\n",
      "[400]\tvalid_0's auc: 0.966791\n",
      "[100]\tvalid_0's auc: 0.939503\n",
      "[500]\tvalid_0's auc: 0.9695\n",
      "[200]\tvalid_0's auc: 0.952995\n",
      "[600]\tvalid_0's auc: 0.971253\n",
      "[300]\tvalid_0's auc: 0.95974\n",
      "[700]\tvalid_0's auc: 0.972598\n",
      "[400]\tvalid_0's auc: 0.963769\n",
      "[500]\tvalid_0's auc: 0.966797\n",
      "[800]\tvalid_0's auc: 0.973372\n",
      "[600]\tvalid_0's auc: 0.968906\n",
      "[900]\tvalid_0's auc: 0.973936\n",
      "[700]\tvalid_0's auc: 0.970468\n",
      "[1000]\tvalid_0's auc: 0.974275\n",
      "Did not meet early stopping. Best iteration is:\n",
      "[992]\tvalid_0's auc: 0.974312\n"
     ]
    },
    {
     "name": "stderr",
     "output_type": "stream",
     "text": [
      "[I 2025-03-18 18:58:53,815] Trial 46 finished with value: 0.9743123083339883 and parameters: {'learning_rate': 0.09788699930121791, 'num_leaves': 108, 'max_depth': 11, 'min_data_in_leaf': 77, 'feature_fraction': 0.6121499018316271, 'bagging_fraction': 0.9756690720419416, 'bagging_freq': 10, 'lambda_l1': 2.591810550124511, 'lambda_l2': 4.182577789499148}. Best is trial 43 with value: 0.9746674615428745.\n"
     ]
    },
    {
     "name": "stdout",
     "output_type": "stream",
     "text": [
      "[Trial 46] Finished with AUC: 0.9743\n",
      "[Trial 48] Using GPU 0\n",
      "[800]\tvalid_0's auc: 0.971715\n",
      "Training until validation scores don't improve for 100 rounds\n",
      "[900]\tvalid_0's auc: 0.972674\n",
      "[100]\tvalid_0's auc: 0.944277\n",
      "[1000]\tvalid_0's auc: 0.973204\n",
      "Did not meet early stopping. Best iteration is:\n",
      "[995]\tvalid_0's auc: 0.973207\n"
     ]
    },
    {
     "name": "stderr",
     "output_type": "stream",
     "text": [
      "[I 2025-03-18 19:00:23,936] Trial 47 finished with value: 0.9732074650785276 and parameters: {'learning_rate': 0.09695977064201065, 'num_leaves': 89, 'max_depth': 11, 'min_data_in_leaf': 63, 'feature_fraction': 0.6370941354594477, 'bagging_fraction': 0.9848270280241831, 'bagging_freq': 9, 'lambda_l1': 2.92276041256168, 'lambda_l2': 4.2756374717435275}. Best is trial 43 with value: 0.9746674615428745.\n"
     ]
    },
    {
     "name": "stdout",
     "output_type": "stream",
     "text": [
      "[Trial 47] Finished with AUC: 0.9732\n",
      "[Trial 49] Using GPU 1\n",
      "[200]\tvalid_0's auc: 0.957415\n",
      "Training until validation scores don't improve for 100 rounds\n",
      "[300]\tvalid_0's auc: 0.963495\n",
      "[100]\tvalid_0's auc: 0.942126\n",
      "[400]\tvalid_0's auc: 0.966652\n",
      "[200]\tvalid_0's auc: 0.955729\n",
      "[500]\tvalid_0's auc: 0.969154\n",
      "[300]\tvalid_0's auc: 0.961701\n",
      "[600]\tvalid_0's auc: 0.970874\n",
      "[400]\tvalid_0's auc: 0.965506\n",
      "[700]\tvalid_0's auc: 0.972176\n",
      "[500]\tvalid_0's auc: 0.967861\n",
      "[800]\tvalid_0's auc: 0.973076\n",
      "[600]\tvalid_0's auc: 0.969187\n",
      "[900]\tvalid_0's auc: 0.973768\n",
      "[700]\tvalid_0's auc: 0.970347\n",
      "[1000]\tvalid_0's auc: 0.97438\n",
      "Did not meet early stopping. Best iteration is:\n",
      "[999]\tvalid_0's auc: 0.974389\n"
     ]
    },
    {
     "name": "stderr",
     "output_type": "stream",
     "text": [
      "[I 2025-03-18 19:05:44,395] Trial 48 finished with value: 0.9743889420994103 and parameters: {'learning_rate': 0.09989733079450586, 'num_leaves': 97, 'max_depth': 14, 'min_data_in_leaf': 78, 'feature_fraction': 0.6331413277170564, 'bagging_fraction': 0.9824138691508865, 'bagging_freq': 6, 'lambda_l1': 2.5288924114158235, 'lambda_l2': 4.270232714785398}. Best is trial 43 with value: 0.9746674615428745.\n"
     ]
    },
    {
     "name": "stdout",
     "output_type": "stream",
     "text": [
      "[Trial 48] Finished with AUC: 0.9744\n",
      "[800]\tvalid_0's auc: 0.971447\n",
      "[900]\tvalid_0's auc: 0.971821\n",
      "[1000]\tvalid_0's auc: 0.972247\n",
      "Did not meet early stopping. Best iteration is:\n",
      "[986]\tvalid_0's auc: 0.972305\n"
     ]
    },
    {
     "name": "stderr",
     "output_type": "stream",
     "text": [
      "[I 2025-03-18 19:06:30,163] Trial 49 finished with value: 0.9723047346490329 and parameters: {'learning_rate': 0.09990420229603295, 'num_leaves': 95, 'max_depth': 14, 'min_data_in_leaf': 74, 'feature_fraction': 0.6107269020065746, 'bagging_fraction': 0.7459031707025552, 'bagging_freq': 7, 'lambda_l1': 2.5521312175071564, 'lambda_l2': 4.655489449537278}. Best is trial 43 with value: 0.9746674615428745.\n"
     ]
    },
    {
     "name": "stdout",
     "output_type": "stream",
     "text": [
      "[Trial 49] Finished with AUC: 0.9723\n"
     ]
    }
   ],
   "source": [
    "def optuna_lgb(trial):\n",
    "    # Dynamically assign GPU\n",
    "    gpu_id = trial.number % 2  # Alternate between GPU 0 and 1\n",
    "    print(f\"[Trial {trial.number}] Using GPU {gpu_id}\")\n",
    "\n",
    "    # Define LightGBM parameters\n",
    "    params = {\n",
    "        'objective': 'binary',\n",
    "        'metric': 'auc',\n",
    "        'device': 'gpu',\n",
    "        'gpu_device_id': gpu_id,  # Assign GPU dynamically\n",
    "        'boosting_type': 'gbdt',\n",
    "        'learning_rate': trial.suggest_float('learning_rate', 0.01, 0.1),\n",
    "        'num_leaves': trial.suggest_int('num_leaves', 20, 150),\n",
    "        'max_depth': trial.suggest_int('max_depth', 3, 15),\n",
    "        'min_data_in_leaf': trial.suggest_int('min_data_in_leaf', 20, 200),\n",
    "        'feature_fraction': trial.suggest_float('feature_fraction', 0.6, 1.0),\n",
    "        'bagging_fraction': trial.suggest_float('bagging_fraction', 0.6, 1.0),\n",
    "        'bagging_freq': trial.suggest_int('bagging_freq', 1, 10),\n",
    "        'lambda_l1': trial.suggest_float('lambda_l1', 0, 10),\n",
    "        'lambda_l2': trial.suggest_float('lambda_l2', 0, 10)\n",
    "    }\n",
    "\n",
    "    train_data = lgb.Dataset(X_train, label=y_train)\n",
    "    val_data = lgb.Dataset(X_val, label=y_val, reference=train_data)\n",
    "\n",
    "    # Train LightGBM\n",
    "    model = lgb.train(\n",
    "        params,\n",
    "        train_data,\n",
    "        valid_sets=[val_data],\n",
    "        num_boost_round=1000,\n",
    "        callbacks=[\n",
    "            lgb.early_stopping(stopping_rounds=100),\n",
    "            lgb.log_evaluation(period=100)\n",
    "        ]\n",
    "    )\n",
    "\n",
    "    # Evaluate on validation set\n",
    "    val_pred = model.predict(X_val, num_iteration=model.best_iteration)\n",
    "    auc_score = roc_auc_score(y_val, val_pred)\n",
    "    print(f\"[Trial {trial.number}] Finished with AUC: {auc_score:.4f}\")\n",
    "    return auc_score\n",
    "\n",
    "# Run Optuna study\n",
    "study_name = \"lightgbm_optimization\"\n",
    "study_lgb = optuna.create_study(study_name=study_name, direction=\"maximize\")\n",
    "study_lgb.optimize(optuna_lgb, n_trials=50, n_jobs=2)"
   ]
  },
  {
   "cell_type": "code",
   "execution_count": 5,
   "id": "75d74b0a",
   "metadata": {
    "execution": {
     "iopub.execute_input": "2025-03-18T19:06:30.228575Z",
     "iopub.status.busy": "2025-03-18T19:06:30.228302Z",
     "iopub.status.idle": "2025-03-18T19:06:30.232535Z",
     "shell.execute_reply": "2025-03-18T19:06:30.231958Z"
    },
    "papermill": {
     "duration": 0.034881,
     "end_time": "2025-03-18T19:06:30.233713",
     "exception": false,
     "start_time": "2025-03-18T19:06:30.198832",
     "status": "completed"
    },
    "tags": []
   },
   "outputs": [],
   "source": [
    "best_lgb_params = study_lgb.best_params\n",
    "with open(\"lgb_best_params.json\", \"w\") as f:\n",
    "    json.dump(best_lgb_params, f)"
   ]
  },
  {
   "cell_type": "code",
   "execution_count": 6,
   "id": "df18ee7e",
   "metadata": {
    "execution": {
     "iopub.execute_input": "2025-03-18T19:06:30.303248Z",
     "iopub.status.busy": "2025-03-18T19:06:30.302919Z",
     "iopub.status.idle": "2025-03-18T19:10:05.516304Z",
     "shell.execute_reply": "2025-03-18T19:10:05.515525Z"
    },
    "papermill": {
     "duration": 215.255404,
     "end_time": "2025-03-18T19:10:05.518077",
     "exception": false,
     "start_time": "2025-03-18T19:06:30.262673",
     "status": "completed"
    },
    "tags": []
   },
   "outputs": [
    {
     "name": "stdout",
     "output_type": "stream",
     "text": [
      "[LightGBM] [Info] Number of positive: 16530, number of negative: 455902\n",
      "[LightGBM] [Info] Auto-choosing row-wise multi-threading, the overhead of testing was 0.897139 seconds.\n",
      "You can set `force_row_wise=true` to remove the overhead.\n",
      "And if memory is not enough, you can set `force_col_wise=true`.\n",
      "[LightGBM] [Info] Total Bins 39137\n",
      "[LightGBM] [Info] Number of data points in the train set: 472432, number of used features: 431\n",
      "[LightGBM] [Info] [binary:BoostFromScore]: pavg=0.034989 -> initscore=-3.317101\n",
      "[LightGBM] [Info] Start training from score -3.317101\n",
      "Training until validation scores don't improve for 100 rounds\n",
      "[LightGBM] [Warning] No further splits with positive gain, best gain: -inf\n",
      "[LightGBM] [Warning] No further splits with positive gain, best gain: -inf\n",
      "[LightGBM] [Warning] No further splits with positive gain, best gain: -inf\n",
      "[LightGBM] [Warning] No further splits with positive gain, best gain: -inf\n",
      "[LightGBM] [Warning] No further splits with positive gain, best gain: -inf\n",
      "[LightGBM] [Warning] No further splits with positive gain, best gain: -inf\n",
      "[100]\tvalid_0's auc: 0.941113\n",
      "[LightGBM] [Warning] No further splits with positive gain, best gain: -inf\n",
      "[LightGBM] [Warning] No further splits with positive gain, best gain: -inf\n",
      "[LightGBM] [Warning] No further splits with positive gain, best gain: -inf\n",
      "[LightGBM] [Warning] No further splits with positive gain, best gain: -inf\n",
      "[LightGBM] [Warning] No further splits with positive gain, best gain: -inf\n",
      "[LightGBM] [Warning] No further splits with positive gain, best gain: -inf\n",
      "[LightGBM] [Warning] No further splits with positive gain, best gain: -inf\n",
      "[LightGBM] [Warning] No further splits with positive gain, best gain: -inf\n",
      "[LightGBM] [Warning] No further splits with positive gain, best gain: -inf\n",
      "[LightGBM] [Warning] No further splits with positive gain, best gain: -inf\n",
      "[LightGBM] [Warning] No further splits with positive gain, best gain: -inf\n",
      "[LightGBM] [Warning] No further splits with positive gain, best gain: -inf\n",
      "[LightGBM] [Warning] No further splits with positive gain, best gain: -inf\n",
      "[LightGBM] [Warning] No further splits with positive gain, best gain: -inf\n",
      "[LightGBM] [Warning] No further splits with positive gain, best gain: -inf\n",
      "[LightGBM] [Warning] No further splits with positive gain, best gain: -inf\n",
      "[LightGBM] [Warning] No further splits with positive gain, best gain: -inf\n",
      "[200]\tvalid_0's auc: 0.954604\n",
      "[LightGBM] [Warning] No further splits with positive gain, best gain: -inf\n",
      "[LightGBM] [Warning] No further splits with positive gain, best gain: -inf\n",
      "[LightGBM] [Warning] No further splits with positive gain, best gain: -inf\n",
      "[LightGBM] [Warning] No further splits with positive gain, best gain: -inf\n",
      "[LightGBM] [Warning] No further splits with positive gain, best gain: -inf\n",
      "[LightGBM] [Warning] No further splits with positive gain, best gain: -inf\n",
      "[LightGBM] [Warning] No further splits with positive gain, best gain: -inf\n",
      "[LightGBM] [Warning] No further splits with positive gain, best gain: -inf\n",
      "[LightGBM] [Warning] No further splits with positive gain, best gain: -inf\n",
      "[LightGBM] [Warning] No further splits with positive gain, best gain: -inf\n",
      "[LightGBM] [Warning] No further splits with positive gain, best gain: -inf\n",
      "[LightGBM] [Warning] No further splits with positive gain, best gain: -inf\n",
      "[LightGBM] [Warning] No further splits with positive gain, best gain: -inf\n",
      "[300]\tvalid_0's auc: 0.961202\n",
      "[LightGBM] [Warning] No further splits with positive gain, best gain: -inf\n",
      "[LightGBM] [Warning] No further splits with positive gain, best gain: -inf\n",
      "[400]\tvalid_0's auc: 0.965882\n",
      "[LightGBM] [Warning] No further splits with positive gain, best gain: -inf\n",
      "[LightGBM] [Warning] No further splits with positive gain, best gain: -inf\n",
      "[LightGBM] [Warning] No further splits with positive gain, best gain: -inf\n",
      "[500]\tvalid_0's auc: 0.968866\n",
      "[LightGBM] [Warning] No further splits with positive gain, best gain: -inf\n",
      "[LightGBM] [Warning] No further splits with positive gain, best gain: -inf\n",
      "[LightGBM] [Warning] No further splits with positive gain, best gain: -inf\n",
      "[600]\tvalid_0's auc: 0.970705\n",
      "[LightGBM] [Warning] No further splits with positive gain, best gain: -inf\n",
      "[700]\tvalid_0's auc: 0.971876\n",
      "[800]\tvalid_0's auc: 0.972833\n",
      "[LightGBM] [Warning] No further splits with positive gain, best gain: -inf\n",
      "[LightGBM] [Warning] No further splits with positive gain, best gain: -inf\n",
      "[LightGBM] [Warning] No further splits with positive gain, best gain: -inf\n",
      "[900]\tvalid_0's auc: 0.973583\n",
      "[LightGBM] [Warning] No further splits with positive gain, best gain: -inf\n",
      "[LightGBM] [Warning] No further splits with positive gain, best gain: -inf\n",
      "[LightGBM] [Warning] No further splits with positive gain, best gain: -inf\n",
      "[LightGBM] [Warning] No further splits with positive gain, best gain: -inf\n",
      "[1000]\tvalid_0's auc: 0.973948\n",
      "Did not meet early stopping. Best iteration is:\n",
      "[958]\tvalid_0's auc: 0.973955\n"
     ]
    }
   ],
   "source": [
    "optimized_lgb_model = lgb.train(\n",
    "    {**best_lgb_params, 'objective': 'binary', 'metric': 'auc'},\n",
    "    lgb.Dataset(X_train, label=y_train),\n",
    "    valid_sets=[lgb.Dataset(X_val, label=y_val)],\n",
    "    num_boost_round=1000,\n",
    "    callbacks=[\n",
    "        lgb.early_stopping(stopping_rounds=100),\n",
    "        lgb.log_evaluation(period=100)\n",
    "    ]\n",
    ")\n"
   ]
  },
  {
   "cell_type": "code",
   "execution_count": 7,
   "id": "62bc9a8c",
   "metadata": {
    "execution": {
     "iopub.execute_input": "2025-03-18T19:10:05.583270Z",
     "iopub.status.busy": "2025-03-18T19:10:05.583025Z",
     "iopub.status.idle": "2025-03-18T19:10:05.783137Z",
     "shell.execute_reply": "2025-03-18T19:10:05.782264Z"
    },
    "papermill": {
     "duration": 0.233625,
     "end_time": "2025-03-18T19:10:05.784434",
     "exception": false,
     "start_time": "2025-03-18T19:10:05.550809",
     "status": "completed"
    },
    "tags": []
   },
   "outputs": [
    {
     "data": {
      "text/plain": [
       "['optimized_lgb_model.pkl']"
      ]
     },
     "execution_count": 7,
     "metadata": {},
     "output_type": "execute_result"
    }
   ],
   "source": [
    "joblib.dump(optimized_lgb_model, \"optimized_lgb_model.pkl\")"
   ]
  },
  {
   "cell_type": "code",
   "execution_count": 8,
   "id": "131f2727",
   "metadata": {
    "execution": {
     "iopub.execute_input": "2025-03-18T19:10:05.849521Z",
     "iopub.status.busy": "2025-03-18T19:10:05.849271Z",
     "iopub.status.idle": "2025-03-18T19:10:13.946798Z",
     "shell.execute_reply": "2025-03-18T19:10:13.946108Z"
    },
    "papermill": {
     "duration": 8.131478,
     "end_time": "2025-03-18T19:10:13.948394",
     "exception": false,
     "start_time": "2025-03-18T19:10:05.816916",
     "status": "completed"
    },
    "tags": []
   },
   "outputs": [],
   "source": [
    "val_pred = optimized_lgb_model.predict(\n",
    "    X_val, num_iteration=optimized_lgb_model.best_iteration)\n",
    "val_predictions = pd.DataFrame(\n",
    "    {'isFraud': y_val, 'predicted': val_pred})\n",
    "val_predictions.to_csv(\"lgb_val_predictions.csv\", index=False)"
   ]
  },
  {
   "cell_type": "code",
   "execution_count": 9,
   "id": "37259d68",
   "metadata": {
    "execution": {
     "iopub.execute_input": "2025-03-18T19:10:14.013299Z",
     "iopub.status.busy": "2025-03-18T19:10:14.013045Z",
     "iopub.status.idle": "2025-03-18T19:10:14.064129Z",
     "shell.execute_reply": "2025-03-18T19:10:14.063318Z"
    },
    "papermill": {
     "duration": 0.08442,
     "end_time": "2025-03-18T19:10:14.065405",
     "exception": false,
     "start_time": "2025-03-18T19:10:13.980985",
     "status": "completed"
    },
    "tags": []
   },
   "outputs": [
    {
     "name": "stdout",
     "output_type": "stream",
     "text": [
      "Validation AUC: 0.9740\n"
     ]
    }
   ],
   "source": [
    "val_auc = roc_auc_score(y_val, val_pred)\n",
    "print(f\"Validation AUC: {val_auc:.4f}\")"
   ]
  },
  {
   "cell_type": "code",
   "execution_count": 10,
   "id": "1a8e34c2",
   "metadata": {
    "execution": {
     "iopub.execute_input": "2025-03-18T19:10:14.129750Z",
     "iopub.status.busy": "2025-03-18T19:10:14.129529Z",
     "iopub.status.idle": "2025-03-18T19:10:51.631196Z",
     "shell.execute_reply": "2025-03-18T19:10:51.630232Z"
    },
    "papermill": {
     "duration": 37.535779,
     "end_time": "2025-03-18T19:10:51.633002",
     "exception": false,
     "start_time": "2025-03-18T19:10:14.097223",
     "status": "completed"
    },
    "tags": []
   },
   "outputs": [],
   "source": [
    "test_predictions = optimized_lgb_model.predict(X_test, num_iteration=optimized_lgb_model.best_iteration)\n",
    "\n",
    "# Save test predictions for submission\n",
    "submission = pd.DataFrame(\n",
    "    {'TransactionID': test['TransactionID'],\n",
    "     'isFraud': test_predictions})\n",
    "submission.to_csv(\"submission.csv\", index=False)\n",
    "submission.to_csv(\"lgb_test_predictions.csv\", index=False)"
   ]
  },
  {
   "cell_type": "code",
   "execution_count": 11,
   "id": "4d5b569d",
   "metadata": {
    "execution": {
     "iopub.execute_input": "2025-03-18T19:10:51.700375Z",
     "iopub.status.busy": "2025-03-18T19:10:51.700136Z",
     "iopub.status.idle": "2025-03-18T19:10:51.889464Z",
     "shell.execute_reply": "2025-03-18T19:10:51.888352Z"
    },
    "papermill": {
     "duration": 0.223197,
     "end_time": "2025-03-18T19:10:51.890621",
     "exception": true,
     "start_time": "2025-03-18T19:10:51.667424",
     "status": "failed"
    },
    "tags": []
   },
   "outputs": [
    {
     "ename": "ValueError",
     "evalue": "Classification metrics can't handle a mix of binary and continuous targets",
     "output_type": "error",
     "traceback": [
      "\u001b[0;31m---------------------------------------------------------------------------\u001b[0m",
      "\u001b[0;31mValueError\u001b[0m                                Traceback (most recent call last)",
      "\u001b[0;32m<ipython-input-11-d9843f0b737e>\u001b[0m in \u001b[0;36m<cell line: 1>\u001b[0;34m()\u001b[0m\n\u001b[0;32m----> 1\u001b[0;31m \u001b[0mclassification_report\u001b[0m\u001b[0;34m(\u001b[0m\u001b[0my_val\u001b[0m\u001b[0;34m,\u001b[0m\u001b[0mval_pred\u001b[0m\u001b[0;34m)\u001b[0m\u001b[0;34m\u001b[0m\u001b[0;34m\u001b[0m\u001b[0m\n\u001b[0m",
      "\u001b[0;32m/usr/local/lib/python3.10/dist-packages/sklearn/metrics/_classification.py\u001b[0m in \u001b[0;36mclassification_report\u001b[0;34m(y_true, y_pred, labels, target_names, sample_weight, digits, output_dict, zero_division)\u001b[0m\n\u001b[1;32m   2308\u001b[0m     \"\"\"\n\u001b[1;32m   2309\u001b[0m \u001b[0;34m\u001b[0m\u001b[0m\n\u001b[0;32m-> 2310\u001b[0;31m     \u001b[0my_type\u001b[0m\u001b[0;34m,\u001b[0m \u001b[0my_true\u001b[0m\u001b[0;34m,\u001b[0m \u001b[0my_pred\u001b[0m \u001b[0;34m=\u001b[0m \u001b[0m_check_targets\u001b[0m\u001b[0;34m(\u001b[0m\u001b[0my_true\u001b[0m\u001b[0;34m,\u001b[0m \u001b[0my_pred\u001b[0m\u001b[0;34m)\u001b[0m\u001b[0;34m\u001b[0m\u001b[0;34m\u001b[0m\u001b[0m\n\u001b[0m\u001b[1;32m   2311\u001b[0m \u001b[0;34m\u001b[0m\u001b[0m\n\u001b[1;32m   2312\u001b[0m     \u001b[0;32mif\u001b[0m \u001b[0mlabels\u001b[0m \u001b[0;32mis\u001b[0m \u001b[0;32mNone\u001b[0m\u001b[0;34m:\u001b[0m\u001b[0;34m\u001b[0m\u001b[0;34m\u001b[0m\u001b[0m\n",
      "\u001b[0;32m/usr/local/lib/python3.10/dist-packages/sklearn/metrics/_classification.py\u001b[0m in \u001b[0;36m_check_targets\u001b[0;34m(y_true, y_pred)\u001b[0m\n\u001b[1;32m     93\u001b[0m \u001b[0;34m\u001b[0m\u001b[0m\n\u001b[1;32m     94\u001b[0m     \u001b[0;32mif\u001b[0m \u001b[0mlen\u001b[0m\u001b[0;34m(\u001b[0m\u001b[0my_type\u001b[0m\u001b[0;34m)\u001b[0m \u001b[0;34m>\u001b[0m \u001b[0;36m1\u001b[0m\u001b[0;34m:\u001b[0m\u001b[0;34m\u001b[0m\u001b[0;34m\u001b[0m\u001b[0m\n\u001b[0;32m---> 95\u001b[0;31m         raise ValueError(\n\u001b[0m\u001b[1;32m     96\u001b[0m             \"Classification metrics can't handle a mix of {0} and {1} targets\".format(\n\u001b[1;32m     97\u001b[0m                 \u001b[0mtype_true\u001b[0m\u001b[0;34m,\u001b[0m \u001b[0mtype_pred\u001b[0m\u001b[0;34m\u001b[0m\u001b[0;34m\u001b[0m\u001b[0m\n",
      "\u001b[0;31mValueError\u001b[0m: Classification metrics can't handle a mix of binary and continuous targets"
     ]
    }
   ],
   "source": [
    "classification_report(y_val,val_pred)"
   ]
  }
 ],
 "metadata": {
  "kaggle": {
   "accelerator": "nvidiaTeslaT4",
   "dataSources": [
    {
     "databundleVersionId": 568274,
     "sourceId": 14242,
     "sourceType": "competition"
    }
   ],
   "isGpuEnabled": true,
   "isInternetEnabled": true,
   "language": "python",
   "sourceType": "notebook"
  },
  "kernelspec": {
   "display_name": "Python 3",
   "language": "python",
   "name": "python3"
  },
  "language_info": {
   "codemirror_mode": {
    "name": "ipython",
    "version": 3
   },
   "file_extension": ".py",
   "mimetype": "text/x-python",
   "name": "python",
   "nbconvert_exporter": "python",
   "pygments_lexer": "ipython3",
   "version": "3.10.12"
  },
  "papermill": {
   "default_parameters": {},
   "duration": 9798.045278,
   "end_time": "2025-03-18T19:10:54.421837",
   "environment_variables": {},
   "exception": true,
   "input_path": "__notebook__.ipynb",
   "output_path": "__notebook__.ipynb",
   "parameters": {},
   "start_time": "2025-03-18T16:27:36.376559",
   "version": "2.6.0"
  }
 },
 "nbformat": 4,
 "nbformat_minor": 5
}
