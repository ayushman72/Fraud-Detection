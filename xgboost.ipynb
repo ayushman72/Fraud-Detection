{
 "cells": [
  {
   "cell_type": "code",
   "execution_count": 1,
   "id": "4dc0fa9a",
   "metadata": {
    "_cell_guid": "b1076dfc-b9ad-4769-8c92-a6c4dae69d19",
    "_uuid": "8f2839f25d086af736a60e9eeb907d3b93b6e0e5",
    "execution": {
     "iopub.execute_input": "2025-03-18T16:23:00.922331Z",
     "iopub.status.busy": "2025-03-18T16:23:00.921905Z",
     "iopub.status.idle": "2025-03-18T16:23:04.150803Z",
     "shell.execute_reply": "2025-03-18T16:23:04.149856Z"
    },
    "papermill": {
     "duration": 3.237367,
     "end_time": "2025-03-18T16:23:04.152658",
     "exception": false,
     "start_time": "2025-03-18T16:23:00.915291",
     "status": "completed"
    },
    "tags": []
   },
   "outputs": [],
   "source": [
    "# Import Libraries\n",
    "import pandas as pd\n",
    "import numpy as np\n",
    "import gc\n",
    "import optuna\n",
    "from xgboost import XGBClassifier\n",
    "from sklearn.preprocessing import LabelEncoder\n",
    "from sklearn.model_selection import train_test_split\n",
    "from sklearn.metrics import roc_auc_score, classification_report\n",
    "import warnings\n",
    "import joblib\n",
    "import json\n",
    "\n",
    "# Suppress warnings\n",
    "warnings.filterwarnings(\"ignore\")"
   ]
  },
  {
   "cell_type": "code",
   "execution_count": 2,
   "id": "2145bad4",
   "metadata": {
    "execution": {
     "iopub.execute_input": "2025-03-18T16:23:04.160196Z",
     "iopub.status.busy": "2025-03-18T16:23:04.159634Z",
     "iopub.status.idle": "2025-03-18T16:24:54.522054Z",
     "shell.execute_reply": "2025-03-18T16:24:54.520909Z"
    },
    "papermill": {
     "duration": 110.368322,
     "end_time": "2025-03-18T16:24:54.524222",
     "exception": false,
     "start_time": "2025-03-18T16:23:04.155900",
     "status": "completed"
    },
    "tags": []
   },
   "outputs": [],
   "source": [
    "def load_data_with_scaling_encoding_dtypes():\n",
    "    # Define dtypes for train_transaction\n",
    "    dtypes_train_transaction = {\n",
    "        'TransactionID': 'int32',\n",
    "        'isFraud': 'int8',\n",
    "        'TransactionDT': 'int32',\n",
    "        'TransactionAmt': 'float32',\n",
    "        'ProductCD': 'object',\n",
    "        'card1': 'int16',\n",
    "        'card2': 'float32',\n",
    "        'card3': 'float32',\n",
    "        'card4': 'object',\n",
    "        'card5': 'float32',\n",
    "        'card6': 'object',\n",
    "        'addr1': 'float32',\n",
    "        'addr2': 'float32',\n",
    "        'dist1': 'float32',\n",
    "        'dist2': 'float32',\n",
    "        'P_emaildomain': 'object',\n",
    "        'R_emaildomain': 'object',\n",
    "        # Add all C, D, M, V features\n",
    "        **{f'C{i}': 'float32' for i in range(1, 15)},\n",
    "        **{f'D{i}': 'float32' for i in range(1, 16)},\n",
    "        **{f'M{i}': 'object' for i in range(1, 10)},\n",
    "        **{f'V{i}': 'float32' for i in range(1, 340)}\n",
    "    }\n",
    "\n",
    "    # Define dtypes for train_identity\n",
    "    dtypes_train_identity = {\n",
    "        **{f'id_{i:02}': 'float32' for i in range(1, 12)},\n",
    "        'id_12': 'object',\n",
    "        'id_13': 'float32',\n",
    "        'id_14': 'float32',\n",
    "        'id_15': 'object',\n",
    "        'id_16': 'object',\n",
    "        **{f'id_{i:02}': 'float32' for i in range(17, 40)},\n",
    "        **{f'id_{i:02}': 'object' for i in range(23, 39)},\n",
    "        'DeviceType': 'object',\n",
    "        'DeviceInfo': 'object'\n",
    "    }\n",
    "\n",
    "    # Define dtypes for test datasets\n",
    "    dtypes_test_transaction = dtypes_train_transaction.copy()\n",
    "    del dtypes_test_transaction['isFraud']  # Test data does not contain 'isFraud'\n",
    "\n",
    "    dtypes_test_identity = dtypes_train_identity.copy()\n",
    "\n",
    "    # Read in datasets with dtypes\n",
    "    train_transaction = pd.read_csv(\n",
    "        '/kaggle/input/ieee-fraud-detection/train_transaction.csv', \n",
    "        dtype=dtypes_train_transaction\n",
    "    )\n",
    "    train_identity = pd.read_csv(\n",
    "        '/kaggle/input/ieee-fraud-detection/train_identity.csv', \n",
    "        dtype=dtypes_train_identity\n",
    "    )\n",
    "    test_transaction = pd.read_csv(\n",
    "        '/kaggle/input/ieee-fraud-detection/test_transaction.csv', \n",
    "        dtype=dtypes_test_transaction\n",
    "    )\n",
    "    test_identity = pd.read_csv(\n",
    "        '/kaggle/input/ieee-fraud-detection/test_identity.csv', \n",
    "        dtype=dtypes_test_identity\n",
    "    )\n",
    "\n",
    "    # Standardize column names\n",
    "    test_identity.columns = test_identity.columns.str.replace('-', '_')\n",
    "    test_transaction.columns = test_transaction.columns.str.replace('-', '_')\n",
    "\n",
    "    # Merge datasets\n",
    "    train = train_transaction.merge(train_identity, how='left', on='TransactionID')\n",
    "    test = test_transaction.merge(test_identity, how='left', on='TransactionID')\n",
    "\n",
    "    # Free up memory\n",
    "    del train_transaction, train_identity, test_transaction, test_identity\n",
    "    gc.collect()\n",
    "\n",
    "    # Handle missing values\n",
    "    train.fillna(-999, inplace=True)\n",
    "    test.fillna(-999, inplace=True)\n",
    "\n",
    "    # Define categorical features\n",
    "    categorical_features = [\n",
    "        'ProductCD', 'card4', 'card6', 'P_emaildomain', 'R_emaildomain',\n",
    "        'M1', 'M2', 'M3', 'M4', 'M5', 'M6', 'M7', 'M8', 'M9',\n",
    "        'id_33', 'id_34', 'DeviceType', 'DeviceInfo'\n",
    "    ]\n",
    "    categorical_features += [f'id_{i}' for i in range(12, 39)]\n",
    "\n",
    "    # Encode categorical features\n",
    "    for col in categorical_features:\n",
    "        if col in train.columns:\n",
    "            train[col] = train[col].astype(str)\n",
    "            test[col] = test[col].astype(str)\n",
    "\n",
    "            le = LabelEncoder()\n",
    "            combined_data = pd.concat([train[col], test[col]], axis=0)\n",
    "            le.fit(combined_data)\n",
    "            train[col] = le.transform(train[col])\n",
    "            test[col] = le.transform(test[col])\n",
    "\n",
    "    return train, test\n",
    "\n",
    "# Load data\n",
    "train, test = load_data_with_scaling_encoding_dtypes()\n"
   ]
  },
  {
   "cell_type": "code",
   "execution_count": 3,
   "id": "519941de",
   "metadata": {
    "execution": {
     "iopub.execute_input": "2025-03-18T16:24:54.531365Z",
     "iopub.status.busy": "2025-03-18T16:24:54.531040Z",
     "iopub.status.idle": "2025-03-18T16:24:57.427951Z",
     "shell.execute_reply": "2025-03-18T16:24:57.427009Z"
    },
    "papermill": {
     "duration": 2.902364,
     "end_time": "2025-03-18T16:24:57.429798",
     "exception": false,
     "start_time": "2025-03-18T16:24:54.527434",
     "status": "completed"
    },
    "tags": []
   },
   "outputs": [],
   "source": [
    "X = train.drop(columns=['isFraud', 'TransactionID'])\n",
    "y = train['isFraud']\n",
    "X_test = test.drop(columns=['TransactionID'], errors='ignore')\n",
    "\n",
    "# Train-validation split\n",
    "X_train, X_val, y_train, y_val = train_test_split(\n",
    "    X, y, test_size=0.2, stratify=y, random_state=42\n",
    ")"
   ]
  },
  {
   "cell_type": "code",
   "execution_count": 4,
   "id": "7509d181",
   "metadata": {
    "execution": {
     "iopub.execute_input": "2025-03-18T16:24:57.436988Z",
     "iopub.status.busy": "2025-03-18T16:24:57.436613Z",
     "iopub.status.idle": "2025-03-19T01:45:38.092422Z",
     "shell.execute_reply": "2025-03-19T01:45:38.090831Z"
    },
    "papermill": {
     "duration": 33640.663624,
     "end_time": "2025-03-19T01:45:38.096450",
     "exception": false,
     "start_time": "2025-03-18T16:24:57.432826",
     "status": "completed"
    },
    "tags": []
   },
   "outputs": [
    {
     "name": "stderr",
     "output_type": "stream",
     "text": [
      "[I 2025-03-18 16:24:57,441] A new study created in memory with name: xgboost_optimization\n"
     ]
    },
    {
     "name": "stdout",
     "output_type": "stream",
     "text": [
      "[XGBoost] Starting hyperparameter optimization with Optuna...\n",
      "[XGBoost][Trial 0] Starting optimization with params:\n",
      "[XGBoost][Trial 0] Parameters: {'objective': 'binary:logistic', 'eval_metric': 'auc', 'learning_rate': 0.04193951129251835, 'max_depth': 10, 'min_child_weight': 5.684029759472064, 'gamma': 0.19586268417730812, 'subsample': 0.9820350309865852, 'colsample_bytree': 0.604597367901569, 'lambda': 9.985724603916392, 'alpha': 6.285876395469289, 'n_estimators': 1000}\n",
      "[XGBoost][Trial 0] Training started...\n",
      "[0]\tvalidation_0-auc:0.83242\n",
      "[100]\tvalidation_0-auc:0.91641\n",
      "[200]\tvalidation_0-auc:0.93625\n",
      "[300]\tvalidation_0-auc:0.94400\n",
      "[400]\tvalidation_0-auc:0.94965\n",
      "[500]\tvalidation_0-auc:0.95389\n",
      "[600]\tvalidation_0-auc:0.95722\n",
      "[700]\tvalidation_0-auc:0.95969\n",
      "[800]\tvalidation_0-auc:0.96186\n",
      "[900]\tvalidation_0-auc:0.96340\n",
      "[999]\tvalidation_0-auc:0.96474\n",
      "[XGBoost][Trial 0] Training completed.\n"
     ]
    },
    {
     "name": "stderr",
     "output_type": "stream",
     "text": [
      "[I 2025-03-18 16:36:26,784] Trial 0 finished with value: 0.9647428412182409 and parameters: {'learning_rate': 0.04193951129251835, 'max_depth': 10, 'min_child_weight': 5.684029759472064, 'gamma': 0.19586268417730812, 'subsample': 0.9820350309865852, 'colsample_bytree': 0.604597367901569, 'lambda': 9.985724603916392, 'alpha': 6.285876395469289}. Best is trial 0 with value: 0.9647428412182409.\n"
     ]
    },
    {
     "name": "stdout",
     "output_type": "stream",
     "text": [
      "[XGBoost][Trial 0] AUC Score: 0.9647\n",
      "[XGBoost][Trial 1] Starting optimization with params:\n",
      "[XGBoost][Trial 1] Parameters: {'objective': 'binary:logistic', 'eval_metric': 'auc', 'learning_rate': 0.01731619152566296, 'max_depth': 8, 'min_child_weight': 5.68112193955543, 'gamma': 0.43419181402534257, 'subsample': 0.8349235632540425, 'colsample_bytree': 0.9366084156559806, 'lambda': 0.2542918718348608, 'alpha': 4.211957755413984, 'n_estimators': 1000}\n",
      "[XGBoost][Trial 1] Training started...\n",
      "[0]\tvalidation_0-auc:0.80625\n",
      "[100]\tvalidation_0-auc:0.88530\n",
      "[200]\tvalidation_0-auc:0.90695\n",
      "[300]\tvalidation_0-auc:0.92238\n",
      "[400]\tvalidation_0-auc:0.92958\n",
      "[500]\tvalidation_0-auc:0.93442\n",
      "[600]\tvalidation_0-auc:0.93799\n",
      "[700]\tvalidation_0-auc:0.94122\n",
      "[800]\tvalidation_0-auc:0.94407\n",
      "[900]\tvalidation_0-auc:0.94679\n",
      "[999]\tvalidation_0-auc:0.94915\n",
      "[XGBoost][Trial 1] Training completed.\n"
     ]
    },
    {
     "name": "stderr",
     "output_type": "stream",
     "text": [
      "[I 2025-03-18 16:46:59,871] Trial 1 finished with value: 0.9491538617774102 and parameters: {'learning_rate': 0.01731619152566296, 'max_depth': 8, 'min_child_weight': 5.68112193955543, 'gamma': 0.43419181402534257, 'subsample': 0.8349235632540425, 'colsample_bytree': 0.9366084156559806, 'lambda': 0.2542918718348608, 'alpha': 4.211957755413984}. Best is trial 0 with value: 0.9647428412182409.\n"
     ]
    },
    {
     "name": "stdout",
     "output_type": "stream",
     "text": [
      "[XGBoost][Trial 1] AUC Score: 0.9492\n",
      "[XGBoost][Trial 2] Starting optimization with params:\n",
      "[XGBoost][Trial 2] Parameters: {'objective': 'binary:logistic', 'eval_metric': 'auc', 'learning_rate': 0.06112678360331157, 'max_depth': 9, 'min_child_weight': 7.152649052813988, 'gamma': 0.9947897413004114, 'subsample': 0.7137574350213485, 'colsample_bytree': 0.7904662835967776, 'lambda': 3.502295879080001, 'alpha': 8.779849506632232, 'n_estimators': 1000}\n",
      "[XGBoost][Trial 2] Training started...\n",
      "[0]\tvalidation_0-auc:0.83100\n",
      "[100]\tvalidation_0-auc:0.92278\n",
      "[200]\tvalidation_0-auc:0.93911\n",
      "[300]\tvalidation_0-auc:0.94783\n",
      "[400]\tvalidation_0-auc:0.95302\n",
      "[500]\tvalidation_0-auc:0.95678\n",
      "[600]\tvalidation_0-auc:0.95900\n",
      "[700]\tvalidation_0-auc:0.96052\n",
      "[800]\tvalidation_0-auc:0.96164\n",
      "[900]\tvalidation_0-auc:0.96263\n",
      "[999]\tvalidation_0-auc:0.96341\n",
      "[XGBoost][Trial 2] Training completed.\n"
     ]
    },
    {
     "name": "stderr",
     "output_type": "stream",
     "text": [
      "[I 2025-03-18 16:58:05,377] Trial 2 finished with value: 0.9634053050822171 and parameters: {'learning_rate': 0.06112678360331157, 'max_depth': 9, 'min_child_weight': 7.152649052813988, 'gamma': 0.9947897413004114, 'subsample': 0.7137574350213485, 'colsample_bytree': 0.7904662835967776, 'lambda': 3.502295879080001, 'alpha': 8.779849506632232}. Best is trial 0 with value: 0.9647428412182409.\n"
     ]
    },
    {
     "name": "stdout",
     "output_type": "stream",
     "text": [
      "[XGBoost][Trial 2] AUC Score: 0.9634\n",
      "[XGBoost][Trial 3] Starting optimization with params:\n",
      "[XGBoost][Trial 3] Parameters: {'objective': 'binary:logistic', 'eval_metric': 'auc', 'learning_rate': 0.04203087955043107, 'max_depth': 13, 'min_child_weight': 3.4376710158786437, 'gamma': 0.16642556260326125, 'subsample': 0.932566641499384, 'colsample_bytree': 0.6619826825403224, 'lambda': 6.87435154031978, 'alpha': 5.972352759660401, 'n_estimators': 1000}\n",
      "[XGBoost][Trial 3] Training started...\n",
      "[0]\tvalidation_0-auc:0.85536\n",
      "[100]\tvalidation_0-auc:0.92816\n",
      "[200]\tvalidation_0-auc:0.94946\n",
      "[300]\tvalidation_0-auc:0.95757\n",
      "[400]\tvalidation_0-auc:0.96240\n",
      "[500]\tvalidation_0-auc:0.96534\n",
      "[600]\tvalidation_0-auc:0.96750\n",
      "[700]\tvalidation_0-auc:0.96917\n",
      "[800]\tvalidation_0-auc:0.97047\n",
      "[900]\tvalidation_0-auc:0.97138\n",
      "[999]\tvalidation_0-auc:0.97198\n",
      "[XGBoost][Trial 3] Training completed.\n"
     ]
    },
    {
     "name": "stderr",
     "output_type": "stream",
     "text": [
      "[I 2025-03-18 17:11:37,343] Trial 3 finished with value: 0.9719842416658603 and parameters: {'learning_rate': 0.04203087955043107, 'max_depth': 13, 'min_child_weight': 3.4376710158786437, 'gamma': 0.16642556260326125, 'subsample': 0.932566641499384, 'colsample_bytree': 0.6619826825403224, 'lambda': 6.87435154031978, 'alpha': 5.972352759660401}. Best is trial 3 with value: 0.9719842416658603.\n"
     ]
    },
    {
     "name": "stdout",
     "output_type": "stream",
     "text": [
      "[XGBoost][Trial 3] AUC Score: 0.9720\n",
      "[XGBoost][Trial 4] Starting optimization with params:\n",
      "[XGBoost][Trial 4] Parameters: {'objective': 'binary:logistic', 'eval_metric': 'auc', 'learning_rate': 0.05853650072808992, 'max_depth': 4, 'min_child_weight': 8.69473387768503, 'gamma': 2.716622379257852, 'subsample': 0.7079898904332567, 'colsample_bytree': 0.9466706310548912, 'lambda': 3.593637333005292, 'alpha': 8.353248451779935, 'n_estimators': 1000}\n",
      "[XGBoost][Trial 4] Training started...\n",
      "[0]\tvalidation_0-auc:0.69459\n",
      "[100]\tvalidation_0-auc:0.88663\n",
      "[200]\tvalidation_0-auc:0.90089\n",
      "[300]\tvalidation_0-auc:0.90793\n",
      "[400]\tvalidation_0-auc:0.91295\n",
      "[500]\tvalidation_0-auc:0.91695\n",
      "[600]\tvalidation_0-auc:0.92052\n",
      "[700]\tvalidation_0-auc:0.92334\n",
      "[800]\tvalidation_0-auc:0.92626\n",
      "[900]\tvalidation_0-auc:0.92887\n",
      "[999]\tvalidation_0-auc:0.93063\n",
      "[XGBoost][Trial 4] Training completed.\n"
     ]
    },
    {
     "name": "stderr",
     "output_type": "stream",
     "text": [
      "[I 2025-03-18 17:20:22,718] Trial 4 finished with value: 0.9306270328213357 and parameters: {'learning_rate': 0.05853650072808992, 'max_depth': 4, 'min_child_weight': 8.69473387768503, 'gamma': 2.716622379257852, 'subsample': 0.7079898904332567, 'colsample_bytree': 0.9466706310548912, 'lambda': 3.593637333005292, 'alpha': 8.353248451779935}. Best is trial 3 with value: 0.9719842416658603.\n"
     ]
    },
    {
     "name": "stdout",
     "output_type": "stream",
     "text": [
      "[XGBoost][Trial 4] AUC Score: 0.9306\n",
      "[XGBoost][Trial 5] Starting optimization with params:\n",
      "[XGBoost][Trial 5] Parameters: {'objective': 'binary:logistic', 'eval_metric': 'auc', 'learning_rate': 0.0381808624739259, 'max_depth': 3, 'min_child_weight': 5.05340205955355, 'gamma': 1.0197932197980963, 'subsample': 0.7816754217318932, 'colsample_bytree': 0.9900722748611052, 'lambda': 8.50537641507337, 'alpha': 2.1318534464733876, 'n_estimators': 1000}\n",
      "[XGBoost][Trial 5] Training started...\n",
      "[0]\tvalidation_0-auc:0.63538\n",
      "[100]\tvalidation_0-auc:0.86958\n",
      "[200]\tvalidation_0-auc:0.88202\n",
      "[300]\tvalidation_0-auc:0.88875\n",
      "[400]\tvalidation_0-auc:0.89384\n",
      "[500]\tvalidation_0-auc:0.89739\n",
      "[600]\tvalidation_0-auc:0.90086\n",
      "[700]\tvalidation_0-auc:0.90345\n",
      "[800]\tvalidation_0-auc:0.90549\n",
      "[900]\tvalidation_0-auc:0.90748\n",
      "[999]\tvalidation_0-auc:0.90933\n",
      "[XGBoost][Trial 5] Training completed.\n"
     ]
    },
    {
     "name": "stderr",
     "output_type": "stream",
     "text": [
      "[I 2025-03-18 17:28:35,694] Trial 5 finished with value: 0.9093318937391398 and parameters: {'learning_rate': 0.0381808624739259, 'max_depth': 3, 'min_child_weight': 5.05340205955355, 'gamma': 1.0197932197980963, 'subsample': 0.7816754217318932, 'colsample_bytree': 0.9900722748611052, 'lambda': 8.50537641507337, 'alpha': 2.1318534464733876}. Best is trial 3 with value: 0.9719842416658603.\n"
     ]
    },
    {
     "name": "stdout",
     "output_type": "stream",
     "text": [
      "[XGBoost][Trial 5] AUC Score: 0.9093\n",
      "[XGBoost][Trial 6] Starting optimization with params:\n",
      "[XGBoost][Trial 6] Parameters: {'objective': 'binary:logistic', 'eval_metric': 'auc', 'learning_rate': 0.017356466813002954, 'max_depth': 6, 'min_child_weight': 9.755768169647219, 'gamma': 2.0221259555835895, 'subsample': 0.8521024404858413, 'colsample_bytree': 0.7842288512595659, 'lambda': 4.294511208641611, 'alpha': 5.541013758497758, 'n_estimators': 1000}\n",
      "[XGBoost][Trial 6] Training started...\n",
      "[0]\tvalidation_0-auc:0.79644\n",
      "[100]\tvalidation_0-auc:0.87308\n",
      "[200]\tvalidation_0-auc:0.89052\n",
      "[300]\tvalidation_0-auc:0.90211\n",
      "[400]\tvalidation_0-auc:0.90928\n",
      "[500]\tvalidation_0-auc:0.91415\n",
      "[600]\tvalidation_0-auc:0.91771\n",
      "[700]\tvalidation_0-auc:0.92080\n",
      "[800]\tvalidation_0-auc:0.92308\n",
      "[900]\tvalidation_0-auc:0.92546\n",
      "[999]\tvalidation_0-auc:0.92769\n",
      "[XGBoost][Trial 6] Training completed.\n"
     ]
    },
    {
     "name": "stderr",
     "output_type": "stream",
     "text": [
      "[I 2025-03-18 17:38:05,776] Trial 6 finished with value: 0.9276937591691736 and parameters: {'learning_rate': 0.017356466813002954, 'max_depth': 6, 'min_child_weight': 9.755768169647219, 'gamma': 2.0221259555835895, 'subsample': 0.8521024404858413, 'colsample_bytree': 0.7842288512595659, 'lambda': 4.294511208641611, 'alpha': 5.541013758497758}. Best is trial 3 with value: 0.9719842416658603.\n"
     ]
    },
    {
     "name": "stdout",
     "output_type": "stream",
     "text": [
      "[XGBoost][Trial 6] AUC Score: 0.9277\n",
      "[XGBoost][Trial 7] Starting optimization with params:\n",
      "[XGBoost][Trial 7] Parameters: {'objective': 'binary:logistic', 'eval_metric': 'auc', 'learning_rate': 0.07611756128407521, 'max_depth': 13, 'min_child_weight': 7.014724159863737, 'gamma': 4.098371651820575, 'subsample': 0.8005585003785253, 'colsample_bytree': 0.7459374898754837, 'lambda': 2.545944888607213, 'alpha': 1.265686776692746, 'n_estimators': 1000}\n",
      "[XGBoost][Trial 7] Training started...\n",
      "[0]\tvalidation_0-auc:0.85817\n",
      "[100]\tvalidation_0-auc:0.94698\n",
      "[200]\tvalidation_0-auc:0.95300\n",
      "[300]\tvalidation_0-auc:0.95423\n",
      "[400]\tvalidation_0-auc:0.95497\n",
      "[500]\tvalidation_0-auc:0.95527\n",
      "[600]\tvalidation_0-auc:0.95539\n",
      "[700]\tvalidation_0-auc:0.95560\n",
      "[800]\tvalidation_0-auc:0.95571\n",
      "[900]\tvalidation_0-auc:0.95575\n",
      "[999]\tvalidation_0-auc:0.95586\n",
      "[XGBoost][Trial 7] Training completed.\n"
     ]
    },
    {
     "name": "stderr",
     "output_type": "stream",
     "text": [
      "[I 2025-03-18 17:47:04,710] Trial 7 finished with value: 0.9558558039505376 and parameters: {'learning_rate': 0.07611756128407521, 'max_depth': 13, 'min_child_weight': 7.014724159863737, 'gamma': 4.098371651820575, 'subsample': 0.8005585003785253, 'colsample_bytree': 0.7459374898754837, 'lambda': 2.545944888607213, 'alpha': 1.265686776692746}. Best is trial 3 with value: 0.9719842416658603.\n"
     ]
    },
    {
     "name": "stdout",
     "output_type": "stream",
     "text": [
      "[XGBoost][Trial 7] AUC Score: 0.9559\n",
      "[XGBoost][Trial 8] Starting optimization with params:\n",
      "[XGBoost][Trial 8] Parameters: {'objective': 'binary:logistic', 'eval_metric': 'auc', 'learning_rate': 0.036523104306816406, 'max_depth': 3, 'min_child_weight': 9.012124611736281, 'gamma': 1.3542759121588737, 'subsample': 0.9216439827765025, 'colsample_bytree': 0.7434056974522346, 'lambda': 2.939404014004338, 'alpha': 6.555024746606532, 'n_estimators': 1000}\n",
      "[XGBoost][Trial 8] Training started...\n",
      "[0]\tvalidation_0-auc:0.64718\n",
      "[100]\tvalidation_0-auc:0.86928\n",
      "[200]\tvalidation_0-auc:0.88059\n",
      "[300]\tvalidation_0-auc:0.88775\n",
      "[400]\tvalidation_0-auc:0.89284\n",
      "[500]\tvalidation_0-auc:0.89622\n",
      "[600]\tvalidation_0-auc:0.89885\n",
      "[700]\tvalidation_0-auc:0.90132\n",
      "[800]\tvalidation_0-auc:0.90343\n",
      "[900]\tvalidation_0-auc:0.90542\n",
      "[999]\tvalidation_0-auc:0.90725\n",
      "[XGBoost][Trial 8] Training completed.\n"
     ]
    },
    {
     "name": "stderr",
     "output_type": "stream",
     "text": [
      "[I 2025-03-18 17:55:18,787] Trial 8 finished with value: 0.907245796927527 and parameters: {'learning_rate': 0.036523104306816406, 'max_depth': 3, 'min_child_weight': 9.012124611736281, 'gamma': 1.3542759121588737, 'subsample': 0.9216439827765025, 'colsample_bytree': 0.7434056974522346, 'lambda': 2.939404014004338, 'alpha': 6.555024746606532}. Best is trial 3 with value: 0.9719842416658603.\n"
     ]
    },
    {
     "name": "stdout",
     "output_type": "stream",
     "text": [
      "[XGBoost][Trial 8] AUC Score: 0.9072\n",
      "[XGBoost][Trial 9] Starting optimization with params:\n",
      "[XGBoost][Trial 9] Parameters: {'objective': 'binary:logistic', 'eval_metric': 'auc', 'learning_rate': 0.0739772213240163, 'max_depth': 7, 'min_child_weight': 2.129337726023903, 'gamma': 0.8672744215954237, 'subsample': 0.9737042116152853, 'colsample_bytree': 0.7537908275408904, 'lambda': 8.995623475188546, 'alpha': 4.837243480389777, 'n_estimators': 1000}\n",
      "[XGBoost][Trial 9] Training started...\n",
      "[0]\tvalidation_0-auc:0.79414\n",
      "[100]\tvalidation_0-auc:0.91839\n",
      "[200]\tvalidation_0-auc:0.93316\n",
      "[300]\tvalidation_0-auc:0.94182\n",
      "[400]\tvalidation_0-auc:0.94801\n",
      "[500]\tvalidation_0-auc:0.95214\n",
      "[600]\tvalidation_0-auc:0.95386\n",
      "[700]\tvalidation_0-auc:0.95488\n",
      "[800]\tvalidation_0-auc:0.95512\n",
      "[900]\tvalidation_0-auc:0.95545\n",
      "[999]\tvalidation_0-auc:0.95582\n",
      "[XGBoost][Trial 9] Training completed.\n"
     ]
    },
    {
     "name": "stderr",
     "output_type": "stream",
     "text": [
      "[I 2025-03-18 18:04:16,140] Trial 9 finished with value: 0.9558237389429247 and parameters: {'learning_rate': 0.0739772213240163, 'max_depth': 7, 'min_child_weight': 2.129337726023903, 'gamma': 0.8672744215954237, 'subsample': 0.9737042116152853, 'colsample_bytree': 0.7537908275408904, 'lambda': 8.995623475188546, 'alpha': 4.837243480389777}. Best is trial 3 with value: 0.9719842416658603.\n"
     ]
    },
    {
     "name": "stdout",
     "output_type": "stream",
     "text": [
      "[XGBoost][Trial 9] AUC Score: 0.9558\n",
      "[XGBoost][Trial 10] Starting optimization with params:\n",
      "[XGBoost][Trial 10] Parameters: {'objective': 'binary:logistic', 'eval_metric': 'auc', 'learning_rate': 0.09880666123234902, 'max_depth': 15, 'min_child_weight': 1.1927077425325328, 'gamma': 3.2380178269114506, 'subsample': 0.9006434078045371, 'colsample_bytree': 0.6034192717460053, 'lambda': 6.3515977877151375, 'alpha': 9.996278620813857, 'n_estimators': 1000}\n",
      "[XGBoost][Trial 10] Training started...\n",
      "[0]\tvalidation_0-auc:0.84833\n",
      "[100]\tvalidation_0-auc:0.94508\n",
      "[200]\tvalidation_0-auc:0.94698\n",
      "[300]\tvalidation_0-auc:0.94746\n",
      "[400]\tvalidation_0-auc:0.94763\n",
      "[500]\tvalidation_0-auc:0.94776\n",
      "[582]\tvalidation_0-auc:0.94776\n",
      "[XGBoost][Trial 10] Training completed.\n"
     ]
    },
    {
     "name": "stderr",
     "output_type": "stream",
     "text": [
      "[I 2025-03-18 18:09:23,823] Trial 10 finished with value: 0.947759180955536 and parameters: {'learning_rate': 0.09880666123234902, 'max_depth': 15, 'min_child_weight': 1.1927077425325328, 'gamma': 3.2380178269114506, 'subsample': 0.9006434078045371, 'colsample_bytree': 0.6034192717460053, 'lambda': 6.3515977877151375, 'alpha': 9.996278620813857}. Best is trial 3 with value: 0.9719842416658603.\n"
     ]
    },
    {
     "name": "stdout",
     "output_type": "stream",
     "text": [
      "[XGBoost][Trial 10] AUC Score: 0.9478\n",
      "[XGBoost][Trial 11] Starting optimization with params:\n",
      "[XGBoost][Trial 11] Parameters: {'objective': 'binary:logistic', 'eval_metric': 'auc', 'learning_rate': 0.039114634824124334, 'max_depth': 12, 'min_child_weight': 3.5676957794567024, 'gamma': 0.11364947033210099, 'subsample': 0.990940161815896, 'colsample_bytree': 0.6012645966723773, 'lambda': 7.314810663412876, 'alpha': 7.21622517622027, 'n_estimators': 1000}\n",
      "[XGBoost][Trial 11] Training started...\n",
      "[0]\tvalidation_0-auc:0.83899\n",
      "[100]\tvalidation_0-auc:0.92154\n",
      "[200]\tvalidation_0-auc:0.94421\n",
      "[300]\tvalidation_0-auc:0.95253\n",
      "[400]\tvalidation_0-auc:0.95758\n",
      "[500]\tvalidation_0-auc:0.96109\n",
      "[600]\tvalidation_0-auc:0.96364\n",
      "[700]\tvalidation_0-auc:0.96566\n",
      "[800]\tvalidation_0-auc:0.96696\n",
      "[900]\tvalidation_0-auc:0.96804\n",
      "[999]\tvalidation_0-auc:0.96847\n",
      "[XGBoost][Trial 11] Training completed.\n"
     ]
    },
    {
     "name": "stderr",
     "output_type": "stream",
     "text": [
      "[I 2025-03-18 18:22:01,530] Trial 11 finished with value: 0.968470311049892 and parameters: {'learning_rate': 0.039114634824124334, 'max_depth': 12, 'min_child_weight': 3.5676957794567024, 'gamma': 0.11364947033210099, 'subsample': 0.990940161815896, 'colsample_bytree': 0.6012645966723773, 'lambda': 7.314810663412876, 'alpha': 7.21622517622027}. Best is trial 3 with value: 0.9719842416658603.\n"
     ]
    },
    {
     "name": "stdout",
     "output_type": "stream",
     "text": [
      "[XGBoost][Trial 11] AUC Score: 0.9685\n",
      "[XGBoost][Trial 12] Starting optimization with params:\n",
      "[XGBoost][Trial 12] Parameters: {'objective': 'binary:logistic', 'eval_metric': 'auc', 'learning_rate': 0.029057669432393025, 'max_depth': 12, 'min_child_weight': 3.3645083974924788, 'gamma': 1.9752839631147814, 'subsample': 0.9997142013605631, 'colsample_bytree': 0.6738289274751805, 'lambda': 6.549536641463319, 'alpha': 3.4819220030233016, 'n_estimators': 1000}\n",
      "[XGBoost][Trial 12] Training started...\n",
      "[0]\tvalidation_0-auc:0.85150\n",
      "[100]\tvalidation_0-auc:0.91456\n",
      "[200]\tvalidation_0-auc:0.94034\n",
      "[300]\tvalidation_0-auc:0.94908\n",
      "[400]\tvalidation_0-auc:0.95365\n",
      "[500]\tvalidation_0-auc:0.95382\n",
      "[600]\tvalidation_0-auc:0.95404\n",
      "[700]\tvalidation_0-auc:0.95404\n",
      "[722]\tvalidation_0-auc:0.95404\n",
      "[XGBoost][Trial 12] Training completed.\n"
     ]
    },
    {
     "name": "stderr",
     "output_type": "stream",
     "text": [
      "[I 2025-03-18 18:29:26,517] Trial 12 finished with value: 0.9540461939269029 and parameters: {'learning_rate': 0.029057669432393025, 'max_depth': 12, 'min_child_weight': 3.3645083974924788, 'gamma': 1.9752839631147814, 'subsample': 0.9997142013605631, 'colsample_bytree': 0.6738289274751805, 'lambda': 6.549536641463319, 'alpha': 3.4819220030233016}. Best is trial 3 with value: 0.9719842416658603.\n"
     ]
    },
    {
     "name": "stdout",
     "output_type": "stream",
     "text": [
      "[XGBoost][Trial 12] AUC Score: 0.9540\n",
      "[XGBoost][Trial 13] Starting optimization with params:\n",
      "[XGBoost][Trial 13] Parameters: {'objective': 'binary:logistic', 'eval_metric': 'auc', 'learning_rate': 0.04792653455502913, 'max_depth': 12, 'min_child_weight': 3.5136371830350326, 'gamma': 4.975142595200959, 'subsample': 0.6263926149536239, 'colsample_bytree': 0.663428370191823, 'lambda': 6.5711720008646495, 'alpha': 7.5810593463816165, 'n_estimators': 1000}\n",
      "[XGBoost][Trial 13] Training started...\n",
      "[0]\tvalidation_0-auc:0.83186\n",
      "[100]\tvalidation_0-auc:0.91701\n",
      "[200]\tvalidation_0-auc:0.93336\n",
      "[300]\tvalidation_0-auc:0.93586\n",
      "[400]\tvalidation_0-auc:0.93697\n",
      "[500]\tvalidation_0-auc:0.93778\n",
      "[600]\tvalidation_0-auc:0.93837\n",
      "[700]\tvalidation_0-auc:0.93870\n",
      "[800]\tvalidation_0-auc:0.93892\n",
      "[900]\tvalidation_0-auc:0.93905\n",
      "[999]\tvalidation_0-auc:0.93933\n",
      "[XGBoost][Trial 13] Training completed.\n"
     ]
    },
    {
     "name": "stderr",
     "output_type": "stream",
     "text": [
      "[I 2025-03-18 18:38:15,061] Trial 13 finished with value: 0.9393285507373366 and parameters: {'learning_rate': 0.04792653455502913, 'max_depth': 12, 'min_child_weight': 3.5136371830350326, 'gamma': 4.975142595200959, 'subsample': 0.6263926149536239, 'colsample_bytree': 0.663428370191823, 'lambda': 6.5711720008646495, 'alpha': 7.5810593463816165}. Best is trial 3 with value: 0.9719842416658603.\n"
     ]
    },
    {
     "name": "stdout",
     "output_type": "stream",
     "text": [
      "[XGBoost][Trial 13] AUC Score: 0.9393\n",
      "[XGBoost][Trial 14] Starting optimization with params:\n",
      "[XGBoost][Trial 14] Parameters: {'objective': 'binary:logistic', 'eval_metric': 'auc', 'learning_rate': 0.026076159520472677, 'max_depth': 14, 'min_child_weight': 3.5302781437140607, 'gamma': 0.12929251783886475, 'subsample': 0.9196500928925697, 'colsample_bytree': 0.6778357933507395, 'lambda': 7.63584736633312, 'alpha': 7.227416879405583, 'n_estimators': 1000}\n",
      "[XGBoost][Trial 14] Training started...\n",
      "[0]\tvalidation_0-auc:0.86039\n",
      "[100]\tvalidation_0-auc:0.90945\n",
      "[200]\tvalidation_0-auc:0.93574\n",
      "[300]\tvalidation_0-auc:0.94793\n",
      "[400]\tvalidation_0-auc:0.95438\n",
      "[500]\tvalidation_0-auc:0.95849\n",
      "[600]\tvalidation_0-auc:0.96149\n",
      "[700]\tvalidation_0-auc:0.96358\n",
      "[800]\tvalidation_0-auc:0.96541\n",
      "[900]\tvalidation_0-auc:0.96687\n",
      "[999]\tvalidation_0-auc:0.96793\n",
      "[XGBoost][Trial 14] Training completed.\n"
     ]
    },
    {
     "name": "stderr",
     "output_type": "stream",
     "text": [
      "[I 2025-03-18 18:52:17,062] Trial 14 finished with value: 0.9679286916858074 and parameters: {'learning_rate': 0.026076159520472677, 'max_depth': 14, 'min_child_weight': 3.5302781437140607, 'gamma': 0.12929251783886475, 'subsample': 0.9196500928925697, 'colsample_bytree': 0.6778357933507395, 'lambda': 7.63584736633312, 'alpha': 7.227416879405583}. Best is trial 3 with value: 0.9719842416658603.\n"
     ]
    },
    {
     "name": "stdout",
     "output_type": "stream",
     "text": [
      "[XGBoost][Trial 14] AUC Score: 0.9679\n",
      "[XGBoost][Trial 15] Starting optimization with params:\n",
      "[XGBoost][Trial 15] Parameters: {'objective': 'binary:logistic', 'eval_metric': 'auc', 'learning_rate': 0.051918367803965096, 'max_depth': 11, 'min_child_weight': 4.508878536150885, 'gamma': 1.735571634493251, 'subsample': 0.938133861124348, 'colsample_bytree': 0.8543298905822895, 'lambda': 5.374848636292132, 'alpha': 3.031518820783281, 'n_estimators': 1000}\n",
      "[XGBoost][Trial 15] Training started...\n",
      "[0]\tvalidation_0-auc:0.83436\n",
      "[100]\tvalidation_0-auc:0.93462\n",
      "[200]\tvalidation_0-auc:0.94960\n",
      "[300]\tvalidation_0-auc:0.95699\n",
      "[400]\tvalidation_0-auc:0.95875\n",
      "[500]\tvalidation_0-auc:0.95933\n",
      "[600]\tvalidation_0-auc:0.95968\n",
      "[700]\tvalidation_0-auc:0.96001\n",
      "[800]\tvalidation_0-auc:0.96019\n",
      "[900]\tvalidation_0-auc:0.96034\n",
      "[999]\tvalidation_0-auc:0.96043\n",
      "[XGBoost][Trial 15] Training completed.\n"
     ]
    },
    {
     "name": "stderr",
     "output_type": "stream",
     "text": [
      "[I 2025-03-18 19:01:30,508] Trial 15 finished with value: 0.9604319589274096 and parameters: {'learning_rate': 0.051918367803965096, 'max_depth': 11, 'min_child_weight': 4.508878536150885, 'gamma': 1.735571634493251, 'subsample': 0.938133861124348, 'colsample_bytree': 0.8543298905822895, 'lambda': 5.374848636292132, 'alpha': 3.031518820783281}. Best is trial 3 with value: 0.9719842416658603.\n"
     ]
    },
    {
     "name": "stdout",
     "output_type": "stream",
     "text": [
      "[XGBoost][Trial 15] AUC Score: 0.9604\n",
      "[XGBoost][Trial 16] Starting optimization with params:\n",
      "[XGBoost][Trial 16] Parameters: {'objective': 'binary:logistic', 'eval_metric': 'auc', 'learning_rate': 0.06708906128154395, 'max_depth': 15, 'min_child_weight': 2.273042549662838, 'gamma': 2.935977260500579, 'subsample': 0.8755442154064184, 'colsample_bytree': 0.6571501211267551, 'lambda': 7.620350953075996, 'alpha': 5.329492431099436, 'n_estimators': 1000}\n",
      "[XGBoost][Trial 16] Training started...\n",
      "[0]\tvalidation_0-auc:0.85958\n",
      "[100]\tvalidation_0-auc:0.94226\n",
      "[200]\tvalidation_0-auc:0.95225\n",
      "[300]\tvalidation_0-auc:0.95346\n",
      "[400]\tvalidation_0-auc:0.95384\n",
      "[500]\tvalidation_0-auc:0.95388\n",
      "[600]\tvalidation_0-auc:0.95389\n",
      "[700]\tvalidation_0-auc:0.95411\n",
      "[800]\tvalidation_0-auc:0.95411\n",
      "[900]\tvalidation_0-auc:0.95410\n",
      "[999]\tvalidation_0-auc:0.95421\n",
      "[XGBoost][Trial 16] Training completed.\n"
     ]
    },
    {
     "name": "stderr",
     "output_type": "stream",
     "text": [
      "[I 2025-03-18 19:10:28,430] Trial 16 finished with value: 0.9542123494488239 and parameters: {'learning_rate': 0.06708906128154395, 'max_depth': 15, 'min_child_weight': 2.273042549662838, 'gamma': 2.935977260500579, 'subsample': 0.8755442154064184, 'colsample_bytree': 0.6571501211267551, 'lambda': 7.620350953075996, 'alpha': 5.329492431099436}. Best is trial 3 with value: 0.9719842416658603.\n"
     ]
    },
    {
     "name": "stdout",
     "output_type": "stream",
     "text": [
      "[XGBoost][Trial 16] AUC Score: 0.9542\n",
      "[XGBoost][Trial 17] Starting optimization with params:\n",
      "[XGBoost][Trial 17] Parameters: {'objective': 'binary:logistic', 'eval_metric': 'auc', 'learning_rate': 0.030022859557161427, 'max_depth': 13, 'min_child_weight': 2.526099442929106, 'gamma': 0.5980103232586513, 'subsample': 0.9576899764825181, 'colsample_bytree': 0.8636187521419513, 'lambda': 5.112109770899227, 'alpha': 0.13610689479521287, 'n_estimators': 1000}\n",
      "[XGBoost][Trial 17] Training started...\n",
      "[0]\tvalidation_0-auc:0.85006\n",
      "[100]\tvalidation_0-auc:0.92785\n",
      "[200]\tvalidation_0-auc:0.95227\n",
      "[300]\tvalidation_0-auc:0.95957\n",
      "[400]\tvalidation_0-auc:0.96375\n",
      "[500]\tvalidation_0-auc:0.96655\n",
      "[600]\tvalidation_0-auc:0.96866\n",
      "[700]\tvalidation_0-auc:0.97020\n",
      "[800]\tvalidation_0-auc:0.97150\n",
      "[900]\tvalidation_0-auc:0.97234\n",
      "[999]\tvalidation_0-auc:0.97287\n",
      "[XGBoost][Trial 17] Training completed.\n"
     ]
    },
    {
     "name": "stderr",
     "output_type": "stream",
     "text": [
      "[I 2025-03-18 19:22:24,367] Trial 17 finished with value: 0.972868541270363 and parameters: {'learning_rate': 0.030022859557161427, 'max_depth': 13, 'min_child_weight': 2.526099442929106, 'gamma': 0.5980103232586513, 'subsample': 0.9576899764825181, 'colsample_bytree': 0.8636187521419513, 'lambda': 5.112109770899227, 'alpha': 0.13610689479521287}. Best is trial 17 with value: 0.972868541270363.\n"
     ]
    },
    {
     "name": "stdout",
     "output_type": "stream",
     "text": [
      "[XGBoost][Trial 17] AUC Score: 0.9729\n",
      "[XGBoost][Trial 18] Starting optimization with params:\n",
      "[XGBoost][Trial 18] Parameters: {'objective': 'binary:logistic', 'eval_metric': 'auc', 'learning_rate': 0.010703745512236039, 'max_depth': 10, 'min_child_weight': 1.0610065567976794, 'gamma': 0.7899741376545254, 'subsample': 0.9545471920857905, 'colsample_bytree': 0.862514022718364, 'lambda': 5.117830588463665, 'alpha': 0.8104894429619548, 'n_estimators': 1000}\n",
      "[XGBoost][Trial 18] Training started...\n",
      "[0]\tvalidation_0-auc:0.83505\n",
      "[100]\tvalidation_0-auc:0.88771\n",
      "[200]\tvalidation_0-auc:0.90365\n",
      "[300]\tvalidation_0-auc:0.91918\n",
      "[400]\tvalidation_0-auc:0.92991\n",
      "[500]\tvalidation_0-auc:0.93829\n",
      "[600]\tvalidation_0-auc:0.94240\n",
      "[700]\tvalidation_0-auc:0.94532\n",
      "[800]\tvalidation_0-auc:0.94785\n",
      "[900]\tvalidation_0-auc:0.95001\n",
      "[999]\tvalidation_0-auc:0.95196\n",
      "[XGBoost][Trial 18] Training completed.\n"
     ]
    },
    {
     "name": "stderr",
     "output_type": "stream",
     "text": [
      "[I 2025-03-18 19:34:19,958] Trial 18 finished with value: 0.9519649118021232 and parameters: {'learning_rate': 0.010703745512236039, 'max_depth': 10, 'min_child_weight': 1.0610065567976794, 'gamma': 0.7899741376545254, 'subsample': 0.9545471920857905, 'colsample_bytree': 0.862514022718364, 'lambda': 5.117830588463665, 'alpha': 0.8104894429619548}. Best is trial 17 with value: 0.972868541270363.\n"
     ]
    },
    {
     "name": "stdout",
     "output_type": "stream",
     "text": [
      "[XGBoost][Trial 18] AUC Score: 0.9520\n",
      "[XGBoost][Trial 19] Starting optimization with params:\n",
      "[XGBoost][Trial 19] Parameters: {'objective': 'binary:logistic', 'eval_metric': 'auc', 'learning_rate': 0.027014493565827323, 'max_depth': 14, 'min_child_weight': 2.247906647896242, 'gamma': 1.607672220283177, 'subsample': 0.8866206212769321, 'colsample_bytree': 0.8540447781137352, 'lambda': 1.3959084360849419, 'alpha': 2.20043668113932, 'n_estimators': 1000}\n",
      "[XGBoost][Trial 19] Training started...\n",
      "[0]\tvalidation_0-auc:0.86258\n",
      "[100]\tvalidation_0-auc:0.92537\n",
      "[200]\tvalidation_0-auc:0.95331\n",
      "[300]\tvalidation_0-auc:0.96137\n",
      "[400]\tvalidation_0-auc:0.96508\n",
      "[500]\tvalidation_0-auc:0.96653\n",
      "[600]\tvalidation_0-auc:0.96711\n",
      "[700]\tvalidation_0-auc:0.96754\n",
      "[800]\tvalidation_0-auc:0.96769\n",
      "[900]\tvalidation_0-auc:0.96777\n",
      "[999]\tvalidation_0-auc:0.96785\n",
      "[XGBoost][Trial 19] Training completed.\n"
     ]
    },
    {
     "name": "stderr",
     "output_type": "stream",
     "text": [
      "[I 2025-03-18 19:45:03,340] Trial 19 finished with value: 0.967848516960228 and parameters: {'learning_rate': 0.027014493565827323, 'max_depth': 14, 'min_child_weight': 2.247906647896242, 'gamma': 1.607672220283177, 'subsample': 0.8866206212769321, 'colsample_bytree': 0.8540447781137352, 'lambda': 1.3959084360849419, 'alpha': 2.20043668113932}. Best is trial 17 with value: 0.972868541270363.\n"
     ]
    },
    {
     "name": "stdout",
     "output_type": "stream",
     "text": [
      "[XGBoost][Trial 19] AUC Score: 0.9678\n",
      "[XGBoost][Trial 20] Starting optimization with params:\n",
      "[XGBoost][Trial 20] Parameters: {'objective': 'binary:logistic', 'eval_metric': 'auc', 'learning_rate': 0.08524503264037213, 'max_depth': 13, 'min_child_weight': 4.3960010010568045, 'gamma': 2.245387500224084, 'subsample': 0.8038387547570713, 'colsample_bytree': 0.8808074282091407, 'lambda': 5.5957311413625925, 'alpha': 4.019350472092697, 'n_estimators': 1000}\n",
      "[XGBoost][Trial 20] Training started...\n",
      "[0]\tvalidation_0-auc:0.83894\n",
      "[100]\tvalidation_0-auc:0.94779\n",
      "[200]\tvalidation_0-auc:0.95779\n",
      "[300]\tvalidation_0-auc:0.95944\n",
      "[400]\tvalidation_0-auc:0.96019\n",
      "[500]\tvalidation_0-auc:0.96057\n",
      "[600]\tvalidation_0-auc:0.96094\n",
      "[700]\tvalidation_0-auc:0.96124\n",
      "[800]\tvalidation_0-auc:0.96130\n",
      "[900]\tvalidation_0-auc:0.96130\n",
      "[999]\tvalidation_0-auc:0.96161\n",
      "[XGBoost][Trial 20] Training completed.\n"
     ]
    },
    {
     "name": "stderr",
     "output_type": "stream",
     "text": [
      "[I 2025-03-18 19:54:21,305] Trial 20 finished with value: 0.9616090299154346 and parameters: {'learning_rate': 0.08524503264037213, 'max_depth': 13, 'min_child_weight': 4.3960010010568045, 'gamma': 2.245387500224084, 'subsample': 0.8038387547570713, 'colsample_bytree': 0.8808074282091407, 'lambda': 5.5957311413625925, 'alpha': 4.019350472092697}. Best is trial 17 with value: 0.972868541270363.\n"
     ]
    },
    {
     "name": "stdout",
     "output_type": "stream",
     "text": [
      "[XGBoost][Trial 20] AUC Score: 0.9616\n",
      "[XGBoost][Trial 21] Starting optimization with params:\n",
      "[XGBoost][Trial 21] Parameters: {'objective': 'binary:logistic', 'eval_metric': 'auc', 'learning_rate': 0.04640972312885626, 'max_depth': 12, 'min_child_weight': 2.724507382438433, 'gamma': 0.04157323752709022, 'subsample': 0.948010830427937, 'colsample_bytree': 0.6281060000110723, 'lambda': 7.454485768367444, 'alpha': 6.211397417394226, 'n_estimators': 1000}\n",
      "[XGBoost][Trial 21] Training started...\n",
      "[0]\tvalidation_0-auc:0.84844\n",
      "[100]\tvalidation_0-auc:0.93069\n",
      "[200]\tvalidation_0-auc:0.95000\n",
      "[300]\tvalidation_0-auc:0.95753\n",
      "[400]\tvalidation_0-auc:0.96213\n",
      "[500]\tvalidation_0-auc:0.96524\n",
      "[600]\tvalidation_0-auc:0.96764\n",
      "[700]\tvalidation_0-auc:0.96939\n",
      "[800]\tvalidation_0-auc:0.97075\n",
      "[900]\tvalidation_0-auc:0.97168\n",
      "[999]\tvalidation_0-auc:0.97242\n",
      "[XGBoost][Trial 21] Training completed.\n"
     ]
    },
    {
     "name": "stderr",
     "output_type": "stream",
     "text": [
      "[I 2025-03-18 20:07:54,161] Trial 21 finished with value: 0.972424916068046 and parameters: {'learning_rate': 0.04640972312885626, 'max_depth': 12, 'min_child_weight': 2.724507382438433, 'gamma': 0.04157323752709022, 'subsample': 0.948010830427937, 'colsample_bytree': 0.6281060000110723, 'lambda': 7.454485768367444, 'alpha': 6.211397417394226}. Best is trial 17 with value: 0.972868541270363.\n"
     ]
    },
    {
     "name": "stdout",
     "output_type": "stream",
     "text": [
      "[XGBoost][Trial 21] AUC Score: 0.9724\n",
      "[XGBoost][Trial 22] Starting optimization with params:\n",
      "[XGBoost][Trial 22] Parameters: {'objective': 'binary:logistic', 'eval_metric': 'auc', 'learning_rate': 0.04851053713800614, 'max_depth': 11, 'min_child_weight': 2.751105862370972, 'gamma': 0.6129289615285434, 'subsample': 0.9541333810808728, 'colsample_bytree': 0.7005045436175533, 'lambda': 8.569767056855431, 'alpha': 5.614602848640574, 'n_estimators': 1000}\n",
      "[XGBoost][Trial 22] Training started...\n",
      "[0]\tvalidation_0-auc:0.83544\n",
      "[100]\tvalidation_0-auc:0.92834\n",
      "[200]\tvalidation_0-auc:0.94668\n",
      "[300]\tvalidation_0-auc:0.95488\n",
      "[400]\tvalidation_0-auc:0.95967\n",
      "[500]\tvalidation_0-auc:0.96267\n",
      "[600]\tvalidation_0-auc:0.96433\n",
      "[700]\tvalidation_0-auc:0.96490\n",
      "[800]\tvalidation_0-auc:0.96526\n",
      "[900]\tvalidation_0-auc:0.96554\n",
      "[999]\tvalidation_0-auc:0.96579\n",
      "[XGBoost][Trial 22] Training completed.\n"
     ]
    },
    {
     "name": "stderr",
     "output_type": "stream",
     "text": [
      "[I 2025-03-18 20:18:19,065] Trial 22 finished with value: 0.9657930829954463 and parameters: {'learning_rate': 0.04851053713800614, 'max_depth': 11, 'min_child_weight': 2.751105862370972, 'gamma': 0.6129289615285434, 'subsample': 0.9541333810808728, 'colsample_bytree': 0.7005045436175533, 'lambda': 8.569767056855431, 'alpha': 5.614602848640574}. Best is trial 17 with value: 0.972868541270363.\n"
     ]
    },
    {
     "name": "stdout",
     "output_type": "stream",
     "text": [
      "[XGBoost][Trial 22] AUC Score: 0.9658\n",
      "[XGBoost][Trial 23] Starting optimization with params:\n",
      "[XGBoost][Trial 23] Parameters: {'objective': 'binary:logistic', 'eval_metric': 'auc', 'learning_rate': 0.03295674267093118, 'max_depth': 13, 'min_child_weight': 1.6163735757094226, 'gamma': 0.006187878144295, 'subsample': 0.8626150223941341, 'colsample_bytree': 0.7145091021748964, 'lambda': 4.432414866465582, 'alpha': 0.17350934802307963, 'n_estimators': 1000}\n",
      "[XGBoost][Trial 23] Training started...\n",
      "[0]\tvalidation_0-auc:0.85317\n",
      "[100]\tvalidation_0-auc:0.93397\n",
      "[200]\tvalidation_0-auc:0.95587\n",
      "[300]\tvalidation_0-auc:0.96292\n",
      "[400]\tvalidation_0-auc:0.96697\n",
      "[500]\tvalidation_0-auc:0.96982\n",
      "[600]\tvalidation_0-auc:0.97143\n",
      "[700]\tvalidation_0-auc:0.97279\n",
      "[800]\tvalidation_0-auc:0.97367\n",
      "[900]\tvalidation_0-auc:0.97441\n",
      "[999]\tvalidation_0-auc:0.97493\n",
      "[XGBoost][Trial 23] Training completed.\n"
     ]
    },
    {
     "name": "stderr",
     "output_type": "stream",
     "text": [
      "[I 2025-03-18 20:31:24,668] Trial 23 finished with value: 0.9749307164335738 and parameters: {'learning_rate': 0.03295674267093118, 'max_depth': 13, 'min_child_weight': 1.6163735757094226, 'gamma': 0.006187878144295, 'subsample': 0.8626150223941341, 'colsample_bytree': 0.7145091021748964, 'lambda': 4.432414866465582, 'alpha': 0.17350934802307963}. Best is trial 23 with value: 0.9749307164335738.\n"
     ]
    },
    {
     "name": "stdout",
     "output_type": "stream",
     "text": [
      "[XGBoost][Trial 23] AUC Score: 0.9749\n",
      "[XGBoost][Trial 24] Starting optimization with params:\n",
      "[XGBoost][Trial 24] Parameters: {'objective': 'binary:logistic', 'eval_metric': 'auc', 'learning_rate': 0.02930187326830206, 'max_depth': 14, 'min_child_weight': 1.6488656489455398, 'gamma': 1.2745392889106666, 'subsample': 0.8531057076583071, 'colsample_bytree': 0.8259286135057774, 'lambda': 4.705385361000522, 'alpha': 0.027019945265932793, 'n_estimators': 1000}\n",
      "[XGBoost][Trial 24] Training started...\n",
      "[0]\tvalidation_0-auc:0.86307\n",
      "[100]\tvalidation_0-auc:0.92997\n",
      "[200]\tvalidation_0-auc:0.95556\n",
      "[300]\tvalidation_0-auc:0.96259\n",
      "[400]\tvalidation_0-auc:0.96644\n",
      "[500]\tvalidation_0-auc:0.96883\n",
      "[600]\tvalidation_0-auc:0.97015\n",
      "[700]\tvalidation_0-auc:0.97093\n",
      "[800]\tvalidation_0-auc:0.97133\n",
      "[900]\tvalidation_0-auc:0.97162\n",
      "[999]\tvalidation_0-auc:0.97180\n",
      "[XGBoost][Trial 24] Training completed.\n"
     ]
    },
    {
     "name": "stderr",
     "output_type": "stream",
     "text": [
      "[I 2025-03-18 20:43:13,502] Trial 24 finished with value: 0.9718063604284541 and parameters: {'learning_rate': 0.02930187326830206, 'max_depth': 14, 'min_child_weight': 1.6488656489455398, 'gamma': 1.2745392889106666, 'subsample': 0.8531057076583071, 'colsample_bytree': 0.8259286135057774, 'lambda': 4.705385361000522, 'alpha': 0.027019945265932793}. Best is trial 23 with value: 0.9749307164335738.\n"
     ]
    },
    {
     "name": "stdout",
     "output_type": "stream",
     "text": [
      "[XGBoost][Trial 24] AUC Score: 0.9718\n",
      "[XGBoost][Trial 25] Starting optimization with params:\n",
      "[XGBoost][Trial 25] Parameters: {'objective': 'binary:logistic', 'eval_metric': 'auc', 'learning_rate': 0.020665043020764766, 'max_depth': 11, 'min_child_weight': 2.6697345928489384, 'gamma': 0.5412862071331319, 'subsample': 0.7594900879239288, 'colsample_bytree': 0.7020026815961162, 'lambda': 4.047716957576137, 'alpha': 0.2392696973371709, 'n_estimators': 1000}\n",
      "[XGBoost][Trial 25] Training started...\n",
      "[0]\tvalidation_0-auc:0.84547\n",
      "[100]\tvalidation_0-auc:0.90659\n",
      "[200]\tvalidation_0-auc:0.93239\n",
      "[300]\tvalidation_0-auc:0.94542\n",
      "[400]\tvalidation_0-auc:0.95141\n",
      "[500]\tvalidation_0-auc:0.95543\n",
      "[600]\tvalidation_0-auc:0.95826\n",
      "[700]\tvalidation_0-auc:0.96109\n",
      "[800]\tvalidation_0-auc:0.96318\n",
      "[900]\tvalidation_0-auc:0.96496\n",
      "[999]\tvalidation_0-auc:0.96629\n",
      "[XGBoost][Trial 25] Training completed.\n"
     ]
    },
    {
     "name": "stderr",
     "output_type": "stream",
     "text": [
      "[I 2025-03-18 20:55:27,741] Trial 25 finished with value: 0.9662871934159795 and parameters: {'learning_rate': 0.020665043020764766, 'max_depth': 11, 'min_child_weight': 2.6697345928489384, 'gamma': 0.5412862071331319, 'subsample': 0.7594900879239288, 'colsample_bytree': 0.7020026815961162, 'lambda': 4.047716957576137, 'alpha': 0.2392696973371709}. Best is trial 23 with value: 0.9749307164335738.\n"
     ]
    },
    {
     "name": "stdout",
     "output_type": "stream",
     "text": [
      "[XGBoost][Trial 25] AUC Score: 0.9663\n",
      "[XGBoost][Trial 26] Starting optimization with params:\n",
      "[XGBoost][Trial 26] Parameters: {'objective': 'binary:logistic', 'eval_metric': 'auc', 'learning_rate': 0.03407485557218434, 'max_depth': 10, 'min_child_weight': 1.6147014143200686, 'gamma': 3.529910662160505, 'subsample': 0.8921841107446205, 'colsample_bytree': 0.9027341787327368, 'lambda': 1.9982266212476407, 'alpha': 1.837731827776548, 'n_estimators': 1000}\n",
      "[XGBoost][Trial 26] Training started...\n",
      "[0]\tvalidation_0-auc:0.83976\n",
      "[100]\tvalidation_0-auc:0.92035\n",
      "[200]\tvalidation_0-auc:0.94303\n",
      "[300]\tvalidation_0-auc:0.94997\n",
      "[400]\tvalidation_0-auc:0.95309\n",
      "[500]\tvalidation_0-auc:0.95411\n",
      "[600]\tvalidation_0-auc:0.95457\n",
      "[700]\tvalidation_0-auc:0.95494\n",
      "[800]\tvalidation_0-auc:0.95508\n",
      "[900]\tvalidation_0-auc:0.95541\n",
      "[999]\tvalidation_0-auc:0.95552\n",
      "[XGBoost][Trial 26] Training completed.\n"
     ]
    },
    {
     "name": "stderr",
     "output_type": "stream",
     "text": [
      "[I 2025-03-18 21:04:42,944] Trial 26 finished with value: 0.9555204752359141 and parameters: {'learning_rate': 0.03407485557218434, 'max_depth': 10, 'min_child_weight': 1.6147014143200686, 'gamma': 3.529910662160505, 'subsample': 0.8921841107446205, 'colsample_bytree': 0.9027341787327368, 'lambda': 1.9982266212476407, 'alpha': 1.837731827776548}. Best is trial 23 with value: 0.9749307164335738.\n"
     ]
    },
    {
     "name": "stdout",
     "output_type": "stream",
     "text": [
      "[XGBoost][Trial 26] AUC Score: 0.9555\n",
      "[XGBoost][Trial 27] Starting optimization with params:\n",
      "[XGBoost][Trial 27] Parameters: {'objective': 'binary:logistic', 'eval_metric': 'auc', 'learning_rate': 0.046102039811631704, 'max_depth': 15, 'min_child_weight': 4.251287229768353, 'gamma': 0.02979780767635686, 'subsample': 0.8370876067609905, 'colsample_bytree': 0.6398296464082214, 'lambda': 5.748245515801523, 'alpha': 0.9514047373597887, 'n_estimators': 1000}\n",
      "[XGBoost][Trial 27] Training started...\n",
      "[0]\tvalidation_0-auc:0.86327\n",
      "[100]\tvalidation_0-auc:0.94202\n",
      "[200]\tvalidation_0-auc:0.95857\n",
      "[300]\tvalidation_0-auc:0.96495\n",
      "[400]\tvalidation_0-auc:0.96885\n",
      "[500]\tvalidation_0-auc:0.97109\n",
      "[600]\tvalidation_0-auc:0.97267\n",
      "[700]\tvalidation_0-auc:0.97362\n",
      "[800]\tvalidation_0-auc:0.97449\n",
      "[900]\tvalidation_0-auc:0.97480\n",
      "[999]\tvalidation_0-auc:0.97521\n",
      "[XGBoost][Trial 27] Training completed.\n"
     ]
    },
    {
     "name": "stderr",
     "output_type": "stream",
     "text": [
      "[I 2025-03-18 21:18:32,167] Trial 27 finished with value: 0.9752082179571367 and parameters: {'learning_rate': 0.046102039811631704, 'max_depth': 15, 'min_child_weight': 4.251287229768353, 'gamma': 0.02979780767635686, 'subsample': 0.8370876067609905, 'colsample_bytree': 0.6398296464082214, 'lambda': 5.748245515801523, 'alpha': 0.9514047373597887}. Best is trial 27 with value: 0.9752082179571367.\n"
     ]
    },
    {
     "name": "stdout",
     "output_type": "stream",
     "text": [
      "[XGBoost][Trial 27] AUC Score: 0.9752\n",
      "[XGBoost][Trial 28] Starting optimization with params:\n",
      "[XGBoost][Trial 28] Parameters: {'objective': 'binary:logistic', 'eval_metric': 'auc', 'learning_rate': 0.032163622567486685, 'max_depth': 15, 'min_child_weight': 4.3170800801943185, 'gamma': 0.491633126497533, 'subsample': 0.8266427736182452, 'colsample_bytree': 0.7041110518228046, 'lambda': 5.774375340384401, 'alpha': 1.0301273031860858, 'n_estimators': 1000}\n",
      "[XGBoost][Trial 28] Training started...\n",
      "[0]\tvalidation_0-auc:0.86050\n",
      "[100]\tvalidation_0-auc:0.92776\n",
      "[200]\tvalidation_0-auc:0.95131\n",
      "[300]\tvalidation_0-auc:0.95969\n",
      "[400]\tvalidation_0-auc:0.96416\n",
      "[500]\tvalidation_0-auc:0.96739\n",
      "[600]\tvalidation_0-auc:0.96941\n",
      "[700]\tvalidation_0-auc:0.97104\n",
      "[800]\tvalidation_0-auc:0.97225\n",
      "[900]\tvalidation_0-auc:0.97304\n",
      "[999]\tvalidation_0-auc:0.97377\n",
      "[XGBoost][Trial 28] Training completed.\n"
     ]
    },
    {
     "name": "stderr",
     "output_type": "stream",
     "text": [
      "[I 2025-03-18 21:32:10,747] Trial 28 finished with value: 0.9737745430545356 and parameters: {'learning_rate': 0.032163622567486685, 'max_depth': 15, 'min_child_weight': 4.3170800801943185, 'gamma': 0.491633126497533, 'subsample': 0.8266427736182452, 'colsample_bytree': 0.7041110518228046, 'lambda': 5.774375340384401, 'alpha': 1.0301273031860858}. Best is trial 27 with value: 0.9752082179571367.\n"
     ]
    },
    {
     "name": "stdout",
     "output_type": "stream",
     "text": [
      "[XGBoost][Trial 28] AUC Score: 0.9738\n",
      "[XGBoost][Trial 29] Starting optimization with params:\n",
      "[XGBoost][Trial 29] Parameters: {'objective': 'binary:logistic', 'eval_metric': 'auc', 'learning_rate': 0.0555420637587816, 'max_depth': 15, 'min_child_weight': 6.513988697173978, 'gamma': 0.39529596706931236, 'subsample': 0.743803630663511, 'colsample_bytree': 0.7152702669778039, 'lambda': 6.02747753017297, 'alpha': 1.1849591014729126, 'n_estimators': 1000}\n",
      "[XGBoost][Trial 29] Training started...\n",
      "[0]\tvalidation_0-auc:0.85114\n",
      "[100]\tvalidation_0-auc:0.94311\n",
      "[200]\tvalidation_0-auc:0.95793\n",
      "[300]\tvalidation_0-auc:0.96405\n",
      "[400]\tvalidation_0-auc:0.96749\n",
      "[500]\tvalidation_0-auc:0.96984\n",
      "[600]\tvalidation_0-auc:0.97121\n",
      "[700]\tvalidation_0-auc:0.97229\n",
      "[800]\tvalidation_0-auc:0.97304\n",
      "[900]\tvalidation_0-auc:0.97361\n",
      "[999]\tvalidation_0-auc:0.97387\n",
      "[XGBoost][Trial 29] Training completed.\n"
     ]
    },
    {
     "name": "stderr",
     "output_type": "stream",
     "text": [
      "[I 2025-03-18 21:45:52,238] Trial 29 finished with value: 0.9738782148529586 and parameters: {'learning_rate': 0.0555420637587816, 'max_depth': 15, 'min_child_weight': 6.513988697173978, 'gamma': 0.39529596706931236, 'subsample': 0.743803630663511, 'colsample_bytree': 0.7152702669778039, 'lambda': 6.02747753017297, 'alpha': 1.1849591014729126}. Best is trial 27 with value: 0.9752082179571367.\n"
     ]
    },
    {
     "name": "stdout",
     "output_type": "stream",
     "text": [
      "[XGBoost][Trial 29] AUC Score: 0.9739\n",
      "[XGBoost][Trial 30] Starting optimization with params:\n",
      "[XGBoost][Trial 30] Parameters: {'objective': 'binary:logistic', 'eval_metric': 'auc', 'learning_rate': 0.06522145157449256, 'max_depth': 15, 'min_child_weight': 6.54349782126671, 'gamma': 1.2238772438691226, 'subsample': 0.7383035213032505, 'colsample_bytree': 0.6341601242658971, 'lambda': 5.9926666709239464, 'alpha': 2.6413324488478755, 'n_estimators': 1000}\n",
      "[XGBoost][Trial 30] Training started...\n",
      "[0]\tvalidation_0-auc:0.86037\n",
      "[100]\tvalidation_0-auc:0.94368\n",
      "[200]\tvalidation_0-auc:0.95755\n",
      "[300]\tvalidation_0-auc:0.96378\n",
      "[400]\tvalidation_0-auc:0.96636\n",
      "[500]\tvalidation_0-auc:0.96748\n",
      "[600]\tvalidation_0-auc:0.96811\n",
      "[700]\tvalidation_0-auc:0.96855\n",
      "[800]\tvalidation_0-auc:0.96892\n",
      "[900]\tvalidation_0-auc:0.96911\n",
      "[999]\tvalidation_0-auc:0.96934\n",
      "[XGBoost][Trial 30] Training completed.\n"
     ]
    },
    {
     "name": "stderr",
     "output_type": "stream",
     "text": [
      "[I 2025-03-18 21:56:41,371] Trial 30 finished with value: 0.9693392049302563 and parameters: {'learning_rate': 0.06522145157449256, 'max_depth': 15, 'min_child_weight': 6.54349782126671, 'gamma': 1.2238772438691226, 'subsample': 0.7383035213032505, 'colsample_bytree': 0.6341601242658971, 'lambda': 5.9926666709239464, 'alpha': 2.6413324488478755}. Best is trial 27 with value: 0.9752082179571367.\n"
     ]
    },
    {
     "name": "stdout",
     "output_type": "stream",
     "text": [
      "[XGBoost][Trial 30] AUC Score: 0.9693\n",
      "[XGBoost][Trial 31] Starting optimization with params:\n",
      "[XGBoost][Trial 31] Parameters: {'objective': 'binary:logistic', 'eval_metric': 'auc', 'learning_rate': 0.05544190716503102, 'max_depth': 15, 'min_child_weight': 6.208501247862496, 'gamma': 0.33932019110813716, 'subsample': 0.8150420384264799, 'colsample_bytree': 0.721502358679613, 'lambda': 4.535225939491068, 'alpha': 1.3395031073364816, 'n_estimators': 1000}\n",
      "[XGBoost][Trial 31] Training started...\n",
      "[0]\tvalidation_0-auc:0.86275\n",
      "[100]\tvalidation_0-auc:0.94606\n",
      "[200]\tvalidation_0-auc:0.96042\n",
      "[300]\tvalidation_0-auc:0.96631\n",
      "[400]\tvalidation_0-auc:0.96973\n",
      "[500]\tvalidation_0-auc:0.97177\n",
      "[600]\tvalidation_0-auc:0.97311\n",
      "[700]\tvalidation_0-auc:0.97384\n",
      "[800]\tvalidation_0-auc:0.97455\n",
      "[900]\tvalidation_0-auc:0.97474\n",
      "[999]\tvalidation_0-auc:0.97494\n",
      "[XGBoost][Trial 31] Training completed.\n"
     ]
    },
    {
     "name": "stderr",
     "output_type": "stream",
     "text": [
      "[I 2025-03-18 22:10:22,919] Trial 31 finished with value: 0.9749410452954721 and parameters: {'learning_rate': 0.05544190716503102, 'max_depth': 15, 'min_child_weight': 6.208501247862496, 'gamma': 0.33932019110813716, 'subsample': 0.8150420384264799, 'colsample_bytree': 0.721502358679613, 'lambda': 4.535225939491068, 'alpha': 1.3395031073364816}. Best is trial 27 with value: 0.9752082179571367.\n"
     ]
    },
    {
     "name": "stdout",
     "output_type": "stream",
     "text": [
      "[XGBoost][Trial 31] AUC Score: 0.9749\n",
      "[XGBoost][Trial 32] Starting optimization with params:\n",
      "[XGBoost][Trial 32] Parameters: {'objective': 'binary:logistic', 'eval_metric': 'auc', 'learning_rate': 0.054218769104047236, 'max_depth': 14, 'min_child_weight': 6.129775070085462, 'gamma': 0.3395143895125709, 'subsample': 0.6844803370769931, 'colsample_bytree': 0.7319587516944305, 'lambda': 4.514541946875769, 'alpha': 1.4959605911065563, 'n_estimators': 1000}\n",
      "[XGBoost][Trial 32] Training started...\n",
      "[0]\tvalidation_0-auc:0.84899\n",
      "[100]\tvalidation_0-auc:0.94073\n",
      "[200]\tvalidation_0-auc:0.95628\n",
      "[300]\tvalidation_0-auc:0.96305\n",
      "[400]\tvalidation_0-auc:0.96658\n",
      "[500]\tvalidation_0-auc:0.96917\n",
      "[600]\tvalidation_0-auc:0.97080\n",
      "[700]\tvalidation_0-auc:0.97178\n",
      "[800]\tvalidation_0-auc:0.97237\n",
      "[900]\tvalidation_0-auc:0.97291\n",
      "[999]\tvalidation_0-auc:0.97330\n",
      "[XGBoost][Trial 32] Training completed.\n"
     ]
    },
    {
     "name": "stderr",
     "output_type": "stream",
     "text": [
      "[I 2025-03-18 22:24:17,404] Trial 32 finished with value: 0.9733026029082258 and parameters: {'learning_rate': 0.054218769104047236, 'max_depth': 14, 'min_child_weight': 6.129775070085462, 'gamma': 0.3395143895125709, 'subsample': 0.6844803370769931, 'colsample_bytree': 0.7319587516944305, 'lambda': 4.514541946875769, 'alpha': 1.4959605911065563}. Best is trial 27 with value: 0.9752082179571367.\n"
     ]
    },
    {
     "name": "stdout",
     "output_type": "stream",
     "text": [
      "[XGBoost][Trial 32] AUC Score: 0.9733\n",
      "[XGBoost][Trial 33] Starting optimization with params:\n",
      "[XGBoost][Trial 33] Parameters: {'objective': 'binary:logistic', 'eval_metric': 'auc', 'learning_rate': 0.04290117767019048, 'max_depth': 15, 'min_child_weight': 8.146413855396045, 'gamma': 0.027274606871507956, 'subsample': 0.8220801902635398, 'colsample_bytree': 0.6336635015079767, 'lambda': 3.8573425695170753, 'alpha': 0.5894552956915166, 'n_estimators': 1000}\n",
      "[XGBoost][Trial 33] Training started...\n",
      "[0]\tvalidation_0-auc:0.86458\n",
      "[100]\tvalidation_0-auc:0.93741\n",
      "[200]\tvalidation_0-auc:0.95580\n",
      "[300]\tvalidation_0-auc:0.96194\n",
      "[400]\tvalidation_0-auc:0.96586\n",
      "[500]\tvalidation_0-auc:0.96838\n",
      "[600]\tvalidation_0-auc:0.97022\n",
      "[700]\tvalidation_0-auc:0.97161\n",
      "[800]\tvalidation_0-auc:0.97268\n",
      "[900]\tvalidation_0-auc:0.97339\n",
      "[999]\tvalidation_0-auc:0.97400\n",
      "[XGBoost][Trial 33] Training completed.\n"
     ]
    },
    {
     "name": "stderr",
     "output_type": "stream",
     "text": [
      "[I 2025-03-18 22:37:10,783] Trial 33 finished with value: 0.9740071032552367 and parameters: {'learning_rate': 0.04290117767019048, 'max_depth': 15, 'min_child_weight': 8.146413855396045, 'gamma': 0.027274606871507956, 'subsample': 0.8220801902635398, 'colsample_bytree': 0.6336635015079767, 'lambda': 3.8573425695170753, 'alpha': 0.5894552956915166}. Best is trial 27 with value: 0.9752082179571367.\n"
     ]
    },
    {
     "name": "stdout",
     "output_type": "stream",
     "text": [
      "[XGBoost][Trial 33] AUC Score: 0.9740\n",
      "[XGBoost][Trial 34] Starting optimization with params:\n",
      "[XGBoost][Trial 34] Parameters: {'objective': 'binary:logistic', 'eval_metric': 'auc', 'learning_rate': 0.04462601071769025, 'max_depth': 14, 'min_child_weight': 5.377597460744213, 'gamma': 0.0728644764952257, 'subsample': 0.8251136038206295, 'colsample_bytree': 0.6331894460961695, 'lambda': 3.474284247878989, 'alpha': 0.5092416582089825, 'n_estimators': 1000}\n",
      "[XGBoost][Trial 34] Training started...\n",
      "[0]\tvalidation_0-auc:0.86285\n",
      "[100]\tvalidation_0-auc:0.94168\n",
      "[200]\tvalidation_0-auc:0.95859\n",
      "[300]\tvalidation_0-auc:0.96431\n",
      "[400]\tvalidation_0-auc:0.96783\n",
      "[500]\tvalidation_0-auc:0.96979\n",
      "[600]\tvalidation_0-auc:0.97126\n",
      "[700]\tvalidation_0-auc:0.97250\n",
      "[800]\tvalidation_0-auc:0.97342\n",
      "[900]\tvalidation_0-auc:0.97395\n",
      "[999]\tvalidation_0-auc:0.97446\n",
      "[XGBoost][Trial 34] Training completed.\n"
     ]
    },
    {
     "name": "stderr",
     "output_type": "stream",
     "text": [
      "[I 2025-03-18 22:49:51,867] Trial 34 finished with value: 0.9744580067440644 and parameters: {'learning_rate': 0.04462601071769025, 'max_depth': 14, 'min_child_weight': 5.377597460744213, 'gamma': 0.0728644764952257, 'subsample': 0.8251136038206295, 'colsample_bytree': 0.6331894460961695, 'lambda': 3.474284247878989, 'alpha': 0.5092416582089825}. Best is trial 27 with value: 0.9752082179571367.\n"
     ]
    },
    {
     "name": "stdout",
     "output_type": "stream",
     "text": [
      "[XGBoost][Trial 34] AUC Score: 0.9745\n",
      "[XGBoost][Trial 35] Starting optimization with params:\n",
      "[XGBoost][Trial 35] Parameters: {'objective': 'binary:logistic', 'eval_metric': 'auc', 'learning_rate': 0.04397427895205027, 'max_depth': 14, 'min_child_weight': 5.470662983322742, 'gamma': 0.8922068888272916, 'subsample': 0.8586749048404835, 'colsample_bytree': 0.7787778331977219, 'lambda': 3.061062453141019, 'alpha': 0.6673328951982395, 'n_estimators': 1000}\n",
      "[XGBoost][Trial 35] Training started...\n",
      "[0]\tvalidation_0-auc:0.85524\n",
      "[100]\tvalidation_0-auc:0.94228\n",
      "[200]\tvalidation_0-auc:0.95872\n",
      "[300]\tvalidation_0-auc:0.96448\n",
      "[400]\tvalidation_0-auc:0.96777\n",
      "[500]\tvalidation_0-auc:0.97048\n",
      "[600]\tvalidation_0-auc:0.97183\n",
      "[700]\tvalidation_0-auc:0.97233\n",
      "[800]\tvalidation_0-auc:0.97271\n",
      "[900]\tvalidation_0-auc:0.97296\n",
      "[999]\tvalidation_0-auc:0.97311\n",
      "[XGBoost][Trial 35] Training completed.\n"
     ]
    },
    {
     "name": "stderr",
     "output_type": "stream",
     "text": [
      "[I 2025-03-18 23:00:55,886] Trial 35 finished with value: 0.973129376080379 and parameters: {'learning_rate': 0.04397427895205027, 'max_depth': 14, 'min_child_weight': 5.470662983322742, 'gamma': 0.8922068888272916, 'subsample': 0.8586749048404835, 'colsample_bytree': 0.7787778331977219, 'lambda': 3.061062453141019, 'alpha': 0.6673328951982395}. Best is trial 27 with value: 0.9752082179571367.\n"
     ]
    },
    {
     "name": "stdout",
     "output_type": "stream",
     "text": [
      "[XGBoost][Trial 35] AUC Score: 0.9731\n",
      "[XGBoost][Trial 36] Starting optimization with params:\n",
      "[XGBoost][Trial 36] Parameters: {'objective': 'binary:logistic', 'eval_metric': 'auc', 'learning_rate': 0.06189588309869193, 'max_depth': 9, 'min_child_weight': 7.545821956190157, 'gamma': 0.33818741602376584, 'subsample': 0.8347540292432635, 'colsample_bytree': 0.6417162536774125, 'lambda': 0.3426852643878924, 'alpha': 1.7071294537697206, 'n_estimators': 1000}\n",
      "[XGBoost][Trial 36] Training started...\n",
      "[0]\tvalidation_0-auc:0.83668\n",
      "[100]\tvalidation_0-auc:0.93363\n",
      "[200]\tvalidation_0-auc:0.94778\n",
      "[300]\tvalidation_0-auc:0.95522\n",
      "[400]\tvalidation_0-auc:0.95978\n",
      "[500]\tvalidation_0-auc:0.96373\n",
      "[600]\tvalidation_0-auc:0.96619\n",
      "[700]\tvalidation_0-auc:0.96827\n",
      "[800]\tvalidation_0-auc:0.96969\n",
      "[900]\tvalidation_0-auc:0.97089\n",
      "[999]\tvalidation_0-auc:0.97188\n",
      "[XGBoost][Trial 36] Training completed.\n"
     ]
    },
    {
     "name": "stderr",
     "output_type": "stream",
     "text": [
      "[I 2025-03-18 23:11:53,265] Trial 36 finished with value: 0.9718848326060443 and parameters: {'learning_rate': 0.06189588309869193, 'max_depth': 9, 'min_child_weight': 7.545821956190157, 'gamma': 0.33818741602376584, 'subsample': 0.8347540292432635, 'colsample_bytree': 0.6417162536774125, 'lambda': 0.3426852643878924, 'alpha': 1.7071294537697206}. Best is trial 27 with value: 0.9752082179571367.\n"
     ]
    },
    {
     "name": "stdout",
     "output_type": "stream",
     "text": [
      "[XGBoost][Trial 36] AUC Score: 0.9719\n",
      "[XGBoost][Trial 37] Starting optimization with params:\n",
      "[XGBoost][Trial 37] Parameters: {'objective': 'binary:logistic', 'eval_metric': 'auc', 'learning_rate': 0.051676572401989265, 'max_depth': 13, 'min_child_weight': 5.396613572677513, 'gamma': 0.7154055903563518, 'subsample': 0.77817295895315, 'colsample_bytree': 0.7664497394850333, 'lambda': 3.3612848626844234, 'alpha': 2.3208355019524296, 'n_estimators': 1000}\n",
      "[XGBoost][Trial 37] Training started...\n",
      "[0]\tvalidation_0-auc:0.85389\n",
      "[100]\tvalidation_0-auc:0.94016\n",
      "[200]\tvalidation_0-auc:0.95637\n",
      "[300]\tvalidation_0-auc:0.96304\n",
      "[400]\tvalidation_0-auc:0.96679\n",
      "[500]\tvalidation_0-auc:0.96962\n",
      "[600]\tvalidation_0-auc:0.97116\n",
      "[700]\tvalidation_0-auc:0.97189\n",
      "[800]\tvalidation_0-auc:0.97249\n",
      "[900]\tvalidation_0-auc:0.97279\n",
      "[999]\tvalidation_0-auc:0.97311\n",
      "[XGBoost][Trial 37] Training completed.\n"
     ]
    },
    {
     "name": "stderr",
     "output_type": "stream",
     "text": [
      "[I 2025-03-18 23:24:25,127] Trial 37 finished with value: 0.9731113889368455 and parameters: {'learning_rate': 0.051676572401989265, 'max_depth': 13, 'min_child_weight': 5.396613572677513, 'gamma': 0.7154055903563518, 'subsample': 0.77817295895315, 'colsample_bytree': 0.7664497394850333, 'lambda': 3.3612848626844234, 'alpha': 2.3208355019524296}. Best is trial 27 with value: 0.9752082179571367.\n"
     ]
    },
    {
     "name": "stdout",
     "output_type": "stream",
     "text": [
      "[XGBoost][Trial 37] AUC Score: 0.9731\n",
      "[XGBoost][Trial 38] Starting optimization with params:\n",
      "[XGBoost][Trial 38] Parameters: {'objective': 'binary:logistic', 'eval_metric': 'auc', 'learning_rate': 0.05925714490421495, 'max_depth': 14, 'min_child_weight': 4.7542781558784455, 'gamma': 0.004153056275334955, 'subsample': 0.8103749094237227, 'colsample_bytree': 0.8063624490666771, 'lambda': 1.5733213350583277, 'alpha': 2.9601533528428963, 'n_estimators': 1000}\n",
      "[XGBoost][Trial 38] Training started...\n",
      "[0]\tvalidation_0-auc:0.85401\n",
      "[100]\tvalidation_0-auc:0.95017\n",
      "[200]\tvalidation_0-auc:0.96399\n",
      "[300]\tvalidation_0-auc:0.96889\n",
      "[400]\tvalidation_0-auc:0.97200\n",
      "[500]\tvalidation_0-auc:0.97332\n",
      "[600]\tvalidation_0-auc:0.97400\n",
      "[700]\tvalidation_0-auc:0.97435\n",
      "[800]\tvalidation_0-auc:0.97462\n",
      "[900]\tvalidation_0-auc:0.97460\n",
      "[933]\tvalidation_0-auc:0.97462\n",
      "[XGBoost][Trial 38] Training completed.\n"
     ]
    },
    {
     "name": "stderr",
     "output_type": "stream",
     "text": [
      "[I 2025-03-18 23:38:15,210] Trial 38 finished with value: 0.9746986476790815 and parameters: {'learning_rate': 0.05925714490421495, 'max_depth': 14, 'min_child_weight': 4.7542781558784455, 'gamma': 0.004153056275334955, 'subsample': 0.8103749094237227, 'colsample_bytree': 0.8063624490666771, 'lambda': 1.5733213350583277, 'alpha': 2.9601533528428963}. Best is trial 27 with value: 0.9752082179571367.\n"
     ]
    },
    {
     "name": "stdout",
     "output_type": "stream",
     "text": [
      "[XGBoost][Trial 38] AUC Score: 0.9747\n",
      "[XGBoost][Trial 39] Starting optimization with params:\n",
      "[XGBoost][Trial 39] Parameters: {'objective': 'binary:logistic', 'eval_metric': 'auc', 'learning_rate': 0.058755138468001136, 'max_depth': 13, 'min_child_weight': 4.854441330018365, 'gamma': 1.0014480729530075, 'subsample': 0.7818293642871932, 'colsample_bytree': 0.8133589843449793, 'lambda': 1.2821756366140171, 'alpha': 3.0213720798084154, 'n_estimators': 1000}\n",
      "[XGBoost][Trial 39] Training started...\n",
      "[0]\tvalidation_0-auc:0.84786\n",
      "[100]\tvalidation_0-auc:0.94517\n",
      "[200]\tvalidation_0-auc:0.95980\n",
      "[300]\tvalidation_0-auc:0.96590\n",
      "[400]\tvalidation_0-auc:0.96887\n",
      "[500]\tvalidation_0-auc:0.96999\n",
      "[600]\tvalidation_0-auc:0.97067\n",
      "[700]\tvalidation_0-auc:0.97105\n",
      "[800]\tvalidation_0-auc:0.97125\n",
      "[900]\tvalidation_0-auc:0.97137\n",
      "[999]\tvalidation_0-auc:0.97157\n",
      "[XGBoost][Trial 39] Training completed.\n"
     ]
    },
    {
     "name": "stderr",
     "output_type": "stream",
     "text": [
      "[I 2025-03-18 23:49:02,895] Trial 39 finished with value: 0.9715676152233054 and parameters: {'learning_rate': 0.058755138468001136, 'max_depth': 13, 'min_child_weight': 4.854441330018365, 'gamma': 1.0014480729530075, 'subsample': 0.7818293642871932, 'colsample_bytree': 0.8133589843449793, 'lambda': 1.2821756366140171, 'alpha': 3.0213720798084154}. Best is trial 27 with value: 0.9752082179571367.\n"
     ]
    },
    {
     "name": "stdout",
     "output_type": "stream",
     "text": [
      "[XGBoost][Trial 39] AUC Score: 0.9716\n",
      "[XGBoost][Trial 40] Starting optimization with params:\n",
      "[XGBoost][Trial 40] Parameters: {'objective': 'binary:logistic', 'eval_metric': 'auc', 'learning_rate': 0.07180178888485929, 'max_depth': 6, 'min_child_weight': 6.049530998778988, 'gamma': 0.2990488559496453, 'subsample': 0.8645554239519209, 'colsample_bytree': 0.8064492716581085, 'lambda': 0.0564867150697248, 'alpha': 3.4650852850325333, 'n_estimators': 1000}\n",
      "[XGBoost][Trial 40] Training started...\n",
      "[0]\tvalidation_0-auc:0.79676\n",
      "[100]\tvalidation_0-auc:0.91281\n",
      "[200]\tvalidation_0-auc:0.92631\n",
      "[300]\tvalidation_0-auc:0.93514\n",
      "[400]\tvalidation_0-auc:0.94218\n",
      "[500]\tvalidation_0-auc:0.94688\n",
      "[600]\tvalidation_0-auc:0.95055\n",
      "[700]\tvalidation_0-auc:0.95401\n",
      "[800]\tvalidation_0-auc:0.95680\n",
      "[900]\tvalidation_0-auc:0.95904\n",
      "[999]\tvalidation_0-auc:0.96101\n",
      "[XGBoost][Trial 40] Training completed.\n"
     ]
    },
    {
     "name": "stderr",
     "output_type": "stream",
     "text": [
      "[I 2025-03-18 23:58:49,760] Trial 40 finished with value: 0.9610124863956704 and parameters: {'learning_rate': 0.07180178888485929, 'max_depth': 6, 'min_child_weight': 6.049530998778988, 'gamma': 0.2990488559496453, 'subsample': 0.8645554239519209, 'colsample_bytree': 0.8064492716581085, 'lambda': 0.0564867150697248, 'alpha': 3.4650852850325333}. Best is trial 27 with value: 0.9752082179571367.\n"
     ]
    },
    {
     "name": "stdout",
     "output_type": "stream",
     "text": [
      "[XGBoost][Trial 40] AUC Score: 0.9610\n",
      "[XGBoost][Trial 41] Starting optimization with params:\n",
      "[XGBoost][Trial 41] Parameters: {'objective': 'binary:logistic', 'eval_metric': 'auc', 'learning_rate': 0.03972551256255691, 'max_depth': 14, 'min_child_weight': 4.97903482492033, 'gamma': 0.045139410052004586, 'subsample': 0.8068529861402624, 'colsample_bytree': 0.6866277283841036, 'lambda': 2.3841855526946856, 'alpha': 0.5373777687836818, 'n_estimators': 1000}\n",
      "[XGBoost][Trial 41] Training started...\n",
      "[0]\tvalidation_0-auc:0.86142\n",
      "[100]\tvalidation_0-auc:0.93989\n",
      "[200]\tvalidation_0-auc:0.95751\n",
      "[300]\tvalidation_0-auc:0.96369\n",
      "[400]\tvalidation_0-auc:0.96735\n",
      "[500]\tvalidation_0-auc:0.96972\n",
      "[600]\tvalidation_0-auc:0.97147\n",
      "[700]\tvalidation_0-auc:0.97266\n",
      "[800]\tvalidation_0-auc:0.97378\n",
      "[900]\tvalidation_0-auc:0.97456\n",
      "[999]\tvalidation_0-auc:0.97504\n",
      "[XGBoost][Trial 41] Training completed.\n"
     ]
    },
    {
     "name": "stderr",
     "output_type": "stream",
     "text": [
      "[I 2025-03-19 00:11:58,660] Trial 41 finished with value: 0.9750444772087046 and parameters: {'learning_rate': 0.03972551256255691, 'max_depth': 14, 'min_child_weight': 4.97903482492033, 'gamma': 0.045139410052004586, 'subsample': 0.8068529861402624, 'colsample_bytree': 0.6866277283841036, 'lambda': 2.3841855526946856, 'alpha': 0.5373777687836818}. Best is trial 27 with value: 0.9752082179571367.\n"
     ]
    },
    {
     "name": "stdout",
     "output_type": "stream",
     "text": [
      "[XGBoost][Trial 41] AUC Score: 0.9750\n",
      "[XGBoost][Trial 42] Starting optimization with params:\n",
      "[XGBoost][Trial 42] Parameters: {'objective': 'binary:logistic', 'eval_metric': 'auc', 'learning_rate': 0.03933568241412831, 'max_depth': 14, 'min_child_weight': 4.855722297681179, 'gamma': 0.2738703778685264, 'subsample': 0.8071572361551385, 'colsample_bytree': 0.6893991086742749, 'lambda': 2.223186787468446, 'alpha': 1.486242125837693, 'n_estimators': 1000}\n",
      "[XGBoost][Trial 42] Training started...\n",
      "[0]\tvalidation_0-auc:0.85952\n",
      "[100]\tvalidation_0-auc:0.93702\n",
      "[200]\tvalidation_0-auc:0.95650\n",
      "[300]\tvalidation_0-auc:0.96281\n",
      "[400]\tvalidation_0-auc:0.96677\n",
      "[500]\tvalidation_0-auc:0.96933\n",
      "[600]\tvalidation_0-auc:0.97095\n",
      "[700]\tvalidation_0-auc:0.97229\n",
      "[800]\tvalidation_0-auc:0.97324\n",
      "[900]\tvalidation_0-auc:0.97380\n",
      "[999]\tvalidation_0-auc:0.97431\n",
      "[XGBoost][Trial 42] Training completed.\n"
     ]
    },
    {
     "name": "stderr",
     "output_type": "stream",
     "text": [
      "[I 2025-03-19 00:25:31,183] Trial 42 finished with value: 0.9743112426493367 and parameters: {'learning_rate': 0.03933568241412831, 'max_depth': 14, 'min_child_weight': 4.855722297681179, 'gamma': 0.2738703778685264, 'subsample': 0.8071572361551385, 'colsample_bytree': 0.6893991086742749, 'lambda': 2.223186787468446, 'alpha': 1.486242125837693}. Best is trial 27 with value: 0.9752082179571367.\n"
     ]
    },
    {
     "name": "stdout",
     "output_type": "stream",
     "text": [
      "[XGBoost][Trial 42] AUC Score: 0.9743\n",
      "[XGBoost][Trial 43] Starting optimization with params:\n",
      "[XGBoost][Trial 43] Parameters: {'objective': 'binary:logistic', 'eval_metric': 'auc', 'learning_rate': 0.023805334111094253, 'max_depth': 15, 'min_child_weight': 4.071760125651652, 'gamma': 0.009570159770895321, 'subsample': 0.7781442689837478, 'colsample_bytree': 0.7343325957372101, 'lambda': 1.2952020449722745, 'alpha': 1.0868285142565342, 'n_estimators': 1000}\n",
      "[XGBoost][Trial 43] Training started...\n",
      "[0]\tvalidation_0-auc:0.86325\n",
      "[100]\tvalidation_0-auc:0.92365\n",
      "[200]\tvalidation_0-auc:0.94995\n",
      "[300]\tvalidation_0-auc:0.96004\n",
      "[400]\tvalidation_0-auc:0.96469\n",
      "[500]\tvalidation_0-auc:0.96797\n",
      "[600]\tvalidation_0-auc:0.96985\n",
      "[700]\tvalidation_0-auc:0.97132\n",
      "[800]\tvalidation_0-auc:0.97248\n",
      "[900]\tvalidation_0-auc:0.97334\n",
      "[999]\tvalidation_0-auc:0.97412\n",
      "[XGBoost][Trial 43] Training completed.\n"
     ]
    },
    {
     "name": "stderr",
     "output_type": "stream",
     "text": [
      "[I 2025-03-19 00:39:36,271] Trial 43 finished with value: 0.9741210678266353 and parameters: {'learning_rate': 0.023805334111094253, 'max_depth': 15, 'min_child_weight': 4.071760125651652, 'gamma': 0.009570159770895321, 'subsample': 0.7781442689837478, 'colsample_bytree': 0.7343325957372101, 'lambda': 1.2952020449722745, 'alpha': 1.0868285142565342}. Best is trial 27 with value: 0.9752082179571367.\n"
     ]
    },
    {
     "name": "stdout",
     "output_type": "stream",
     "text": [
      "[XGBoost][Trial 43] AUC Score: 0.9741\n",
      "[XGBoost][Trial 44] Starting optimization with params:\n",
      "[XGBoost][Trial 44] Parameters: {'objective': 'binary:logistic', 'eval_metric': 'auc', 'learning_rate': 0.03570408827186837, 'max_depth': 14, 'min_child_weight': 5.850298350602799, 'gamma': 0.5033494370772745, 'subsample': 0.850701045145288, 'colsample_bytree': 0.722966555261854, 'lambda': 2.697718676995516, 'alpha': 1.9846013769033022, 'n_estimators': 1000}\n",
      "[XGBoost][Trial 44] Training started...\n",
      "[0]\tvalidation_0-auc:0.85861\n",
      "[100]\tvalidation_0-auc:0.93095\n",
      "[200]\tvalidation_0-auc:0.95309\n",
      "[300]\tvalidation_0-auc:0.96005\n",
      "[400]\tvalidation_0-auc:0.96439\n",
      "[500]\tvalidation_0-auc:0.96742\n",
      "[600]\tvalidation_0-auc:0.96956\n",
      "[700]\tvalidation_0-auc:0.97112\n",
      "[800]\tvalidation_0-auc:0.97228\n",
      "[900]\tvalidation_0-auc:0.97302\n",
      "[999]\tvalidation_0-auc:0.97350\n",
      "[XGBoost][Trial 44] Training completed.\n"
     ]
    },
    {
     "name": "stderr",
     "output_type": "stream",
     "text": [
      "[I 2025-03-19 00:52:48,607] Trial 44 finished with value: 0.9735087757379695 and parameters: {'learning_rate': 0.03570408827186837, 'max_depth': 14, 'min_child_weight': 5.850298350602799, 'gamma': 0.5033494370772745, 'subsample': 0.850701045145288, 'colsample_bytree': 0.722966555261854, 'lambda': 2.697718676995516, 'alpha': 1.9846013769033022}. Best is trial 27 with value: 0.9752082179571367.\n"
     ]
    },
    {
     "name": "stdout",
     "output_type": "stream",
     "text": [
      "[XGBoost][Trial 44] AUC Score: 0.9735\n",
      "[XGBoost][Trial 45] Starting optimization with params:\n",
      "[XGBoost][Trial 45] Parameters: {'objective': 'binary:logistic', 'eval_metric': 'auc', 'learning_rate': 0.06327763795632074, 'max_depth': 13, 'min_child_weight': 3.9737508065537934, 'gamma': 1.032891400064532, 'subsample': 0.8139002300468702, 'colsample_bytree': 0.8310118020630101, 'lambda': 0.583907540339299, 'alpha': 2.57670721204217, 'n_estimators': 1000}\n",
      "[XGBoost][Trial 45] Training started...\n",
      "[0]\tvalidation_0-auc:0.84762\n",
      "[100]\tvalidation_0-auc:0.95140\n",
      "[200]\tvalidation_0-auc:0.96391\n",
      "[300]\tvalidation_0-auc:0.96877\n",
      "[400]\tvalidation_0-auc:0.97041\n",
      "[500]\tvalidation_0-auc:0.97120\n",
      "[600]\tvalidation_0-auc:0.97165\n",
      "[700]\tvalidation_0-auc:0.97187\n",
      "[800]\tvalidation_0-auc:0.97200\n",
      "[900]\tvalidation_0-auc:0.97221\n",
      "[999]\tvalidation_0-auc:0.97233\n",
      "[XGBoost][Trial 45] Training completed.\n"
     ]
    },
    {
     "name": "stderr",
     "output_type": "stream",
     "text": [
      "[I 2025-03-19 01:02:59,972] Trial 45 finished with value: 0.9723327035639456 and parameters: {'learning_rate': 0.06327763795632074, 'max_depth': 13, 'min_child_weight': 3.9737508065537934, 'gamma': 1.032891400064532, 'subsample': 0.8139002300468702, 'colsample_bytree': 0.8310118020630101, 'lambda': 0.583907540339299, 'alpha': 2.57670721204217}. Best is trial 27 with value: 0.9752082179571367.\n"
     ]
    },
    {
     "name": "stdout",
     "output_type": "stream",
     "text": [
      "[XGBoost][Trial 45] AUC Score: 0.9723\n",
      "[XGBoost][Trial 46] Starting optimization with params:\n",
      "[XGBoost][Trial 46] Parameters: {'objective': 'binary:logistic', 'eval_metric': 'auc', 'learning_rate': 0.05727372478474669, 'max_depth': 12, 'min_child_weight': 6.696542240584059, 'gamma': 0.25312596193083053, 'subsample': 0.7892393384758155, 'colsample_bytree': 0.7619511220496913, 'lambda': 1.804275340097074, 'alpha': 4.381232278463576, 'n_estimators': 1000}\n",
      "[XGBoost][Trial 46] Training started...\n",
      "[0]\tvalidation_0-auc:0.84764\n",
      "[100]\tvalidation_0-auc:0.93795\n",
      "[200]\tvalidation_0-auc:0.95436\n",
      "[300]\tvalidation_0-auc:0.96139\n",
      "[400]\tvalidation_0-auc:0.96537\n",
      "[500]\tvalidation_0-auc:0.96811\n",
      "[600]\tvalidation_0-auc:0.96992\n",
      "[700]\tvalidation_0-auc:0.97094\n",
      "[800]\tvalidation_0-auc:0.97169\n",
      "[900]\tvalidation_0-auc:0.97219\n",
      "[999]\tvalidation_0-auc:0.97263\n",
      "[XGBoost][Trial 46] Training completed.\n"
     ]
    },
    {
     "name": "stderr",
     "output_type": "stream",
     "text": [
      "[I 2025-03-19 01:16:14,350] Trial 46 finished with value: 0.9726292292568436 and parameters: {'learning_rate': 0.05727372478474669, 'max_depth': 12, 'min_child_weight': 6.696542240584059, 'gamma': 0.25312596193083053, 'subsample': 0.7892393384758155, 'colsample_bytree': 0.7619511220496913, 'lambda': 1.804275340097074, 'alpha': 4.381232278463576}. Best is trial 27 with value: 0.9752082179571367.\n"
     ]
    },
    {
     "name": "stdout",
     "output_type": "stream",
     "text": [
      "[XGBoost][Trial 46] AUC Score: 0.9726\n",
      "[XGBoost][Trial 47] Starting optimization with params:\n",
      "[XGBoost][Trial 47] Parameters: {'objective': 'binary:logistic', 'eval_metric': 'auc', 'learning_rate': 0.07902889343381816, 'max_depth': 8, 'min_child_weight': 7.223566918467007, 'gamma': 0.6782729360833074, 'subsample': 0.7578307492876973, 'colsample_bytree': 0.7865132743544226, 'lambda': 0.8633337705734037, 'alpha': 0.008263539199093062, 'n_estimators': 1000}\n",
      "[XGBoost][Trial 47] Training started...\n",
      "[0]\tvalidation_0-auc:0.80294\n",
      "[100]\tvalidation_0-auc:0.93100\n",
      "[200]\tvalidation_0-auc:0.94501\n",
      "[300]\tvalidation_0-auc:0.95150\n",
      "[400]\tvalidation_0-auc:0.95665\n",
      "[500]\tvalidation_0-auc:0.96005\n",
      "[600]\tvalidation_0-auc:0.96241\n",
      "[700]\tvalidation_0-auc:0.96472\n",
      "[800]\tvalidation_0-auc:0.96658\n",
      "[900]\tvalidation_0-auc:0.96798\n",
      "[999]\tvalidation_0-auc:0.96917\n",
      "[XGBoost][Trial 47] Training completed.\n"
     ]
    },
    {
     "name": "stderr",
     "output_type": "stream",
     "text": [
      "[I 2025-03-19 01:26:07,824] Trial 47 finished with value: 0.9691757433402538 and parameters: {'learning_rate': 0.07902889343381816, 'max_depth': 8, 'min_child_weight': 7.223566918467007, 'gamma': 0.6782729360833074, 'subsample': 0.7578307492876973, 'colsample_bytree': 0.7865132743544226, 'lambda': 0.8633337705734037, 'alpha': 0.008263539199093062}. Best is trial 27 with value: 0.9752082179571367.\n"
     ]
    },
    {
     "name": "stdout",
     "output_type": "stream",
     "text": [
      "[XGBoost][Trial 47] AUC Score: 0.9692\n",
      "[XGBoost][Trial 48] Starting optimization with params:\n",
      "[XGBoost][Trial 48] Parameters: {'objective': 'binary:logistic', 'eval_metric': 'auc', 'learning_rate': 0.04978294457730683, 'max_depth': 15, 'min_child_weight': 5.028299322319862, 'gamma': 1.4359233147662676, 'subsample': 0.8417090098120228, 'colsample_bytree': 0.6624409118445584, 'lambda': 4.23372246764718, 'alpha': 0.5221731058205054, 'n_estimators': 1000}\n",
      "[XGBoost][Trial 48] Training started...\n",
      "[0]\tvalidation_0-auc:0.86393\n",
      "[100]\tvalidation_0-auc:0.94530\n",
      "[200]\tvalidation_0-auc:0.96089\n",
      "[300]\tvalidation_0-auc:0.96611\n",
      "[400]\tvalidation_0-auc:0.96809\n",
      "[500]\tvalidation_0-auc:0.96892\n",
      "[600]\tvalidation_0-auc:0.96946\n",
      "[700]\tvalidation_0-auc:0.96980\n",
      "[800]\tvalidation_0-auc:0.97014\n",
      "[900]\tvalidation_0-auc:0.97034\n",
      "[999]\tvalidation_0-auc:0.97041\n",
      "[XGBoost][Trial 48] Training completed.\n"
     ]
    },
    {
     "name": "stderr",
     "output_type": "stream",
     "text": [
      "[I 2025-03-19 01:36:29,749] Trial 48 finished with value: 0.9704074858615013 and parameters: {'learning_rate': 0.04978294457730683, 'max_depth': 15, 'min_child_weight': 5.028299322319862, 'gamma': 1.4359233147662676, 'subsample': 0.8417090098120228, 'colsample_bytree': 0.6624409118445584, 'lambda': 4.23372246764718, 'alpha': 0.5221731058205054}. Best is trial 27 with value: 0.9752082179571367.\n"
     ]
    },
    {
     "name": "stdout",
     "output_type": "stream",
     "text": [
      "[XGBoost][Trial 48] AUC Score: 0.9704\n",
      "[XGBoost][Trial 49] Starting optimization with params:\n",
      "[XGBoost][Trial 49] Parameters: {'objective': 'binary:logistic', 'eval_metric': 'auc', 'learning_rate': 0.03973907524592974, 'max_depth': 4, 'min_child_weight': 5.728881488837832, 'gamma': 4.2152414741696695, 'subsample': 0.9171219194849818, 'colsample_bytree': 0.6852835513443649, 'lambda': 2.4476604226961673, 'alpha': 1.4425539076424647, 'n_estimators': 1000}\n",
      "[XGBoost][Trial 49] Training started...\n",
      "[0]\tvalidation_0-auc:0.70453\n",
      "[100]\tvalidation_0-auc:0.87913\n",
      "[200]\tvalidation_0-auc:0.89313\n",
      "[300]\tvalidation_0-auc:0.90014\n",
      "[400]\tvalidation_0-auc:0.90554\n",
      "[500]\tvalidation_0-auc:0.90896\n",
      "[600]\tvalidation_0-auc:0.91227\n",
      "[700]\tvalidation_0-auc:0.91504\n",
      "[800]\tvalidation_0-auc:0.91794\n",
      "[900]\tvalidation_0-auc:0.92018\n",
      "[999]\tvalidation_0-auc:0.92219\n",
      "[XGBoost][Trial 49] Training completed.\n"
     ]
    },
    {
     "name": "stderr",
     "output_type": "stream",
     "text": [
      "[I 2025-03-19 01:45:38,081] Trial 49 finished with value: 0.9221925103067043 and parameters: {'learning_rate': 0.03973907524592974, 'max_depth': 4, 'min_child_weight': 5.728881488837832, 'gamma': 4.2152414741696695, 'subsample': 0.9171219194849818, 'colsample_bytree': 0.6852835513443649, 'lambda': 2.4476604226961673, 'alpha': 1.4425539076424647}. Best is trial 27 with value: 0.9752082179571367.\n"
     ]
    },
    {
     "name": "stdout",
     "output_type": "stream",
     "text": [
      "[XGBoost][Trial 49] AUC Score: 0.9222\n"
     ]
    }
   ],
   "source": [
    "def optuna_xgb(trial):\n",
    "    print(f\"[XGBoost][Trial {trial.number}] Starting optimization with params:\")\n",
    "    \n",
    "    # Define trial hyperparameters\n",
    "    params = {\n",
    "        'objective': 'binary:logistic',\n",
    "        'eval_metric': 'auc',\n",
    "        'learning_rate': trial.suggest_float('learning_rate', 0.01, 0.1),\n",
    "        'max_depth': trial.suggest_int('max_depth', 3, 15),\n",
    "        'min_child_weight': trial.suggest_float('min_child_weight', 1, 10),\n",
    "        'gamma': trial.suggest_float('gamma', 0, 5),\n",
    "        'subsample': trial.suggest_float('subsample', 0.6, 1.0),\n",
    "        'colsample_bytree': trial.suggest_float('colsample_bytree', 0.6, 1.0),\n",
    "        'lambda': trial.suggest_float('lambda', 0, 10),\n",
    "        'alpha': trial.suggest_float('alpha', 0, 10),\n",
    "        'n_estimators': 1000\n",
    "    }\n",
    "    \n",
    "    print(f\"[XGBoost][Trial {trial.number}] Parameters: {params}\")\n",
    "    \n",
    "    # Initialize and train the XGBoost model\n",
    "    model = XGBClassifier(**params, use_label_encoder=False)\n",
    "    print(f\"[XGBoost][Trial {trial.number}] Training started...\")\n",
    "    model.fit(\n",
    "        X_train, y_train,\n",
    "        eval_set=[(X_val, y_val)],\n",
    "        early_stopping_rounds=100,\n",
    "        verbose=100  # Print progress every 100 iterations\n",
    "    )\n",
    "    print(f\"[XGBoost][Trial {trial.number}] Training completed.\")\n",
    "    \n",
    "    # Predict probabilities and calculate AUC\n",
    "    val_pred = model.predict_proba(X_val)[:, 1]\n",
    "    auc_score = roc_auc_score(y_val, val_pred)\n",
    "    print(f\"[XGBoost][Trial {trial.number}] AUC Score: {auc_score:.4f}\")\n",
    "    \n",
    "    return auc_score\n",
    "\n",
    "# Run Optuna study\n",
    "print(\"[XGBoost] Starting hyperparameter optimization with Optuna...\")\n",
    "study_name = \"xgboost_optimization\"\n",
    "study_xgb = optuna.create_study(study_name=study_name, direction=\"maximize\")\n",
    "study_xgb.optimize(optuna_xgb, n_trials=50, n_jobs=1)"
   ]
  },
  {
   "cell_type": "code",
   "execution_count": 5,
   "id": "2bd5bcc0",
   "metadata": {
    "execution": {
     "iopub.execute_input": "2025-03-19T01:45:38.188329Z",
     "iopub.status.busy": "2025-03-19T01:45:38.187867Z",
     "iopub.status.idle": "2025-03-19T01:45:38.197767Z",
     "shell.execute_reply": "2025-03-19T01:45:38.196684Z"
    },
    "papermill": {
     "duration": 0.057636,
     "end_time": "2025-03-19T01:45:38.199790",
     "exception": false,
     "start_time": "2025-03-19T01:45:38.142154",
     "status": "completed"
    },
    "tags": []
   },
   "outputs": [
    {
     "name": "stdout",
     "output_type": "stream",
     "text": [
      "[XGBoost] Best Hyperparameters: {'learning_rate': 0.046102039811631704, 'max_depth': 15, 'min_child_weight': 4.251287229768353, 'gamma': 0.02979780767635686, 'subsample': 0.8370876067609905, 'colsample_bytree': 0.6398296464082214, 'lambda': 5.748245515801523, 'alpha': 0.9514047373597887}\n"
     ]
    }
   ],
   "source": [
    "best_xgb_params = study_xgb.best_params\n",
    "print(f\"[XGBoost] Best Hyperparameters: {best_xgb_params}\")\n",
    "with open(\"xgb_best_params.json\", \"w\") as f:\n",
    "    json.dump(best_xgb_params, f)"
   ]
  },
  {
   "cell_type": "code",
   "execution_count": 6,
   "id": "eba29fbf",
   "metadata": {
    "execution": {
     "iopub.execute_input": "2025-03-19T01:45:38.287137Z",
     "iopub.status.busy": "2025-03-19T01:45:38.286739Z",
     "iopub.status.idle": "2025-03-19T01:47:17.040233Z",
     "shell.execute_reply": "2025-03-19T01:47:17.039177Z"
    },
    "papermill": {
     "duration": 98.800562,
     "end_time": "2025-03-19T01:47:17.042972",
     "exception": false,
     "start_time": "2025-03-19T01:45:38.242410",
     "status": "completed"
    },
    "tags": []
   },
   "outputs": [
    {
     "name": "stdout",
     "output_type": "stream",
     "text": [
      "[0]\tvalidation_0-logloss:0.20197\n",
      "[99]\tvalidation_0-logloss:0.06893\n"
     ]
    },
    {
     "data": {
      "text/html": [
       "<style>#sk-container-id-1 {color: black;background-color: white;}#sk-container-id-1 pre{padding: 0;}#sk-container-id-1 div.sk-toggleable {background-color: white;}#sk-container-id-1 label.sk-toggleable__label {cursor: pointer;display: block;width: 100%;margin-bottom: 0;padding: 0.3em;box-sizing: border-box;text-align: center;}#sk-container-id-1 label.sk-toggleable__label-arrow:before {content: \"▸\";float: left;margin-right: 0.25em;color: #696969;}#sk-container-id-1 label.sk-toggleable__label-arrow:hover:before {color: black;}#sk-container-id-1 div.sk-estimator:hover label.sk-toggleable__label-arrow:before {color: black;}#sk-container-id-1 div.sk-toggleable__content {max-height: 0;max-width: 0;overflow: hidden;text-align: left;background-color: #f0f8ff;}#sk-container-id-1 div.sk-toggleable__content pre {margin: 0.2em;color: black;border-radius: 0.25em;background-color: #f0f8ff;}#sk-container-id-1 input.sk-toggleable__control:checked~div.sk-toggleable__content {max-height: 200px;max-width: 100%;overflow: auto;}#sk-container-id-1 input.sk-toggleable__control:checked~label.sk-toggleable__label-arrow:before {content: \"▾\";}#sk-container-id-1 div.sk-estimator input.sk-toggleable__control:checked~label.sk-toggleable__label {background-color: #d4ebff;}#sk-container-id-1 div.sk-label input.sk-toggleable__control:checked~label.sk-toggleable__label {background-color: #d4ebff;}#sk-container-id-1 input.sk-hidden--visually {border: 0;clip: rect(1px 1px 1px 1px);clip: rect(1px, 1px, 1px, 1px);height: 1px;margin: -1px;overflow: hidden;padding: 0;position: absolute;width: 1px;}#sk-container-id-1 div.sk-estimator {font-family: monospace;background-color: #f0f8ff;border: 1px dotted black;border-radius: 0.25em;box-sizing: border-box;margin-bottom: 0.5em;}#sk-container-id-1 div.sk-estimator:hover {background-color: #d4ebff;}#sk-container-id-1 div.sk-parallel-item::after {content: \"\";width: 100%;border-bottom: 1px solid gray;flex-grow: 1;}#sk-container-id-1 div.sk-label:hover label.sk-toggleable__label {background-color: #d4ebff;}#sk-container-id-1 div.sk-serial::before {content: \"\";position: absolute;border-left: 1px solid gray;box-sizing: border-box;top: 0;bottom: 0;left: 50%;z-index: 0;}#sk-container-id-1 div.sk-serial {display: flex;flex-direction: column;align-items: center;background-color: white;padding-right: 0.2em;padding-left: 0.2em;position: relative;}#sk-container-id-1 div.sk-item {position: relative;z-index: 1;}#sk-container-id-1 div.sk-parallel {display: flex;align-items: stretch;justify-content: center;background-color: white;position: relative;}#sk-container-id-1 div.sk-item::before, #sk-container-id-1 div.sk-parallel-item::before {content: \"\";position: absolute;border-left: 1px solid gray;box-sizing: border-box;top: 0;bottom: 0;left: 50%;z-index: -1;}#sk-container-id-1 div.sk-parallel-item {display: flex;flex-direction: column;z-index: 1;position: relative;background-color: white;}#sk-container-id-1 div.sk-parallel-item:first-child::after {align-self: flex-end;width: 50%;}#sk-container-id-1 div.sk-parallel-item:last-child::after {align-self: flex-start;width: 50%;}#sk-container-id-1 div.sk-parallel-item:only-child::after {width: 0;}#sk-container-id-1 div.sk-dashed-wrapped {border: 1px dashed gray;margin: 0 0.4em 0.5em 0.4em;box-sizing: border-box;padding-bottom: 0.4em;background-color: white;}#sk-container-id-1 div.sk-label label {font-family: monospace;font-weight: bold;display: inline-block;line-height: 1.2em;}#sk-container-id-1 div.sk-label-container {text-align: center;}#sk-container-id-1 div.sk-container {/* jupyter's `normalize.less` sets `[hidden] { display: none; }` but bootstrap.min.css set `[hidden] { display: none !important; }` so we also need the `!important` here to be able to override the default hidden behavior on the sphinx rendered scikit-learn.org. See: https://github.com/scikit-learn/scikit-learn/issues/21755 */display: inline-block !important;position: relative;}#sk-container-id-1 div.sk-text-repr-fallback {display: none;}</style><div id=\"sk-container-id-1\" class=\"sk-top-container\"><div class=\"sk-text-repr-fallback\"><pre>XGBClassifier(alpha=0.9514047373597887, base_score=None, booster=None,\n",
       "              callbacks=None, colsample_bylevel=None, colsample_bynode=None,\n",
       "              colsample_bytree=0.6398296464082214, device=None,\n",
       "              early_stopping_rounds=None, enable_categorical=False,\n",
       "              eval_metric=None, feature_types=None, gamma=0.02979780767635686,\n",
       "              grow_policy=None, importance_type=None,\n",
       "              interaction_constraints=None, lambda=5.748245515801523,\n",
       "              learning_rate=0.046102039811631704, max_bin=None,\n",
       "              max_cat_threshold=None, max_cat_to_onehot=None,\n",
       "              max_delta_step=None, max_depth=15, max_leaves=None,\n",
       "              min_child_weight=4.251287229768353, missing=nan,\n",
       "              monotone_constraints=None, multi_strategy=None, n_estimators=None,\n",
       "              n_jobs=None, ...)</pre><b>In a Jupyter environment, please rerun this cell to show the HTML representation or trust the notebook. <br />On GitHub, the HTML representation is unable to render, please try loading this page with nbviewer.org.</b></div><div class=\"sk-container\" hidden><div class=\"sk-item\"><div class=\"sk-estimator sk-toggleable\"><input class=\"sk-toggleable__control sk-hidden--visually\" id=\"sk-estimator-id-1\" type=\"checkbox\" checked><label for=\"sk-estimator-id-1\" class=\"sk-toggleable__label sk-toggleable__label-arrow\">XGBClassifier</label><div class=\"sk-toggleable__content\"><pre>XGBClassifier(alpha=0.9514047373597887, base_score=None, booster=None,\n",
       "              callbacks=None, colsample_bylevel=None, colsample_bynode=None,\n",
       "              colsample_bytree=0.6398296464082214, device=None,\n",
       "              early_stopping_rounds=None, enable_categorical=False,\n",
       "              eval_metric=None, feature_types=None, gamma=0.02979780767635686,\n",
       "              grow_policy=None, importance_type=None,\n",
       "              interaction_constraints=None, lambda=5.748245515801523,\n",
       "              learning_rate=0.046102039811631704, max_bin=None,\n",
       "              max_cat_threshold=None, max_cat_to_onehot=None,\n",
       "              max_delta_step=None, max_depth=15, max_leaves=None,\n",
       "              min_child_weight=4.251287229768353, missing=nan,\n",
       "              monotone_constraints=None, multi_strategy=None, n_estimators=None,\n",
       "              n_jobs=None, ...)</pre></div></div></div></div></div>"
      ],
      "text/plain": [
       "XGBClassifier(alpha=0.9514047373597887, base_score=None, booster=None,\n",
       "              callbacks=None, colsample_bylevel=None, colsample_bynode=None,\n",
       "              colsample_bytree=0.6398296464082214, device=None,\n",
       "              early_stopping_rounds=None, enable_categorical=False,\n",
       "              eval_metric=None, feature_types=None, gamma=0.02979780767635686,\n",
       "              grow_policy=None, importance_type=None,\n",
       "              interaction_constraints=None, lambda=5.748245515801523,\n",
       "              learning_rate=0.046102039811631704, max_bin=None,\n",
       "              max_cat_threshold=None, max_cat_to_onehot=None,\n",
       "              max_delta_step=None, max_depth=15, max_leaves=None,\n",
       "              min_child_weight=4.251287229768353, missing=nan,\n",
       "              monotone_constraints=None, multi_strategy=None, n_estimators=None,\n",
       "              n_jobs=None, ...)"
      ]
     },
     "execution_count": 6,
     "metadata": {},
     "output_type": "execute_result"
    }
   ],
   "source": [
    "optimized_xgb_model = XGBClassifier(**best_xgb_params, use_label_encoder=False)\n",
    "optimized_xgb_model.fit(\n",
    "    X_train, y_train,\n",
    "    eval_set=[(X_val, y_val)],\n",
    "    early_stopping_rounds=100,\n",
    "    verbose=100\n",
    ")"
   ]
  },
  {
   "cell_type": "code",
   "execution_count": 7,
   "id": "0404556f",
   "metadata": {
    "execution": {
     "iopub.execute_input": "2025-03-19T01:47:17.135831Z",
     "iopub.status.busy": "2025-03-19T01:47:17.135421Z",
     "iopub.status.idle": "2025-03-19T01:47:17.158484Z",
     "shell.execute_reply": "2025-03-19T01:47:17.157525Z"
    },
    "papermill": {
     "duration": 0.068124,
     "end_time": "2025-03-19T01:47:17.160227",
     "exception": false,
     "start_time": "2025-03-19T01:47:17.092103",
     "status": "completed"
    },
    "tags": []
   },
   "outputs": [
    {
     "data": {
      "text/plain": [
       "['optimized_xgb_model.pkl']"
      ]
     },
     "execution_count": 7,
     "metadata": {},
     "output_type": "execute_result"
    }
   ],
   "source": [
    "joblib.dump(optimized_xgb_model, \"optimized_xgb_model.pkl\")"
   ]
  },
  {
   "cell_type": "code",
   "execution_count": 8,
   "id": "a60aacab",
   "metadata": {
    "execution": {
     "iopub.execute_input": "2025-03-19T01:47:17.264439Z",
     "iopub.status.busy": "2025-03-19T01:47:17.263837Z",
     "iopub.status.idle": "2025-03-19T01:47:18.455199Z",
     "shell.execute_reply": "2025-03-19T01:47:18.454147Z"
    },
    "papermill": {
     "duration": 1.248619,
     "end_time": "2025-03-19T01:47:18.457222",
     "exception": false,
     "start_time": "2025-03-19T01:47:17.208603",
     "status": "completed"
    },
    "tags": []
   },
   "outputs": [],
   "source": [
    "val_pred = optimized_xgb_model.predict_proba(X_val)[:, 1]\n",
    "val_predictions = pd.DataFrame({'isFraud': y_val.values, 'predicted': val_pred})\n",
    "val_predictions.to_csv(\"xgb_val_predictions.csv\", index=False)"
   ]
  },
  {
   "cell_type": "code",
   "execution_count": 9,
   "id": "3031105b",
   "metadata": {
    "execution": {
     "iopub.execute_input": "2025-03-19T01:47:18.545849Z",
     "iopub.status.busy": "2025-03-19T01:47:18.545427Z",
     "iopub.status.idle": "2025-03-19T01:47:18.588468Z",
     "shell.execute_reply": "2025-03-19T01:47:18.587312Z"
    },
    "papermill": {
     "duration": 0.089891,
     "end_time": "2025-03-19T01:47:18.590450",
     "exception": false,
     "start_time": "2025-03-19T01:47:18.500559",
     "status": "completed"
    },
    "tags": []
   },
   "outputs": [
    {
     "name": "stdout",
     "output_type": "stream",
     "text": [
      "Validation AUC: 0.9418\n"
     ]
    }
   ],
   "source": [
    "val_auc = roc_auc_score(y_val, val_pred)\n",
    "print(f\"Validation AUC: {val_auc:.4f}\")"
   ]
  },
  {
   "cell_type": "code",
   "execution_count": 10,
   "id": "25478270",
   "metadata": {
    "execution": {
     "iopub.execute_input": "2025-03-19T01:47:18.677543Z",
     "iopub.status.busy": "2025-03-19T01:47:18.677166Z",
     "iopub.status.idle": "2025-03-19T01:47:28.081011Z",
     "shell.execute_reply": "2025-03-19T01:47:28.079827Z"
    },
    "papermill": {
     "duration": 9.449587,
     "end_time": "2025-03-19T01:47:28.083108",
     "exception": false,
     "start_time": "2025-03-19T01:47:18.633521",
     "status": "completed"
    },
    "tags": []
   },
   "outputs": [],
   "source": [
    "test_predictions = optimized_xgb_model.predict_proba(X_test)[:, 1]\n",
    "\n",
    "# Save test predictions for submission\n",
    "submission = pd.DataFrame(\n",
    "    {'TransactionID': test['TransactionID'], 'isFraud': test_predictions}\n",
    ")\n",
    "submission.to_csv(\"submission.csv\", index=False)\n",
    "submission.to_csv(\"xgb_test_predictions.csv\", index=False)"
   ]
  },
  {
   "cell_type": "code",
   "execution_count": 11,
   "id": "51f54225",
   "metadata": {
    "execution": {
     "iopub.execute_input": "2025-03-19T01:47:28.170902Z",
     "iopub.status.busy": "2025-03-19T01:47:28.170475Z",
     "iopub.status.idle": "2025-03-19T01:47:28.498652Z",
     "shell.execute_reply": "2025-03-19T01:47:28.497265Z"
    },
    "papermill": {
     "duration": 0.374594,
     "end_time": "2025-03-19T01:47:28.501179",
     "exception": true,
     "start_time": "2025-03-19T01:47:28.126585",
     "status": "failed"
    },
    "tags": []
   },
   "outputs": [
    {
     "ename": "ValueError",
     "evalue": "Classification metrics can't handle a mix of binary and continuous targets",
     "output_type": "error",
     "traceback": [
      "\u001b[0;31m---------------------------------------------------------------------------\u001b[0m",
      "\u001b[0;31mValueError\u001b[0m                                Traceback (most recent call last)",
      "\u001b[0;32m<ipython-input-11-d9843f0b737e>\u001b[0m in \u001b[0;36m<cell line: 1>\u001b[0;34m()\u001b[0m\n\u001b[0;32m----> 1\u001b[0;31m \u001b[0mclassification_report\u001b[0m\u001b[0;34m(\u001b[0m\u001b[0my_val\u001b[0m\u001b[0;34m,\u001b[0m\u001b[0mval_pred\u001b[0m\u001b[0;34m)\u001b[0m\u001b[0;34m\u001b[0m\u001b[0;34m\u001b[0m\u001b[0m\n\u001b[0m",
      "\u001b[0;32m/usr/local/lib/python3.10/dist-packages/sklearn/metrics/_classification.py\u001b[0m in \u001b[0;36mclassification_report\u001b[0;34m(y_true, y_pred, labels, target_names, sample_weight, digits, output_dict, zero_division)\u001b[0m\n\u001b[1;32m   2308\u001b[0m     \"\"\"\n\u001b[1;32m   2309\u001b[0m \u001b[0;34m\u001b[0m\u001b[0m\n\u001b[0;32m-> 2310\u001b[0;31m     \u001b[0my_type\u001b[0m\u001b[0;34m,\u001b[0m \u001b[0my_true\u001b[0m\u001b[0;34m,\u001b[0m \u001b[0my_pred\u001b[0m \u001b[0;34m=\u001b[0m \u001b[0m_check_targets\u001b[0m\u001b[0;34m(\u001b[0m\u001b[0my_true\u001b[0m\u001b[0;34m,\u001b[0m \u001b[0my_pred\u001b[0m\u001b[0;34m)\u001b[0m\u001b[0;34m\u001b[0m\u001b[0;34m\u001b[0m\u001b[0m\n\u001b[0m\u001b[1;32m   2311\u001b[0m \u001b[0;34m\u001b[0m\u001b[0m\n\u001b[1;32m   2312\u001b[0m     \u001b[0;32mif\u001b[0m \u001b[0mlabels\u001b[0m \u001b[0;32mis\u001b[0m \u001b[0;32mNone\u001b[0m\u001b[0;34m:\u001b[0m\u001b[0;34m\u001b[0m\u001b[0;34m\u001b[0m\u001b[0m\n",
      "\u001b[0;32m/usr/local/lib/python3.10/dist-packages/sklearn/metrics/_classification.py\u001b[0m in \u001b[0;36m_check_targets\u001b[0;34m(y_true, y_pred)\u001b[0m\n\u001b[1;32m     93\u001b[0m \u001b[0;34m\u001b[0m\u001b[0m\n\u001b[1;32m     94\u001b[0m     \u001b[0;32mif\u001b[0m \u001b[0mlen\u001b[0m\u001b[0;34m(\u001b[0m\u001b[0my_type\u001b[0m\u001b[0;34m)\u001b[0m \u001b[0;34m>\u001b[0m \u001b[0;36m1\u001b[0m\u001b[0;34m:\u001b[0m\u001b[0;34m\u001b[0m\u001b[0;34m\u001b[0m\u001b[0m\n\u001b[0;32m---> 95\u001b[0;31m         raise ValueError(\n\u001b[0m\u001b[1;32m     96\u001b[0m             \"Classification metrics can't handle a mix of {0} and {1} targets\".format(\n\u001b[1;32m     97\u001b[0m                 \u001b[0mtype_true\u001b[0m\u001b[0;34m,\u001b[0m \u001b[0mtype_pred\u001b[0m\u001b[0;34m\u001b[0m\u001b[0;34m\u001b[0m\u001b[0m\n",
      "\u001b[0;31mValueError\u001b[0m: Classification metrics can't handle a mix of binary and continuous targets"
     ]
    }
   ],
   "source": [
    "classification_report(y_val,val_pred)"
   ]
  }
 ],
 "metadata": {
  "kaggle": {
   "accelerator": "none",
   "dataSources": [
    {
     "databundleVersionId": 568274,
     "sourceId": 14242,
     "sourceType": "competition"
    }
   ],
   "isGpuEnabled": false,
   "isInternetEnabled": true,
   "language": "python",
   "sourceType": "notebook"
  },
  "kernelspec": {
   "display_name": "Python 3",
   "language": "python",
   "name": "python3"
  },
  "language_info": {
   "codemirror_mode": {
    "name": "ipython",
    "version": 3
   },
   "file_extension": ".py",
   "mimetype": "text/x-python",
   "name": "python",
   "nbconvert_exporter": "python",
   "pygments_lexer": "ipython3",
   "version": "3.10.12"
  },
  "papermill": {
   "default_parameters": {},
   "duration": 33873.444736,
   "end_time": "2025-03-19T01:47:31.550545",
   "environment_variables": {},
   "exception": true,
   "input_path": "__notebook__.ipynb",
   "output_path": "__notebook__.ipynb",
   "parameters": {},
   "start_time": "2025-03-18T16:22:58.105809",
   "version": "2.6.0"
  }
 },
 "nbformat": 4,
 "nbformat_minor": 5
}
